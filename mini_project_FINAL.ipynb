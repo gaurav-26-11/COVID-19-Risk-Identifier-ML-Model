{
  "cells": [
    {
      "cell_type": "markdown",
      "metadata": {
        "id": "view-in-github",
        "colab_type": "text"
      },
      "source": [
        "<a href=\"https://colab.research.google.com/github/gaurav-26-11/COVID-19-Risk-Identifier-ML-Model/blob/main/mini_project_FINAL.ipynb\" target=\"_parent\"><img src=\"https://colab.research.google.com/assets/colab-badge.svg\" alt=\"Open In Colab\"/></a>"
      ]
    },
    {
      "cell_type": "code",
      "execution_count": null,
      "metadata": {
        "id": "DS7EfbtNAltv"
      },
      "outputs": [],
      "source": [
        ""
      ]
    },
    {
      "cell_type": "code",
      "execution_count": null,
      "metadata": {
        "colab": {
          "base_uri": "https://localhost:8080/"
        },
        "id": "7vw2FMR6HthI",
        "outputId": "c9f3b25b-7b80-4f6e-e79d-57ae4f808d10",
        "scrolled": true
      },
      "outputs": [
        {
          "output_type": "stream",
          "name": "stdout",
          "text": [
            "[97, 104, 104, 96, 98, 99, 98, 96, 96, 96, 102, 96, 102, 99, 103, 105, 98, 99, 105, 96, 103, 98, 102, 101, 99, 101, 96, 104, 97, 100, 96, 99, 96, 98, 97, 102, 96, 96, 100, 103, 103, 99, 99, 104, 97, 103, 103, 99, 100, 105, 97, 102, 98, 96, 105, 104, 104, 97, 100, 96, 105, 101, 97, 104, 98, 103, 96, 102, 100, 96, 98, 100, 101, 104, 100, 96, 97, 97, 104, 105, 104, 96, 105, 99, 99, 96, 97, 103, 104, 101, 104, 103, 100, 96, 97, 100, 102, 104, 98, 98, 101, 100, 102, 102, 98, 103, 105, 104, 101, 102, 102, 99, 101, 96, 101, 103, 103, 102, 96, 103, 98, 100, 96, 97, 101, 96, 100, 100, 105, 104, 100, 100, 104, 99, 101, 104, 104, 97, 102, 100, 96, 96, 98, 105, 98, 103, 102, 103, 105, 97, 98, 103, 103, 102, 97, 96, 105, 100, 96, 103, 101, 103, 105, 103, 102, 99, 102, 102, 102, 104, 103, 100, 100, 97, 103, 103, 102, 99, 104, 105, 98, 104, 99, 100, 102, 104, 99, 98, 105, 99, 102, 104, 105, 103, 96, 96, 105, 103, 99, 102, 97, 96, 104, 100, 99, 102, 98, 99, 100, 103, 102, 105, 100, 105, 104, 99, 105, 99, 100, 101, 97, 96, 104, 98, 100, 104, 103, 100, 97, 104, 99, 104, 102, 97, 99, 102, 98, 97, 101, 103, 101, 100, 102, 103, 105, 100, 101, 103, 101, 96, 104, 96, 104, 101, 104, 97, 97, 98, 97, 105, 104, 101, 97, 100, 96, 96, 99, 100, 101, 96, 105, 96, 98, 98, 101, 97, 105, 96, 105, 104, 99, 97, 96, 103, 105, 103, 103, 96, 104, 103, 105, 96, 97, 104, 101, 98, 97, 104, 97, 102, 99, 105, 101, 98, 103, 101, 105, 98, 102, 103, 104, 96, 102, 100, 105, 104, 99, 98, 97, 98, 99, 101, 97, 102, 98, 96, 98, 101, 97, 98, 105, 96, 96, 97, 104, 103, 96, 96, 105, 99, 104, 102, 102, 98, 105, 96, 97, 98, 100, 104, 99, 103, 98, 98, 105, 103, 100, 98, 104, 104, 101, 104, 103, 99, 96, 102, 100, 105, 100, 104, 99, 96, 105, 100, 96, 101, 102, 105, 96, 105, 103, 100, 96, 96, 97, 104, 99, 98, 100, 101, 97, 102, 99, 101, 96, 98, 99, 96, 96, 99, 96, 98, 105, 104, 97, 97, 96, 99, 99, 103, 104, 100, 102, 100, 101, 101, 98, 105, 96, 98, 96, 105, 104, 102, 99, 101, 99, 105, 105, 96, 105, 103, 97, 96, 98, 104, 101, 100, 103, 105, 96, 103, 96, 104, 97, 100, 97, 96, 101, 100, 104, 97, 98, 99, 102, 96, 97, 102, 102, 96, 103, 98, 99, 105, 101, 100, 104, 97, 105, 98, 102, 102, 102, 101, 104, 99, 98, 102, 104, 105, 104, 102, 102, 104, 96, 99, 104, 102, 98, 97, 103, 101, 100, 99, 105, 101, 98, 104, 99, 100, 98, 102, 103, 103, 98, 98, 103, 96, 105, 100, 100, 97, 99, 104, 99, 98, 97, 104, 100, 104, 98, 96, 97, 96, 105, 98, 101, 105, 101, 101, 96, 96, 97, 98, 103, 96, 96, 102, 99, 98, 104, 105, 96, 103, 100, 97, 104, 102, 97, 102, 105, 100, 97, 102, 103, 96, 101, 97, 97, 99, 101, 104, 100, 102, 102, 103, 104, 96, 98, 100, 99, 97, 102, 103, 105, 104, 100, 104, 102, 103, 100, 99, 103, 96, 102, 100, 101, 97, 96, 96, 105, 105, 101, 103, 97, 105, 97, 97, 102, 97, 102, 103, 103, 105, 96, 102, 102, 97, 105, 98, 97, 96, 97, 100, 103, 105, 101, 104, 97, 100, 101, 102, 103, 105, 105, 96, 105, 100, 101, 103, 97, 101, 101, 104, 100, 98, 99, 98, 105, 96, 100, 99, 97, 105, 96, 101, 104, 103, 99, 105, 98, 96, 103, 103, 102, 98, 96, 99, 102, 100, 104, 101, 103, 97, 102, 101, 104, 104, 102, 100, 102, 101, 101, 97, 101, 100, 100, 98, 98, 97, 100, 102, 104, 99, 102, 104, 100, 99, 102, 99, 103, 99, 103, 100, 101, 105, 97, 96, 97, 96, 104, 99, 101, 103, 104, 104, 98, 100, 96, 104, 101, 103, 99, 105, 99, 102, 103, 99, 97, 98, 105, 101, 101, 102, 99, 100, 97, 96, 96, 96, 101, 98, 103, 103, 105, 102, 102, 100, 103, 97, 105, 102, 99, 98, 100, 104, 96, 97, 99, 96, 104, 102, 98, 100, 104, 102, 104, 105, 99, 105, 98, 100, 102, 103, 98, 99, 104, 98, 102, 98, 102, 97, 97, 105, 100, 103, 97, 101, 97, 96, 96, 99, 98, 97, 102, 105, 104, 105, 98, 105, 96, 105, 104, 103, 101, 105, 101, 102, 105, 104, 101, 104, 103, 99, 104, 104, 97, 103, 99, 103, 102, 98, 100, 101, 99, 104, 97, 96, 97, 98, 99, 98, 98, 96, 105, 100, 98, 97, 99, 99, 105, 97, 104, 101, 104, 100, 102, 103, 103, 96, 100, 105, 98, 98, 102, 98, 97, 103, 99, 101, 105, 103, 104, 96, 102, 105, 105, 100, 102, 100, 103, 102, 100, 99, 96, 98, 97, 97, 104, 101, 99, 96, 97, 103, 102, 96, 104, 104, 105, 99, 96, 100, 100, 105, 101, 98, 101, 103, 98, 101, 97, 101, 97, 102, 98, 96, 97, 97, 101, 96, 97, 98, 104, 103, 98, 97, 98, 101, 99, 99, 104, 96, 105, 102, 102, 96, 98, 99, 101, 96, 102, 99, 97, 96, 103, 104, 103, 100, 97, 97, 100, 96, 96, 100, 103, 99, 97, 102, 97, 97, 102, 99, 98, 99, 98, 102, 101, 100, 103, 99, 99, 100, 99, 100, 103, 96, 104, 96, 97, 103, 98, 103, 103, 97, 100, 102, 103, 101, 97, 105, 98, 101, 103, 97, 103, 101, 102, 99, 96, 96, 102, 97, 100, 102, 105, 99, 104, 102, 103, 96, 98, 101, 104, 98, 98, 101, 105, 101, 97, 102]\n",
            "[96, 90, 89, 86, 91, 88, 91, 90, 87, 85, 93, 92, 86, 97, 97, 88, 92, 88, 95, 96, 99, 91, 98, 97, 94, 89, 89, 88, 87, 93, 85, 92, 91, 86, 91, 99, 92, 87, 98, 85, 92, 94, 96, 92, 93, 97, 88, 91, 98, 88, 98, 90, 92, 95, 94, 93, 86, 86, 86, 97, 91, 88, 90, 95, 85, 91, 88, 94, 96, 94, 92, 96, 97, 88, 98, 94, 97, 93, 99, 85, 92, 92, 88, 91, 86, 99, 96, 93, 85, 96, 96, 85, 86, 85, 86, 90, 88, 96, 86, 92, 99, 88, 85, 85, 85, 96, 86, 96, 90, 85, 90, 86, 98, 96, 99, 88, 87, 99, 90, 89, 85, 93, 88, 94, 92, 96, 95, 88, 94, 98, 90, 92, 93, 96, 93, 95, 97, 97, 95, 98, 94, 96, 94, 90, 95, 89, 94, 85, 91, 87, 85, 85, 99, 93, 88, 92, 98, 88, 90, 95, 90, 95, 95, 92, 87, 97, 94, 99, 89, 94, 85, 95, 94, 95, 90, 96, 87, 89, 94, 92, 96, 95, 94, 86, 93, 98, 96, 88, 98, 93, 86, 90, 94, 90, 95, 97, 91, 92, 99, 86, 85, 88, 85, 88, 85, 93, 93, 94, 96, 94, 87, 86, 96, 86, 85, 90, 97, 95, 93, 95, 95, 88, 87, 85, 89, 93, 85, 91, 86, 92, 90, 88, 93, 95, 95, 89, 86, 95, 97, 96, 97, 96, 94, 97, 96, 85, 87, 96, 87, 93, 91, 85, 99, 95, 88, 99, 91, 95, 96, 92, 96, 96, 94, 86, 87, 96, 91, 98, 94, 97, 85, 98, 92, 96, 92, 85, 95, 92, 91, 97, 88, 93, 86, 91, 97, 88, 87, 96, 86, 88, 98, 87, 93, 86, 97, 91, 87, 97, 85, 91, 86, 85, 93, 86, 99, 94, 97, 97, 91, 89, 96, 99, 85, 89, 92, 89, 92, 87, 88, 90, 96, 97, 95, 91, 95, 88, 96, 87, 90, 93, 97, 86, 99, 87, 88, 95, 95, 86, 87, 90, 95, 96, 94, 91, 98, 87, 93, 95, 89, 88, 88, 99, 86, 94, 97, 90, 89, 99, 87, 86, 85, 86, 92, 97, 90, 93, 88, 89, 88, 87, 91, 96, 88, 90, 86, 96, 85, 92, 98, 93, 97, 97, 92, 98, 90, 91, 98, 89, 97, 87, 99, 93, 96, 86, 91, 95, 97, 88, 86, 91, 90, 99, 92, 86, 98, 87, 90, 86, 98, 93, 98, 86, 92, 88, 91, 92, 85, 92, 95, 97, 89, 99, 98, 96, 95, 91, 99, 86, 88, 86, 89, 92, 86, 92, 97, 97, 95, 93, 89, 95, 90, 95, 90, 95, 95, 94, 96, 88, 94, 86, 95, 95, 86, 95, 87, 93, 90, 86, 88, 85, 94, 98, 94, 97, 99, 96, 99, 89, 90, 98, 88, 91, 96, 95, 88, 93, 92, 99, 91, 94, 87, 97, 86, 88, 91, 99, 85, 96, 98, 95, 91, 86, 86, 93, 96, 99, 92, 90, 93, 89, 96, 92, 94, 97, 87, 94, 88, 87, 85, 94, 87, 87, 90, 97, 93, 96, 98, 93, 85, 88, 99, 92, 90, 99, 89, 96, 97, 98, 89, 89, 88, 98, 85, 87, 94, 86, 85, 89, 92, 90, 99, 86, 92, 86, 91, 89, 94, 85, 91, 94, 88, 99, 98, 89, 90, 96, 92, 93, 91, 95, 97, 91, 94, 94, 99, 96, 93, 88, 94, 90, 96, 92, 89, 90, 99, 90, 93, 85, 86, 99, 97, 96, 92, 99, 93, 93, 89, 88, 94, 88, 96, 90, 90, 98, 93, 97, 87, 96, 87, 94, 97, 90, 90, 99, 91, 87, 89, 92, 86, 87, 91, 99, 94, 92, 89, 90, 95, 91, 96, 98, 98, 89, 99, 88, 96, 89, 88, 91, 98, 87, 85, 96, 91, 89, 97, 92, 93, 95, 91, 97, 98, 86, 97, 98, 97, 87, 89, 98, 96, 97, 87, 92, 90, 86, 86, 88, 87, 85, 92, 95, 88, 85, 86, 98, 89, 89, 93, 92, 89, 88, 99, 97, 87, 96, 87, 95, 97, 95, 93, 91, 86, 95, 91, 99, 98, 86, 91, 94, 90, 97, 95, 96, 90, 99, 92, 89, 90, 88, 99, 92, 90, 97, 94, 97, 85, 98, 95, 99, 93, 98, 96, 92, 97, 95, 85, 94, 95, 92, 97, 95, 92, 88, 97, 86, 91, 97, 88, 85, 94, 94, 93, 88, 94, 87, 95, 86, 85, 89, 96, 98, 96, 98, 86, 97, 90, 92, 91, 87, 95, 90, 91, 89, 96, 99, 86, 94, 97, 93, 93, 89, 98, 96, 87, 87, 99, 92, 92, 88, 86, 96, 92, 91, 88, 91, 92, 92, 92, 99, 96, 86, 92, 96, 86, 92, 93, 96, 96, 98, 97, 86, 93, 99, 89, 93, 96, 98, 92, 93, 88, 92, 89, 88, 99, 89, 92, 93, 98, 87, 98, 94, 95, 91, 97, 87, 99, 91, 97, 96, 90, 95, 99, 90, 88, 93, 95, 89, 87, 86, 95, 99, 96, 86, 97, 94, 87, 87, 92, 98, 92, 99, 89, 96, 89, 90, 92, 99, 92, 92, 96, 94, 89, 92, 85, 87, 85, 98, 95, 93, 85, 90, 89, 91, 97, 89, 99, 88, 97, 95, 92, 91, 96, 93, 89, 87, 92, 91, 94, 92, 98, 99, 96, 99, 85, 87, 85, 92, 91, 89, 98, 94, 87, 91, 98, 85, 91, 90, 86, 90, 96, 86, 88, 90, 88, 87, 85, 96, 99, 96, 86, 99, 99, 88, 89, 95, 95, 92, 97, 89, 86, 94, 99, 89, 92, 89, 89, 85, 91, 86, 92, 90, 88, 86, 94, 99, 95, 95, 93, 94, 86, 89, 95, 85, 99, 95, 93, 88, 93, 98, 98, 86, 96, 88, 86, 91, 98, 92, 86, 87, 97, 90, 91, 91, 88, 86, 90, 93, 98, 96, 92, 98, 96, 97, 85, 88, 90, 92, 85, 92, 98, 89, 95, 91, 90, 89, 87, 99, 88, 98, 91, 94, 97, 98, 95, 96, 85, 98, 85, 93, 87, 93]\n",
            "[118, 122, 63, 107, 92, 79, 118, 128, 68, 114, 98, 106, 72, 62, 101, 108, 69, 81, 92, 60, 121, 91, 76, 67, 71, 116, 82, 97, 120, 102, 124, 75, 90, 86, 70, 81, 74, 98, 63, 68, 72, 119, 77, 94, 69, 110, 115, 92, 97, 72, 86, 107, 74, 122, 114, 128, 88, 130, 93, 115, 107, 64, 104, 77, 86, 107, 119, 95, 127, 105, 66, 125, 79, 81, 107, 75, 85, 102, 111, 61, 109, 67, 111, 85, 89, 125, 73, 116, 120, 123, 93, 120, 103, 66, 96, 106, 109, 74, 115, 119, 82, 105, 102, 74, 63, 90, 81, 113, 127, 130, 111, 67, 78, 103, 80, 94, 108, 104, 112, 110, 118, 124, 91, 95, 84, 91, 67, 119, 115, 76, 106, 61, 110, 117, 103, 67, 62, 110, 103, 129, 69, 81, 100, 122, 105, 109, 92, 86, 127, 93, 95, 61, 117, 103, 119, 62, 92, 121, 126, 104, 125, 76, 81, 84, 71, 115, 81, 120, 62, 121, 128, 125, 63, 100, 76, 92, 67, 84, 128, 67, 101, 125, 66, 66, 115, 95, 109, 88, 121, 121, 86, 87, 105, 92, 72, 115, 68, 92, 127, 87, 105, 67, 95, 79, 110, 113, 93, 62, 113, 98, 87, 120, 74, 91, 90, 61, 118, 102, 123, 95, 115, 81, 89, 82, 93, 130, 109, 105, 94, 112, 115, 120, 129, 107, 97, 67, 61, 90, 120, 95, 122, 81, 73, 60, 115, 125, 104, 80, 97, 130, 86, 79, 69, 102, 60, 128, 100, 91, 77, 121, 86, 121, 118, 119, 98, 113, 98, 126, 93, 101, 60, 81, 107, 95, 127, 67, 100, 63, 72, 85, 66, 107, 100, 90, 93, 122, 102, 126, 91, 117, 61, 124, 70, 112, 127, 122, 107, 94, 84, 98, 80, 97, 60, 127, 128, 123, 120, 116, 69, 121, 119, 71, 95, 129, 127, 73, 76, 63, 65, 123, 95, 96, 66, 62, 115, 69, 78, 89, 118, 68, 65, 80, 102, 68, 60, 96, 71, 116, 119, 78, 114, 83, 93, 95, 77, 64, 100, 96, 123, 126, 60, 124, 87, 119, 88, 64, 72, 99, 79, 67, 112, 94, 65, 82, 128, 109, 121, 70, 91, 82, 93, 87, 86, 129, 104, 90, 95, 71, 104, 95, 106, 64, 77, 82, 121, 71, 110, 95, 103, 128, 104, 72, 109, 117, 124, 90, 97, 97, 82, 83, 79, 104, 124, 105, 66, 77, 129, 109, 116, 79, 85, 129, 107, 95, 103, 124, 122, 108, 118, 128, 75, 89, 81, 64, 115, 70, 68, 79, 77, 73, 130, 119, 106, 93, 130, 68, 121, 61, 68, 119, 85, 76, 74, 99, 105, 106, 89, 128, 83, 87, 67, 60, 129, 90, 70, 128, 63, 70, 105, 117, 75, 118, 106, 119, 76, 60, 107, 87, 129, 67, 64, 66, 116, 81, 112, 118, 120, 119, 70, 118, 105, 110, 98, 87, 67, 108, 98, 121, 105, 78, 128, 78, 99, 93, 69, 119, 125, 105, 113, 88, 97, 84, 81, 77, 105, 91, 114, 107, 99, 118, 72, 75, 101, 97, 94, 127, 81, 109, 90, 118, 124, 116, 74, 112, 116, 77, 99, 94, 87, 127, 114, 124, 95, 93, 96, 74, 127, 102, 118, 104, 90, 61, 78, 126, 130, 107, 77, 98, 95, 108, 61, 65, 94, 117, 66, 84, 92, 119, 107, 102, 129, 121, 113, 73, 130, 126, 110, 93, 106, 101, 89, 63, 96, 64, 87, 65, 83, 96, 71, 97, 97, 118, 123, 69, 60, 85, 117, 98, 109, 117, 71, 87, 125, 119, 80, 74, 123, 125, 117, 103, 82, 124, 82, 104, 123, 129, 99, 68, 69, 68, 85, 93, 105, 115, 85, 78, 78, 125, 98, 125, 108, 88, 84, 121, 130, 86, 84, 63, 119, 127, 110, 102, 72, 113, 118, 88, 85, 99, 111, 108, 80, 66, 123, 110, 104, 74, 78, 98, 99, 109, 71, 79, 100, 91, 90, 103, 127, 102, 123, 109, 80, 107, 69, 110, 69, 91, 60, 80, 73, 111, 71, 114, 68, 89, 101, 71, 113, 99, 129, 65, 123, 71, 94, 72, 89, 120, 85, 60, 111, 102, 68, 120, 81, 117, 110, 60, 107, 97, 130, 91, 114, 79, 104, 87, 63, 127, 121, 104, 71, 62, 66, 79, 97, 92, 95, 99, 80, 104, 67, 115, 88, 63, 76, 80, 68, 114, 96, 105, 108, 83, 116, 118, 115, 87, 110, 68, 102, 118, 63, 124, 90, 87, 130, 128, 122, 60, 127, 76, 99, 85, 90, 129, 114, 89, 78, 66, 78, 127, 62, 88, 100, 106, 111, 85, 112, 95, 117, 71, 62, 80, 108, 112, 125, 108, 78, 110, 108, 101, 80, 119, 122, 100, 83, 125, 103, 111, 121, 73, 108, 75, 87, 123, 107, 64, 105, 71, 101, 107, 111, 83, 109, 126, 80, 108, 120, 124, 85, 105, 84, 129, 92, 64, 63, 70, 115, 118, 60, 65, 122, 127, 93, 81, 104, 106, 112, 103, 76, 98, 106, 108, 128, 107, 64, 122, 116, 119, 88, 110, 103, 97, 76, 70, 62, 73, 72, 68, 107, 91, 93, 65, 84, 78, 69, 99, 73, 97, 110, 107, 75, 74, 122, 80, 79, 66, 88, 79, 69, 64, 119, 82, 105, 100, 121, 62, 85, 99, 96, 78, 96, 83, 119, 111, 124, 73, 81, 106, 108, 103, 79, 79, 119, 113, 86, 84, 72, 84, 74, 123, 83, 103, 108, 91, 62, 90, 68, 128, 109, 109, 114, 64, 90, 110, 60, 99, 122, 81, 112, 112, 96, 73, 95, 97, 71, 122, 129, 80, 104, 121, 61, 130, 68, 118, 68, 92, 65, 68, 95, 94, 90, 61, 87, 71, 127, 86, 101, 64, 90, 97, 69, 70, 99, 80, 120, 102, 110, 92, 115, 105, 123, 80, 128, 92, 129, 62, 100, 108, 65, 118, 114, 64, 80, 95, 129, 90, 128, 112, 114, 105, 83, 87, 116, 126, 67, 79, 101, 91, 128, 81, 107, 113, 77, 61, 120, 116, 89, 116, 114, 109, 92, 128]\n"
          ]
        }
      ],
      "source": [
        "from pandas import DataFrame\n",
        "from random import randint\n",
        "import random\n",
        "lst_tmp = []\n",
        "lst_oxy = []\n",
        "lst_hrt = []\n",
        "\n",
        "for i in range(0, 1000):\n",
        "    \n",
        "    tmp = randint(96,105)\n",
        "    oxy = randint(85,99)\n",
        "    hrt = randint(60,130)\n",
        "\n",
        "\n",
        "    lst_tmp.append(tmp)\n",
        "    lst_oxy.append(oxy)\n",
        "    lst_hrt.append(hrt)\n",
        "    \n",
        "random.shuffle(lst_tmp)\n",
        "random.shuffle(lst_oxy)\n",
        "random.shuffle(lst_hrt)      \n",
        "print(lst_tmp)\n",
        "print(lst_oxy)\n",
        "print(lst_hrt)\n"
      ]
    },
    {
      "cell_type": "code",
      "execution_count": null,
      "metadata": {
        "colab": {
          "base_uri": "https://localhost:8080/"
        },
        "id": "5ZjSBvghP2z2",
        "outputId": "c13bba55-e4f7-4c16-8ca0-8e40bdadccdf"
      },
      "outputs": [
        {
          "output_type": "execute_result",
          "data": {
            "text/plain": [
              "array([[ 97., 104., 104., ..., 101.,  97., 102.],\n",
              "       [ 96.,  90.,  89., ...,  93.,  87.,  93.],\n",
              "       [118., 122.,  63., ..., 109.,  92., 128.]])"
            ]
          },
          "metadata": {},
          "execution_count": 2
        }
      ],
      "source": [
        "import numpy\n",
        "\n",
        "x = lst_tmp\n",
        "y = lst_oxy\n",
        "z = lst_hrt\n",
        "A = numpy.array((x, y, z), dtype=float)\n",
        "A"
      ]
    },
    {
      "cell_type": "code",
      "execution_count": null,
      "metadata": {
        "colab": {
          "base_uri": "https://localhost:8080/"
        },
        "id": "uHeVFFafRK8f",
        "outputId": "455f4cd7-ee78-4cdc-ad00-db580814bc96",
        "scrolled": false
      },
      "outputs": [
        {
          "output_type": "stream",
          "name": "stdout",
          "text": [
            "[[ 97.  96. 118.]\n",
            " [104.  90. 122.]\n",
            " [104.  89.  63.]\n",
            " ...\n",
            " [101.  93. 109.]\n",
            " [ 97.  87.  92.]\n",
            " [102.  93. 128.]]\n"
          ]
        }
      ],
      "source": [
        "AT= A.T   #transposing the matrix presentation using numpy\n",
        "print(AT)"
      ]
    },
    {
      "cell_type": "code",
      "execution_count": null,
      "metadata": {
        "colab": {
          "base_uri": "https://localhost:8080/",
          "height": 424
        },
        "id": "bZk55I4PSCXI",
        "outputId": "9d06d199-8ca7-4eae-98aa-5b9f01170e4b"
      },
      "outputs": [
        {
          "output_type": "execute_result",
          "data": {
            "text/plain": [
              "      temp  oxygen  heart beat\n",
              "0     97.0    96.0       118.0\n",
              "1    104.0    90.0       122.0\n",
              "2    104.0    89.0        63.0\n",
              "3     96.0    86.0       107.0\n",
              "4     98.0    91.0        92.0\n",
              "..     ...     ...         ...\n",
              "995  101.0    98.0       116.0\n",
              "996  105.0    85.0       114.0\n",
              "997  101.0    93.0       109.0\n",
              "998   97.0    87.0        92.0\n",
              "999  102.0    93.0       128.0\n",
              "\n",
              "[1000 rows x 3 columns]"
            ],
            "text/html": [
              "\n",
              "  <div id=\"df-e7740a65-b899-4eae-a360-d395db3a0fce\">\n",
              "    <div class=\"colab-df-container\">\n",
              "      <div>\n",
              "<style scoped>\n",
              "    .dataframe tbody tr th:only-of-type {\n",
              "        vertical-align: middle;\n",
              "    }\n",
              "\n",
              "    .dataframe tbody tr th {\n",
              "        vertical-align: top;\n",
              "    }\n",
              "\n",
              "    .dataframe thead th {\n",
              "        text-align: right;\n",
              "    }\n",
              "</style>\n",
              "<table border=\"1\" class=\"dataframe\">\n",
              "  <thead>\n",
              "    <tr style=\"text-align: right;\">\n",
              "      <th></th>\n",
              "      <th>temp</th>\n",
              "      <th>oxygen</th>\n",
              "      <th>heart beat</th>\n",
              "    </tr>\n",
              "  </thead>\n",
              "  <tbody>\n",
              "    <tr>\n",
              "      <th>0</th>\n",
              "      <td>97.0</td>\n",
              "      <td>96.0</td>\n",
              "      <td>118.0</td>\n",
              "    </tr>\n",
              "    <tr>\n",
              "      <th>1</th>\n",
              "      <td>104.0</td>\n",
              "      <td>90.0</td>\n",
              "      <td>122.0</td>\n",
              "    </tr>\n",
              "    <tr>\n",
              "      <th>2</th>\n",
              "      <td>104.0</td>\n",
              "      <td>89.0</td>\n",
              "      <td>63.0</td>\n",
              "    </tr>\n",
              "    <tr>\n",
              "      <th>3</th>\n",
              "      <td>96.0</td>\n",
              "      <td>86.0</td>\n",
              "      <td>107.0</td>\n",
              "    </tr>\n",
              "    <tr>\n",
              "      <th>4</th>\n",
              "      <td>98.0</td>\n",
              "      <td>91.0</td>\n",
              "      <td>92.0</td>\n",
              "    </tr>\n",
              "    <tr>\n",
              "      <th>...</th>\n",
              "      <td>...</td>\n",
              "      <td>...</td>\n",
              "      <td>...</td>\n",
              "    </tr>\n",
              "    <tr>\n",
              "      <th>995</th>\n",
              "      <td>101.0</td>\n",
              "      <td>98.0</td>\n",
              "      <td>116.0</td>\n",
              "    </tr>\n",
              "    <tr>\n",
              "      <th>996</th>\n",
              "      <td>105.0</td>\n",
              "      <td>85.0</td>\n",
              "      <td>114.0</td>\n",
              "    </tr>\n",
              "    <tr>\n",
              "      <th>997</th>\n",
              "      <td>101.0</td>\n",
              "      <td>93.0</td>\n",
              "      <td>109.0</td>\n",
              "    </tr>\n",
              "    <tr>\n",
              "      <th>998</th>\n",
              "      <td>97.0</td>\n",
              "      <td>87.0</td>\n",
              "      <td>92.0</td>\n",
              "    </tr>\n",
              "    <tr>\n",
              "      <th>999</th>\n",
              "      <td>102.0</td>\n",
              "      <td>93.0</td>\n",
              "      <td>128.0</td>\n",
              "    </tr>\n",
              "  </tbody>\n",
              "</table>\n",
              "<p>1000 rows × 3 columns</p>\n",
              "</div>\n",
              "      <button class=\"colab-df-convert\" onclick=\"convertToInteractive('df-e7740a65-b899-4eae-a360-d395db3a0fce')\"\n",
              "              title=\"Convert this dataframe to an interactive table.\"\n",
              "              style=\"display:none;\">\n",
              "        \n",
              "  <svg xmlns=\"http://www.w3.org/2000/svg\" height=\"24px\"viewBox=\"0 0 24 24\"\n",
              "       width=\"24px\">\n",
              "    <path d=\"M0 0h24v24H0V0z\" fill=\"none\"/>\n",
              "    <path d=\"M18.56 5.44l.94 2.06.94-2.06 2.06-.94-2.06-.94-.94-2.06-.94 2.06-2.06.94zm-11 1L8.5 8.5l.94-2.06 2.06-.94-2.06-.94L8.5 2.5l-.94 2.06-2.06.94zm10 10l.94 2.06.94-2.06 2.06-.94-2.06-.94-.94-2.06-.94 2.06-2.06.94z\"/><path d=\"M17.41 7.96l-1.37-1.37c-.4-.4-.92-.59-1.43-.59-.52 0-1.04.2-1.43.59L10.3 9.45l-7.72 7.72c-.78.78-.78 2.05 0 2.83L4 21.41c.39.39.9.59 1.41.59.51 0 1.02-.2 1.41-.59l7.78-7.78 2.81-2.81c.8-.78.8-2.07 0-2.86zM5.41 20L4 18.59l7.72-7.72 1.47 1.35L5.41 20z\"/>\n",
              "  </svg>\n",
              "      </button>\n",
              "      \n",
              "  <style>\n",
              "    .colab-df-container {\n",
              "      display:flex;\n",
              "      flex-wrap:wrap;\n",
              "      gap: 12px;\n",
              "    }\n",
              "\n",
              "    .colab-df-convert {\n",
              "      background-color: #E8F0FE;\n",
              "      border: none;\n",
              "      border-radius: 50%;\n",
              "      cursor: pointer;\n",
              "      display: none;\n",
              "      fill: #1967D2;\n",
              "      height: 32px;\n",
              "      padding: 0 0 0 0;\n",
              "      width: 32px;\n",
              "    }\n",
              "\n",
              "    .colab-df-convert:hover {\n",
              "      background-color: #E2EBFA;\n",
              "      box-shadow: 0px 1px 2px rgba(60, 64, 67, 0.3), 0px 1px 3px 1px rgba(60, 64, 67, 0.15);\n",
              "      fill: #174EA6;\n",
              "    }\n",
              "\n",
              "    [theme=dark] .colab-df-convert {\n",
              "      background-color: #3B4455;\n",
              "      fill: #D2E3FC;\n",
              "    }\n",
              "\n",
              "    [theme=dark] .colab-df-convert:hover {\n",
              "      background-color: #434B5C;\n",
              "      box-shadow: 0px 1px 3px 1px rgba(0, 0, 0, 0.15);\n",
              "      filter: drop-shadow(0px 1px 2px rgba(0, 0, 0, 0.3));\n",
              "      fill: #FFFFFF;\n",
              "    }\n",
              "  </style>\n",
              "\n",
              "      <script>\n",
              "        const buttonEl =\n",
              "          document.querySelector('#df-e7740a65-b899-4eae-a360-d395db3a0fce button.colab-df-convert');\n",
              "        buttonEl.style.display =\n",
              "          google.colab.kernel.accessAllowed ? 'block' : 'none';\n",
              "\n",
              "        async function convertToInteractive(key) {\n",
              "          const element = document.querySelector('#df-e7740a65-b899-4eae-a360-d395db3a0fce');\n",
              "          const dataTable =\n",
              "            await google.colab.kernel.invokeFunction('convertToInteractive',\n",
              "                                                     [key], {});\n",
              "          if (!dataTable) return;\n",
              "\n",
              "          const docLinkHtml = 'Like what you see? Visit the ' +\n",
              "            '<a target=\"_blank\" href=https://colab.research.google.com/notebooks/data_table.ipynb>data table notebook</a>'\n",
              "            + ' to learn more about interactive tables.';\n",
              "          element.innerHTML = '';\n",
              "          dataTable['output_type'] = 'display_data';\n",
              "          await google.colab.output.renderOutput(dataTable, element);\n",
              "          const docLink = document.createElement('div');\n",
              "          docLink.innerHTML = docLinkHtml;\n",
              "          element.appendChild(docLink);\n",
              "        }\n",
              "      </script>\n",
              "    </div>\n",
              "  </div>\n",
              "  "
            ]
          },
          "metadata": {},
          "execution_count": 4
        }
      ],
      "source": [
        "df = DataFrame (AT,columns = ['temp','oxygen','heart beat'])\n",
        "df"
      ]
    },
    {
      "cell_type": "code",
      "execution_count": null,
      "metadata": {
        "id": "b6OiDCVmGFbA"
      },
      "outputs": [],
      "source": [
        "i=0\n",
        "j=0\n",
        "k=0\n",
        "counter=0 \n",
        "output=[]\n",
        "while counter < 1000:\n",
        "  if lst_tmp[i]>int(99):\n",
        "    if lst_oxy[j]<int(90):\n",
        "      output.append(\"possible risk\")  \n",
        "      #break\n",
        "    else:\n",
        "      if lst_hrt[k]>int(90):\n",
        "        output.append(\"no possible risk\")  \n",
        "        #break\n",
        "      else:\n",
        "        output.append(\"possible risk\")\n",
        "        #break\n",
        "  else:\n",
        "    if lst_oxy[j]<int(90):\n",
        "      if lst_hrt[k]>int(90):\n",
        "        output.append(\"possible risk\")  \n",
        "        #break\n",
        "      else:\n",
        "        output.append(\"need further investigation\") \n",
        "        #break\n",
        "    else:\n",
        "      if lst_hrt[k]>int(90):\n",
        "        output.append(\"no possible risk\")\n",
        "        #break\n",
        "      else:\n",
        "        output.append(\"no possible risk\")\n",
        "        #break\n",
        "  i+=1\n",
        "  j+=1\n",
        "  k+=1\n",
        "  counter+=1"
      ]
    },
    {
      "cell_type": "code",
      "execution_count": null,
      "metadata": {
        "colab": {
          "base_uri": "https://localhost:8080/"
        },
        "id": "7H5iB7YRyv26",
        "outputId": "00bffbca-4234-4b22-93cc-5d9eeab34810"
      },
      "outputs": [
        {
          "output_type": "stream",
          "name": "stdout",
          "text": [
            "['no possible risk', 'no possible risk', 'possible risk', 'possible risk', 'no possible risk', 'need further investigation', 'no possible risk', 'no possible risk', 'need further investigation', 'possible risk', 'no possible risk', 'no possible risk', 'possible risk', 'no possible risk', 'no possible risk', 'possible risk', 'no possible risk', 'need further investigation', 'no possible risk', 'no possible risk', 'no possible risk', 'no possible risk', 'possible risk', 'possible risk', 'no possible risk', 'possible risk', 'need further investigation', 'possible risk', 'possible risk', 'no possible risk', 'possible risk', 'no possible risk', 'no possible risk', 'need further investigation', 'no possible risk', 'possible risk', 'no possible risk', 'possible risk', 'possible risk', 'possible risk', 'possible risk', 'no possible risk', 'no possible risk', 'no possible risk', 'no possible risk', 'no possible risk', 'possible risk', 'no possible risk', 'no possible risk', 'possible risk', 'no possible risk', 'no possible risk', 'no possible risk', 'no possible risk', 'no possible risk', 'no possible risk', 'possible risk', 'possible risk', 'possible risk', 'no possible risk', 'no possible risk', 'possible risk', 'no possible risk', 'possible risk', 'need further investigation', 'no possible risk', 'possible risk', 'no possible risk', 'no possible risk', 'no possible risk', 'no possible risk', 'no possible risk', 'possible risk', 'possible risk', 'no possible risk', 'no possible risk', 'no possible risk', 'no possible risk', 'no possible risk', 'possible risk', 'no possible risk', 'no possible risk', 'possible risk', 'no possible risk', 'need further investigation', 'no possible risk', 'no possible risk', 'no possible risk', 'possible risk', 'no possible risk', 'no possible risk', 'possible risk', 'possible risk', 'need further investigation', 'possible risk', 'no possible risk', 'possible risk', 'possible risk', 'possible risk', 'no possible risk', 'possible risk', 'possible risk', 'possible risk', 'possible risk', 'need further investigation', 'possible risk', 'possible risk', 'no possible risk', 'no possible risk', 'possible risk', 'no possible risk', 'need further investigation', 'possible risk', 'no possible risk', 'possible risk', 'possible risk', 'possible risk', 'no possible risk', 'no possible risk', 'possible risk', 'possible risk', 'no possible risk', 'possible risk', 'no possible risk', 'possible risk', 'no possible risk', 'possible risk', 'possible risk', 'no possible risk', 'possible risk', 'no possible risk', 'possible risk', 'no possible risk', 'no possible risk', 'no possible risk', 'possible risk', 'possible risk', 'no possible risk', 'no possible risk', 'no possible risk', 'no possible risk', 'no possible risk', 'no possible risk', 'no possible risk', 'no possible risk', 'possible risk', 'no possible risk', 'possible risk', 'no possible risk', 'possible risk', 'possible risk', 'possible risk', 'no possible risk', 'no possible risk', 'possible risk', 'no possible risk', 'no possible risk', 'possible risk', 'no possible risk', 'no possible risk', 'no possible risk', 'possible risk', 'possible risk', 'possible risk', 'possible risk', 'no possible risk', 'possible risk', 'no possible risk', 'possible risk', 'no possible risk', 'possible risk', 'no possible risk', 'possible risk', 'no possible risk', 'possible risk', 'no possible risk', 'possible risk', 'need further investigation', 'no possible risk', 'possible risk', 'no possible risk', 'no possible risk', 'no possible risk', 'possible risk', 'no possible risk', 'no possible risk', 'no possible risk', 'need further investigation', 'no possible risk', 'no possible risk', 'possible risk', 'possible risk', 'no possible risk', 'no possible risk', 'no possible risk', 'no possible risk', 'possible risk', 'no possible risk', 'no possible risk', 'possible risk', 'possible risk', 'need further investigation', 'possible risk', 'possible risk', 'possible risk', 'no possible risk', 'no possible risk', 'no possible risk', 'no possible risk', 'no possible risk', 'possible risk', 'possible risk', 'possible risk', 'possible risk', 'possible risk', 'no possible risk', 'no possible risk', 'no possible risk', 'no possible risk', 'no possible risk', 'no possible risk', 'need further investigation', 'possible risk', 'need further investigation', 'possible risk', 'no possible risk', 'possible risk', 'no possible risk', 'possible risk', 'no possible risk', 'no possible risk', 'possible risk', 'no possible risk', 'no possible risk', 'no possible risk', 'possible risk', 'need further investigation', 'no possible risk', 'no possible risk', 'no possible risk', 'no possible risk', 'possible risk', 'possible risk', 'possible risk', 'no possible risk', 'possible risk', 'possible risk', 'possible risk', 'possible risk', 'no possible risk', 'possible risk', 'need further investigation', 'possible risk', 'no possible risk', 'possible risk', 'no possible risk', 'no possible risk', 'no possible risk', 'no possible risk', 'no possible risk', 'possible risk', 'no possible risk', 'no possible risk', 'possible risk', 'possible risk', 'no possible risk', 'no possible risk', 'no possible risk', 'no possible risk', 'no possible risk', 'possible risk', 'no possible risk', 'no possible risk', 'no possible risk', 'no possible risk', 'need further investigation', 'no possible risk', 'no possible risk', 'possible risk', 'possible risk', 'need further investigation', 'no possible risk', 'possible risk', 'possible risk', 'no possible risk', 'possible risk', 'possible risk', 'no possible risk', 'possible risk', 'possible risk', 'possible risk', 'possible risk', 'no possible risk', 'possible risk', 'no possible risk', 'no possible risk', 'possible risk', 'no possible risk', 'need further investigation', 'no possible risk', 'need further investigation', 'possible risk', 'possible risk', 'possible risk', 'no possible risk', 'no possible risk', 'no possible risk', 'no possible risk', 'possible risk', 'possible risk', 'no possible risk', 'no possible risk', 'possible risk', 'possible risk', 'no possible risk', 'possible risk', 'no possible risk', 'need further investigation', 'need further investigation', 'no possible risk', 'no possible risk', 'no possible risk', 'no possible risk', 'possible risk', 'no possible risk', 'need further investigation', 'no possible risk', 'possible risk', 'no possible risk', 'no possible risk', 'possible risk', 'need further investigation', 'no possible risk', 'need further investigation', 'possible risk', 'no possible risk', 'no possible risk', 'possible risk', 'possible risk', 'no possible risk', 'no possible risk', 'possible risk', 'no possible risk', 'no possible risk', 'possible risk', 'need further investigation', 'no possible risk', 'no possible risk', 'possible risk', 'possible risk', 'need further investigation', 'no possible risk', 'need further investigation', 'no possible risk', 'possible risk', 'possible risk', 'possible risk', 'no possible risk', 'possible risk', 'possible risk', 'possible risk', 'possible risk', 'possible risk', 'no possible risk', 'no possible risk', 'no possible risk', 'possible risk', 'possible risk', 'possible risk', 'possible risk', 'no possible risk', 'no possible risk', 'possible risk', 'no possible risk', 'possible risk', 'possible risk', 'possible risk', 'possible risk', 'no possible risk', 'no possible risk', 'no possible risk', 'possible risk', 'no possible risk', 'no possible risk', 'no possible risk', 'possible risk', 'no possible risk', 'possible risk', 'no possible risk', 'possible risk', 'no possible risk', 'possible risk', 'no possible risk', 'possible risk', 'no possible risk', 'no possible risk', 'no possible risk', 'possible risk', 'need further investigation', 'no possible risk', 'no possible risk', 'no possible risk', 'no possible risk', 'possible risk', 'no possible risk', 'need further investigation', 'no possible risk', 'possible risk', 'no possible risk', 'possible risk', 'possible risk', 'possible risk', 'no possible risk', 'possible risk', 'no possible risk', 'no possible risk', 'possible risk', 'no possible risk', 'no possible risk', 'no possible risk', 'need further investigation', 'possible risk', 'possible risk', 'possible risk', 'no possible risk', 'possible risk', 'no possible risk', 'possible risk', 'possible risk', 'need further investigation', 'possible risk', 'no possible risk', 'possible risk', 'no possible risk', 'no possible risk', 'possible risk', 'no possible risk', 'possible risk', 'possible risk', 'no possible risk', 'no possible risk', 'possible risk', 'no possible risk', 'no possible risk', 'no possible risk', 'no possible risk', 'no possible risk', 'possible risk', 'possible risk', 'possible risk', 'possible risk', 'no possible risk', 'possible risk', 'no possible risk', 'possible risk', 'no possible risk', 'no possible risk', 'possible risk', 'possible risk', 'possible risk', 'possible risk', 'no possible risk', 'no possible risk', 'no possible risk', 'possible risk', 'possible risk', 'no possible risk', 'need further investigation', 'no possible risk', 'no possible risk', 'possible risk', 'possible risk', 'no possible risk', 'possible risk', 'possible risk', 'no possible risk', 'no possible risk', 'no possible risk', 'possible risk', 'no possible risk', 'possible risk', 'no possible risk', 'possible risk', 'possible risk', 'no possible risk', 'no possible risk', 'possible risk', 'no possible risk', 'no possible risk', 'no possible risk', 'no possible risk', 'possible risk', 'possible risk', 'no possible risk', 'possible risk', 'no possible risk', 'no possible risk', 'no possible risk', 'no possible risk', 'possible risk', 'no possible risk', 'possible risk', 'possible risk', 'possible risk', 'possible risk', 'no possible risk', 'possible risk', 'possible risk', 'possible risk', 'no possible risk', 'possible risk', 'need further investigation', 'no possible risk', 'no possible risk', 'no possible risk', 'no possible risk', 'no possible risk', 'no possible risk', 'possible risk', 'possible risk', 'no possible risk', 'no possible risk', 'no possible risk', 'no possible risk', 'possible risk', 'no possible risk', 'no possible risk', 'no possible risk', 'possible risk', 'possible risk', 'possible risk', 'no possible risk', 'possible risk', 'possible risk', 'no possible risk', 'need further investigation', 'possible risk', 'possible risk', 'no possible risk', 'no possible risk', 'possible risk', 'possible risk', 'no possible risk', 'possible risk', 'no possible risk', 'possible risk', 'possible risk', 'possible risk', 'no possible risk', 'no possible risk', 'possible risk', 'possible risk', 'no possible risk', 'possible risk', 'possible risk', 'no possible risk', 'no possible risk', 'no possible risk', 'no possible risk', 'no possible risk', 'no possible risk', 'no possible risk', 'no possible risk', 'possible risk', 'no possible risk', 'no possible risk', 'no possible risk', 'possible risk', 'no possible risk', 'no possible risk', 'no possible risk', 'no possible risk', 'possible risk', 'possible risk', 'possible risk', 'possible risk', 'possible risk', 'possible risk', 'possible risk', 'no possible risk', 'no possible risk', 'no possible risk', 'no possible risk', 'no possible risk', 'possible risk', 'possible risk', 'possible risk', 'possible risk', 'no possible risk', 'possible risk', 'possible risk', 'possible risk', 'no possible risk', 'no possible risk', 'no possible risk', 'possible risk', 'possible risk', 'no possible risk', 'possible risk', 'no possible risk', 'possible risk', 'no possible risk', 'possible risk', 'no possible risk', 'no possible risk', 'possible risk', 'possible risk', 'no possible risk', 'possible risk', 'need further investigation', 'no possible risk', 'no possible risk', 'no possible risk', 'no possible risk', 'possible risk', 'possible risk', 'possible risk', 'no possible risk', 'no possible risk', 'no possible risk', 'no possible risk', 'possible risk', 'possible risk', 'possible risk', 'no possible risk', 'need further investigation', 'possible risk', 'possible risk', 'no possible risk', 'possible risk', 'possible risk', 'no possible risk', 'possible risk', 'possible risk', 'no possible risk', 'no possible risk', 'no possible risk', 'no possible risk', 'no possible risk', 'no possible risk', 'possible risk', 'need further investigation', 'no possible risk', 'no possible risk', 'no possible risk', 'possible risk', 'possible risk', 'no possible risk', 'no possible risk', 'no possible risk', 'need further investigation', 'no possible risk', 'no possible risk', 'possible risk', 'possible risk', 'possible risk', 'possible risk', 'possible risk', 'no possible risk', 'no possible risk', 'possible risk', 'possible risk', 'possible risk', 'no possible risk', 'possible risk', 'possible risk', 'possible risk', 'possible risk', 'possible risk', 'possible risk', 'possible risk', 'no possible risk', 'possible risk', 'no possible risk', 'possible risk', 'possible risk', 'no possible risk', 'no possible risk', 'no possible risk', 'no possible risk', 'possible risk', 'possible risk', 'no possible risk', 'no possible risk', 'possible risk', 'possible risk', 'possible risk', 'no possible risk', 'no possible risk', 'no possible risk', 'possible risk', 'no possible risk', 'possible risk', 'no possible risk', 'no possible risk', 'possible risk', 'no possible risk', 'possible risk', 'no possible risk', 'no possible risk', 'no possible risk', 'no possible risk', 'no possible risk', 'possible risk', 'possible risk', 'no possible risk', 'no possible risk', 'no possible risk', 'no possible risk', 'possible risk', 'possible risk', 'possible risk', 'no possible risk', 'no possible risk', 'possible risk', 'no possible risk', 'possible risk', 'no possible risk', 'no possible risk', 'no possible risk', 'possible risk', 'possible risk', 'possible risk', 'possible risk', 'no possible risk', 'no possible risk', 'possible risk', 'possible risk', 'no possible risk', 'no possible risk', 'no possible risk', 'possible risk', 'no possible risk', 'possible risk', 'no possible risk', 'possible risk', 'possible risk', 'possible risk', 'possible risk', 'no possible risk', 'possible risk', 'possible risk', 'possible risk', 'no possible risk', 'no possible risk', 'possible risk', 'no possible risk', 'need further investigation', 'no possible risk', 'no possible risk', 'possible risk', 'possible risk', 'no possible risk', 'possible risk', 'possible risk', 'possible risk', 'possible risk', 'no possible risk', 'no possible risk', 'possible risk', 'no possible risk', 'no possible risk', 'possible risk', 'possible risk', 'no possible risk', 'no possible risk', 'no possible risk', 'need further investigation', 'possible risk', 'no possible risk', 'no possible risk', 'no possible risk', 'possible risk', 'no possible risk', 'possible risk', 'no possible risk', 'no possible risk', 'no possible risk', 'no possible risk', 'possible risk', 'no possible risk', 'no possible risk', 'need further investigation', 'no possible risk', 'no possible risk', 'no possible risk', 'no possible risk', 'possible risk', 'no possible risk', 'possible risk', 'no possible risk', 'no possible risk', 'possible risk', 'possible risk', 'no possible risk', 'possible risk', 'no possible risk', 'no possible risk', 'possible risk', 'possible risk', 'possible risk', 'possible risk', 'possible risk', 'possible risk', 'no possible risk', 'no possible risk', 'no possible risk', 'possible risk', 'no possible risk', 'no possible risk', 'no possible risk', 'no possible risk', 'possible risk', 'possible risk', 'no possible risk', 'no possible risk', 'no possible risk', 'no possible risk', 'no possible risk', 'no possible risk', 'no possible risk', 'no possible risk', 'possible risk', 'no possible risk', 'no possible risk', 'possible risk', 'need further investigation', 'possible risk', 'no possible risk', 'no possible risk', 'no possible risk', 'possible risk', 'possible risk', 'no possible risk', 'possible risk', 'possible risk', 'possible risk', 'no possible risk', 'no possible risk', 'no possible risk', 'possible risk', 'possible risk', 'need further investigation', 'no possible risk', 'possible risk', 'no possible risk', 'no possible risk', 'no possible risk', 'no possible risk', 'possible risk', 'possible risk', 'possible risk', 'possible risk', 'possible risk', 'possible risk', 'no possible risk', 'no possible risk', 'no possible risk', 'possible risk', 'possible risk', 'possible risk', 'possible risk', 'possible risk', 'need further investigation', 'no possible risk', 'need further investigation', 'no possible risk', 'no possible risk', 'no possible risk', 'possible risk', 'no possible risk', 'no possible risk', 'possible risk', 'possible risk', 'possible risk', 'no possible risk', 'no possible risk', 'possible risk', 'no possible risk', 'no possible risk', 'no possible risk', 'no possible risk', 'possible risk', 'possible risk', 'possible risk', 'no possible risk', 'no possible risk', 'possible risk', 'no possible risk', 'possible risk', 'possible risk', 'no possible risk', 'no possible risk', 'possible risk', 'no possible risk', 'no possible risk', 'need further investigation', 'no possible risk', 'possible risk', 'possible risk', 'possible risk', 'no possible risk', 'possible risk', 'possible risk', 'need further investigation', 'no possible risk', 'no possible risk', 'no possible risk', 'possible risk', 'no possible risk', 'possible risk', 'possible risk', 'possible risk', 'no possible risk', 'no possible risk', 'no possible risk', 'no possible risk', 'possible risk', 'possible risk', 'no possible risk', 'no possible risk', 'possible risk', 'no possible risk', 'possible risk', 'possible risk', 'possible risk', 'no possible risk', 'possible risk', 'no possible risk', 'no possible risk', 'possible risk', 'possible risk', 'no possible risk', 'no possible risk', 'possible risk', 'no possible risk', 'no possible risk', 'no possible risk', 'need further investigation', 'need further investigation', 'possible risk', 'need further investigation', 'no possible risk', 'no possible risk', 'no possible risk', 'possible risk', 'possible risk', 'no possible risk', 'possible risk', 'need further investigation', 'no possible risk', 'possible risk', 'possible risk', 'no possible risk', 'no possible risk', 'no possible risk', 'possible risk', 'possible risk', 'no possible risk', 'possible risk', 'no possible risk', 'no possible risk', 'possible risk', 'need further investigation', 'no possible risk', 'no possible risk', 'possible risk', 'no possible risk', 'no possible risk', 'possible risk', 'no possible risk', 'no possible risk', 'possible risk', 'need further investigation', 'no possible risk', 'no possible risk', 'possible risk', 'no possible risk', 'no possible risk', 'need further investigation', 'no possible risk', 'no possible risk', 'possible risk', 'possible risk', 'possible risk', 'no possible risk', 'possible risk', 'possible risk', 'no possible risk', 'no possible risk', 'no possible risk', 'possible risk', 'no possible risk', 'no possible risk', 'need further investigation', 'no possible risk', 'possible risk', 'no possible risk', 'possible risk', 'no possible risk']\n"
          ]
        }
      ],
      "source": [
        "print(output)"
      ]
    },
    {
      "cell_type": "code",
      "execution_count": null,
      "metadata": {
        "colab": {
          "base_uri": "https://localhost:8080/",
          "height": 424
        },
        "id": "eNIem8IhMqzL",
        "outputId": "8634eee9-9d95-4b32-bc3f-5fb474cbbe37",
        "scrolled": true
      },
      "outputs": [
        {
          "output_type": "execute_result",
          "data": {
            "text/plain": [
              "           pridiction\n",
              "0    no possible risk\n",
              "1    no possible risk\n",
              "2       possible risk\n",
              "3       possible risk\n",
              "4    no possible risk\n",
              "..                ...\n",
              "995  no possible risk\n",
              "996     possible risk\n",
              "997  no possible risk\n",
              "998     possible risk\n",
              "999  no possible risk\n",
              "\n",
              "[1000 rows x 1 columns]"
            ],
            "text/html": [
              "\n",
              "  <div id=\"df-2f7703d3-872a-46e6-8d03-7638b61b8546\">\n",
              "    <div class=\"colab-df-container\">\n",
              "      <div>\n",
              "<style scoped>\n",
              "    .dataframe tbody tr th:only-of-type {\n",
              "        vertical-align: middle;\n",
              "    }\n",
              "\n",
              "    .dataframe tbody tr th {\n",
              "        vertical-align: top;\n",
              "    }\n",
              "\n",
              "    .dataframe thead th {\n",
              "        text-align: right;\n",
              "    }\n",
              "</style>\n",
              "<table border=\"1\" class=\"dataframe\">\n",
              "  <thead>\n",
              "    <tr style=\"text-align: right;\">\n",
              "      <th></th>\n",
              "      <th>pridiction</th>\n",
              "    </tr>\n",
              "  </thead>\n",
              "  <tbody>\n",
              "    <tr>\n",
              "      <th>0</th>\n",
              "      <td>no possible risk</td>\n",
              "    </tr>\n",
              "    <tr>\n",
              "      <th>1</th>\n",
              "      <td>no possible risk</td>\n",
              "    </tr>\n",
              "    <tr>\n",
              "      <th>2</th>\n",
              "      <td>possible risk</td>\n",
              "    </tr>\n",
              "    <tr>\n",
              "      <th>3</th>\n",
              "      <td>possible risk</td>\n",
              "    </tr>\n",
              "    <tr>\n",
              "      <th>4</th>\n",
              "      <td>no possible risk</td>\n",
              "    </tr>\n",
              "    <tr>\n",
              "      <th>...</th>\n",
              "      <td>...</td>\n",
              "    </tr>\n",
              "    <tr>\n",
              "      <th>995</th>\n",
              "      <td>no possible risk</td>\n",
              "    </tr>\n",
              "    <tr>\n",
              "      <th>996</th>\n",
              "      <td>possible risk</td>\n",
              "    </tr>\n",
              "    <tr>\n",
              "      <th>997</th>\n",
              "      <td>no possible risk</td>\n",
              "    </tr>\n",
              "    <tr>\n",
              "      <th>998</th>\n",
              "      <td>possible risk</td>\n",
              "    </tr>\n",
              "    <tr>\n",
              "      <th>999</th>\n",
              "      <td>no possible risk</td>\n",
              "    </tr>\n",
              "  </tbody>\n",
              "</table>\n",
              "<p>1000 rows × 1 columns</p>\n",
              "</div>\n",
              "      <button class=\"colab-df-convert\" onclick=\"convertToInteractive('df-2f7703d3-872a-46e6-8d03-7638b61b8546')\"\n",
              "              title=\"Convert this dataframe to an interactive table.\"\n",
              "              style=\"display:none;\">\n",
              "        \n",
              "  <svg xmlns=\"http://www.w3.org/2000/svg\" height=\"24px\"viewBox=\"0 0 24 24\"\n",
              "       width=\"24px\">\n",
              "    <path d=\"M0 0h24v24H0V0z\" fill=\"none\"/>\n",
              "    <path d=\"M18.56 5.44l.94 2.06.94-2.06 2.06-.94-2.06-.94-.94-2.06-.94 2.06-2.06.94zm-11 1L8.5 8.5l.94-2.06 2.06-.94-2.06-.94L8.5 2.5l-.94 2.06-2.06.94zm10 10l.94 2.06.94-2.06 2.06-.94-2.06-.94-.94-2.06-.94 2.06-2.06.94z\"/><path d=\"M17.41 7.96l-1.37-1.37c-.4-.4-.92-.59-1.43-.59-.52 0-1.04.2-1.43.59L10.3 9.45l-7.72 7.72c-.78.78-.78 2.05 0 2.83L4 21.41c.39.39.9.59 1.41.59.51 0 1.02-.2 1.41-.59l7.78-7.78 2.81-2.81c.8-.78.8-2.07 0-2.86zM5.41 20L4 18.59l7.72-7.72 1.47 1.35L5.41 20z\"/>\n",
              "  </svg>\n",
              "      </button>\n",
              "      \n",
              "  <style>\n",
              "    .colab-df-container {\n",
              "      display:flex;\n",
              "      flex-wrap:wrap;\n",
              "      gap: 12px;\n",
              "    }\n",
              "\n",
              "    .colab-df-convert {\n",
              "      background-color: #E8F0FE;\n",
              "      border: none;\n",
              "      border-radius: 50%;\n",
              "      cursor: pointer;\n",
              "      display: none;\n",
              "      fill: #1967D2;\n",
              "      height: 32px;\n",
              "      padding: 0 0 0 0;\n",
              "      width: 32px;\n",
              "    }\n",
              "\n",
              "    .colab-df-convert:hover {\n",
              "      background-color: #E2EBFA;\n",
              "      box-shadow: 0px 1px 2px rgba(60, 64, 67, 0.3), 0px 1px 3px 1px rgba(60, 64, 67, 0.15);\n",
              "      fill: #174EA6;\n",
              "    }\n",
              "\n",
              "    [theme=dark] .colab-df-convert {\n",
              "      background-color: #3B4455;\n",
              "      fill: #D2E3FC;\n",
              "    }\n",
              "\n",
              "    [theme=dark] .colab-df-convert:hover {\n",
              "      background-color: #434B5C;\n",
              "      box-shadow: 0px 1px 3px 1px rgba(0, 0, 0, 0.15);\n",
              "      filter: drop-shadow(0px 1px 2px rgba(0, 0, 0, 0.3));\n",
              "      fill: #FFFFFF;\n",
              "    }\n",
              "  </style>\n",
              "\n",
              "      <script>\n",
              "        const buttonEl =\n",
              "          document.querySelector('#df-2f7703d3-872a-46e6-8d03-7638b61b8546 button.colab-df-convert');\n",
              "        buttonEl.style.display =\n",
              "          google.colab.kernel.accessAllowed ? 'block' : 'none';\n",
              "\n",
              "        async function convertToInteractive(key) {\n",
              "          const element = document.querySelector('#df-2f7703d3-872a-46e6-8d03-7638b61b8546');\n",
              "          const dataTable =\n",
              "            await google.colab.kernel.invokeFunction('convertToInteractive',\n",
              "                                                     [key], {});\n",
              "          if (!dataTable) return;\n",
              "\n",
              "          const docLinkHtml = 'Like what you see? Visit the ' +\n",
              "            '<a target=\"_blank\" href=https://colab.research.google.com/notebooks/data_table.ipynb>data table notebook</a>'\n",
              "            + ' to learn more about interactive tables.';\n",
              "          element.innerHTML = '';\n",
              "          dataTable['output_type'] = 'display_data';\n",
              "          await google.colab.output.renderOutput(dataTable, element);\n",
              "          const docLink = document.createElement('div');\n",
              "          docLink.innerHTML = docLinkHtml;\n",
              "          element.appendChild(docLink);\n",
              "        }\n",
              "      </script>\n",
              "    </div>\n",
              "  </div>\n",
              "  "
            ]
          },
          "metadata": {},
          "execution_count": 7
        }
      ],
      "source": [
        "df1 = DataFrame (output,columns = ['pridiction'])\n",
        "df1"
      ]
    },
    {
      "cell_type": "code",
      "execution_count": null,
      "metadata": {
        "colab": {
          "base_uri": "https://localhost:8080/",
          "height": 424
        },
        "id": "mKC-Xu33Nygq",
        "outputId": "fec0a3ee-d8b3-4f4a-a24f-24789f007b9e",
        "scrolled": true
      },
      "outputs": [
        {
          "output_type": "execute_result",
          "data": {
            "text/plain": [
              "      temp  oxygen  heart beat        pridiction\n",
              "0     97.0    96.0       118.0  no possible risk\n",
              "1    104.0    90.0       122.0  no possible risk\n",
              "2    104.0    89.0        63.0     possible risk\n",
              "3     96.0    86.0       107.0     possible risk\n",
              "4     98.0    91.0        92.0  no possible risk\n",
              "..     ...     ...         ...               ...\n",
              "995  101.0    98.0       116.0  no possible risk\n",
              "996  105.0    85.0       114.0     possible risk\n",
              "997  101.0    93.0       109.0  no possible risk\n",
              "998   97.0    87.0        92.0     possible risk\n",
              "999  102.0    93.0       128.0  no possible risk\n",
              "\n",
              "[1000 rows x 4 columns]"
            ],
            "text/html": [
              "\n",
              "  <div id=\"df-99cfb607-1a38-43a1-9199-0609baf21b01\">\n",
              "    <div class=\"colab-df-container\">\n",
              "      <div>\n",
              "<style scoped>\n",
              "    .dataframe tbody tr th:only-of-type {\n",
              "        vertical-align: middle;\n",
              "    }\n",
              "\n",
              "    .dataframe tbody tr th {\n",
              "        vertical-align: top;\n",
              "    }\n",
              "\n",
              "    .dataframe thead th {\n",
              "        text-align: right;\n",
              "    }\n",
              "</style>\n",
              "<table border=\"1\" class=\"dataframe\">\n",
              "  <thead>\n",
              "    <tr style=\"text-align: right;\">\n",
              "      <th></th>\n",
              "      <th>temp</th>\n",
              "      <th>oxygen</th>\n",
              "      <th>heart beat</th>\n",
              "      <th>pridiction</th>\n",
              "    </tr>\n",
              "  </thead>\n",
              "  <tbody>\n",
              "    <tr>\n",
              "      <th>0</th>\n",
              "      <td>97.0</td>\n",
              "      <td>96.0</td>\n",
              "      <td>118.0</td>\n",
              "      <td>no possible risk</td>\n",
              "    </tr>\n",
              "    <tr>\n",
              "      <th>1</th>\n",
              "      <td>104.0</td>\n",
              "      <td>90.0</td>\n",
              "      <td>122.0</td>\n",
              "      <td>no possible risk</td>\n",
              "    </tr>\n",
              "    <tr>\n",
              "      <th>2</th>\n",
              "      <td>104.0</td>\n",
              "      <td>89.0</td>\n",
              "      <td>63.0</td>\n",
              "      <td>possible risk</td>\n",
              "    </tr>\n",
              "    <tr>\n",
              "      <th>3</th>\n",
              "      <td>96.0</td>\n",
              "      <td>86.0</td>\n",
              "      <td>107.0</td>\n",
              "      <td>possible risk</td>\n",
              "    </tr>\n",
              "    <tr>\n",
              "      <th>4</th>\n",
              "      <td>98.0</td>\n",
              "      <td>91.0</td>\n",
              "      <td>92.0</td>\n",
              "      <td>no possible risk</td>\n",
              "    </tr>\n",
              "    <tr>\n",
              "      <th>...</th>\n",
              "      <td>...</td>\n",
              "      <td>...</td>\n",
              "      <td>...</td>\n",
              "      <td>...</td>\n",
              "    </tr>\n",
              "    <tr>\n",
              "      <th>995</th>\n",
              "      <td>101.0</td>\n",
              "      <td>98.0</td>\n",
              "      <td>116.0</td>\n",
              "      <td>no possible risk</td>\n",
              "    </tr>\n",
              "    <tr>\n",
              "      <th>996</th>\n",
              "      <td>105.0</td>\n",
              "      <td>85.0</td>\n",
              "      <td>114.0</td>\n",
              "      <td>possible risk</td>\n",
              "    </tr>\n",
              "    <tr>\n",
              "      <th>997</th>\n",
              "      <td>101.0</td>\n",
              "      <td>93.0</td>\n",
              "      <td>109.0</td>\n",
              "      <td>no possible risk</td>\n",
              "    </tr>\n",
              "    <tr>\n",
              "      <th>998</th>\n",
              "      <td>97.0</td>\n",
              "      <td>87.0</td>\n",
              "      <td>92.0</td>\n",
              "      <td>possible risk</td>\n",
              "    </tr>\n",
              "    <tr>\n",
              "      <th>999</th>\n",
              "      <td>102.0</td>\n",
              "      <td>93.0</td>\n",
              "      <td>128.0</td>\n",
              "      <td>no possible risk</td>\n",
              "    </tr>\n",
              "  </tbody>\n",
              "</table>\n",
              "<p>1000 rows × 4 columns</p>\n",
              "</div>\n",
              "      <button class=\"colab-df-convert\" onclick=\"convertToInteractive('df-99cfb607-1a38-43a1-9199-0609baf21b01')\"\n",
              "              title=\"Convert this dataframe to an interactive table.\"\n",
              "              style=\"display:none;\">\n",
              "        \n",
              "  <svg xmlns=\"http://www.w3.org/2000/svg\" height=\"24px\"viewBox=\"0 0 24 24\"\n",
              "       width=\"24px\">\n",
              "    <path d=\"M0 0h24v24H0V0z\" fill=\"none\"/>\n",
              "    <path d=\"M18.56 5.44l.94 2.06.94-2.06 2.06-.94-2.06-.94-.94-2.06-.94 2.06-2.06.94zm-11 1L8.5 8.5l.94-2.06 2.06-.94-2.06-.94L8.5 2.5l-.94 2.06-2.06.94zm10 10l.94 2.06.94-2.06 2.06-.94-2.06-.94-.94-2.06-.94 2.06-2.06.94z\"/><path d=\"M17.41 7.96l-1.37-1.37c-.4-.4-.92-.59-1.43-.59-.52 0-1.04.2-1.43.59L10.3 9.45l-7.72 7.72c-.78.78-.78 2.05 0 2.83L4 21.41c.39.39.9.59 1.41.59.51 0 1.02-.2 1.41-.59l7.78-7.78 2.81-2.81c.8-.78.8-2.07 0-2.86zM5.41 20L4 18.59l7.72-7.72 1.47 1.35L5.41 20z\"/>\n",
              "  </svg>\n",
              "      </button>\n",
              "      \n",
              "  <style>\n",
              "    .colab-df-container {\n",
              "      display:flex;\n",
              "      flex-wrap:wrap;\n",
              "      gap: 12px;\n",
              "    }\n",
              "\n",
              "    .colab-df-convert {\n",
              "      background-color: #E8F0FE;\n",
              "      border: none;\n",
              "      border-radius: 50%;\n",
              "      cursor: pointer;\n",
              "      display: none;\n",
              "      fill: #1967D2;\n",
              "      height: 32px;\n",
              "      padding: 0 0 0 0;\n",
              "      width: 32px;\n",
              "    }\n",
              "\n",
              "    .colab-df-convert:hover {\n",
              "      background-color: #E2EBFA;\n",
              "      box-shadow: 0px 1px 2px rgba(60, 64, 67, 0.3), 0px 1px 3px 1px rgba(60, 64, 67, 0.15);\n",
              "      fill: #174EA6;\n",
              "    }\n",
              "\n",
              "    [theme=dark] .colab-df-convert {\n",
              "      background-color: #3B4455;\n",
              "      fill: #D2E3FC;\n",
              "    }\n",
              "\n",
              "    [theme=dark] .colab-df-convert:hover {\n",
              "      background-color: #434B5C;\n",
              "      box-shadow: 0px 1px 3px 1px rgba(0, 0, 0, 0.15);\n",
              "      filter: drop-shadow(0px 1px 2px rgba(0, 0, 0, 0.3));\n",
              "      fill: #FFFFFF;\n",
              "    }\n",
              "  </style>\n",
              "\n",
              "      <script>\n",
              "        const buttonEl =\n",
              "          document.querySelector('#df-99cfb607-1a38-43a1-9199-0609baf21b01 button.colab-df-convert');\n",
              "        buttonEl.style.display =\n",
              "          google.colab.kernel.accessAllowed ? 'block' : 'none';\n",
              "\n",
              "        async function convertToInteractive(key) {\n",
              "          const element = document.querySelector('#df-99cfb607-1a38-43a1-9199-0609baf21b01');\n",
              "          const dataTable =\n",
              "            await google.colab.kernel.invokeFunction('convertToInteractive',\n",
              "                                                     [key], {});\n",
              "          if (!dataTable) return;\n",
              "\n",
              "          const docLinkHtml = 'Like what you see? Visit the ' +\n",
              "            '<a target=\"_blank\" href=https://colab.research.google.com/notebooks/data_table.ipynb>data table notebook</a>'\n",
              "            + ' to learn more about interactive tables.';\n",
              "          element.innerHTML = '';\n",
              "          dataTable['output_type'] = 'display_data';\n",
              "          await google.colab.output.renderOutput(dataTable, element);\n",
              "          const docLink = document.createElement('div');\n",
              "          docLink.innerHTML = docLinkHtml;\n",
              "          element.appendChild(docLink);\n",
              "        }\n",
              "      </script>\n",
              "    </div>\n",
              "  </div>\n",
              "  "
            ]
          },
          "metadata": {},
          "execution_count": 8
        }
      ],
      "source": [
        "import pandas as pd\n",
        "result = pd.concat([df, df1], axis=1)\n",
        "result"
      ]
    },
    {
      "cell_type": "code",
      "execution_count": null,
      "metadata": {
        "id": "wAaJf9OkRzUZ"
      },
      "outputs": [],
      "source": [
        "result.to_csv(\"result1.csv\")"
      ]
    },
    {
      "cell_type": "markdown",
      "metadata": {
        "id": "2-j1ErWMtGW3"
      },
      "source": [
        "#MACHINE LEARNING MODEL "
      ]
    },
    {
      "cell_type": "code",
      "execution_count": null,
      "metadata": {
        "id": "cfokxAjGtFje"
      },
      "outputs": [],
      "source": [
        "import pandas as pd\n",
        "from sklearn.tree import DecisionTreeClassifier # Import Decision Tree Classifier\n",
        "from sklearn.model_selection import train_test_split # Import train_test_split function\n",
        "from sklearn import metrics #Import scikit-learn metrics module for accuracy calculation"
      ]
    },
    {
      "cell_type": "code",
      "execution_count": null,
      "metadata": {
        "colab": {
          "base_uri": "https://localhost:8080/",
          "height": 424
        },
        "id": "tco5KiQSZutE",
        "outputId": "e304fb1d-e266-4f49-9b8c-307d13374028"
      },
      "outputs": [
        {
          "output_type": "execute_result",
          "data": {
            "text/plain": [
              "     Unnamed: 0  temp  oxygen  heart beat                  prediction\n",
              "0             0   105      99         109            no possible risk\n",
              "1             1   100      89          95               possible risk\n",
              "2             2    99      93         123            no possible risk\n",
              "3             3   103      89          96               possible risk\n",
              "4             4   104      96          67            no possible risk\n",
              "..          ...   ...     ...         ...                         ...\n",
              "995         995    99      87          77  need further investigation\n",
              "996         996   104      87          90               possible risk\n",
              "997         997   100      93          62            no possible risk\n",
              "998         998    96      89         106               possible risk\n",
              "999         999   100      85         125               possible risk\n",
              "\n",
              "[1000 rows x 5 columns]"
            ],
            "text/html": [
              "\n",
              "  <div id=\"df-195a2697-b99e-4149-b8b6-48f6265f67a7\">\n",
              "    <div class=\"colab-df-container\">\n",
              "      <div>\n",
              "<style scoped>\n",
              "    .dataframe tbody tr th:only-of-type {\n",
              "        vertical-align: middle;\n",
              "    }\n",
              "\n",
              "    .dataframe tbody tr th {\n",
              "        vertical-align: top;\n",
              "    }\n",
              "\n",
              "    .dataframe thead th {\n",
              "        text-align: right;\n",
              "    }\n",
              "</style>\n",
              "<table border=\"1\" class=\"dataframe\">\n",
              "  <thead>\n",
              "    <tr style=\"text-align: right;\">\n",
              "      <th></th>\n",
              "      <th>Unnamed: 0</th>\n",
              "      <th>temp</th>\n",
              "      <th>oxygen</th>\n",
              "      <th>heart beat</th>\n",
              "      <th>prediction</th>\n",
              "    </tr>\n",
              "  </thead>\n",
              "  <tbody>\n",
              "    <tr>\n",
              "      <th>0</th>\n",
              "      <td>0</td>\n",
              "      <td>105</td>\n",
              "      <td>99</td>\n",
              "      <td>109</td>\n",
              "      <td>no possible risk</td>\n",
              "    </tr>\n",
              "    <tr>\n",
              "      <th>1</th>\n",
              "      <td>1</td>\n",
              "      <td>100</td>\n",
              "      <td>89</td>\n",
              "      <td>95</td>\n",
              "      <td>possible risk</td>\n",
              "    </tr>\n",
              "    <tr>\n",
              "      <th>2</th>\n",
              "      <td>2</td>\n",
              "      <td>99</td>\n",
              "      <td>93</td>\n",
              "      <td>123</td>\n",
              "      <td>no possible risk</td>\n",
              "    </tr>\n",
              "    <tr>\n",
              "      <th>3</th>\n",
              "      <td>3</td>\n",
              "      <td>103</td>\n",
              "      <td>89</td>\n",
              "      <td>96</td>\n",
              "      <td>possible risk</td>\n",
              "    </tr>\n",
              "    <tr>\n",
              "      <th>4</th>\n",
              "      <td>4</td>\n",
              "      <td>104</td>\n",
              "      <td>96</td>\n",
              "      <td>67</td>\n",
              "      <td>no possible risk</td>\n",
              "    </tr>\n",
              "    <tr>\n",
              "      <th>...</th>\n",
              "      <td>...</td>\n",
              "      <td>...</td>\n",
              "      <td>...</td>\n",
              "      <td>...</td>\n",
              "      <td>...</td>\n",
              "    </tr>\n",
              "    <tr>\n",
              "      <th>995</th>\n",
              "      <td>995</td>\n",
              "      <td>99</td>\n",
              "      <td>87</td>\n",
              "      <td>77</td>\n",
              "      <td>need further investigation</td>\n",
              "    </tr>\n",
              "    <tr>\n",
              "      <th>996</th>\n",
              "      <td>996</td>\n",
              "      <td>104</td>\n",
              "      <td>87</td>\n",
              "      <td>90</td>\n",
              "      <td>possible risk</td>\n",
              "    </tr>\n",
              "    <tr>\n",
              "      <th>997</th>\n",
              "      <td>997</td>\n",
              "      <td>100</td>\n",
              "      <td>93</td>\n",
              "      <td>62</td>\n",
              "      <td>no possible risk</td>\n",
              "    </tr>\n",
              "    <tr>\n",
              "      <th>998</th>\n",
              "      <td>998</td>\n",
              "      <td>96</td>\n",
              "      <td>89</td>\n",
              "      <td>106</td>\n",
              "      <td>possible risk</td>\n",
              "    </tr>\n",
              "    <tr>\n",
              "      <th>999</th>\n",
              "      <td>999</td>\n",
              "      <td>100</td>\n",
              "      <td>85</td>\n",
              "      <td>125</td>\n",
              "      <td>possible risk</td>\n",
              "    </tr>\n",
              "  </tbody>\n",
              "</table>\n",
              "<p>1000 rows × 5 columns</p>\n",
              "</div>\n",
              "      <button class=\"colab-df-convert\" onclick=\"convertToInteractive('df-195a2697-b99e-4149-b8b6-48f6265f67a7')\"\n",
              "              title=\"Convert this dataframe to an interactive table.\"\n",
              "              style=\"display:none;\">\n",
              "        \n",
              "  <svg xmlns=\"http://www.w3.org/2000/svg\" height=\"24px\"viewBox=\"0 0 24 24\"\n",
              "       width=\"24px\">\n",
              "    <path d=\"M0 0h24v24H0V0z\" fill=\"none\"/>\n",
              "    <path d=\"M18.56 5.44l.94 2.06.94-2.06 2.06-.94-2.06-.94-.94-2.06-.94 2.06-2.06.94zm-11 1L8.5 8.5l.94-2.06 2.06-.94-2.06-.94L8.5 2.5l-.94 2.06-2.06.94zm10 10l.94 2.06.94-2.06 2.06-.94-2.06-.94-.94-2.06-.94 2.06-2.06.94z\"/><path d=\"M17.41 7.96l-1.37-1.37c-.4-.4-.92-.59-1.43-.59-.52 0-1.04.2-1.43.59L10.3 9.45l-7.72 7.72c-.78.78-.78 2.05 0 2.83L4 21.41c.39.39.9.59 1.41.59.51 0 1.02-.2 1.41-.59l7.78-7.78 2.81-2.81c.8-.78.8-2.07 0-2.86zM5.41 20L4 18.59l7.72-7.72 1.47 1.35L5.41 20z\"/>\n",
              "  </svg>\n",
              "      </button>\n",
              "      \n",
              "  <style>\n",
              "    .colab-df-container {\n",
              "      display:flex;\n",
              "      flex-wrap:wrap;\n",
              "      gap: 12px;\n",
              "    }\n",
              "\n",
              "    .colab-df-convert {\n",
              "      background-color: #E8F0FE;\n",
              "      border: none;\n",
              "      border-radius: 50%;\n",
              "      cursor: pointer;\n",
              "      display: none;\n",
              "      fill: #1967D2;\n",
              "      height: 32px;\n",
              "      padding: 0 0 0 0;\n",
              "      width: 32px;\n",
              "    }\n",
              "\n",
              "    .colab-df-convert:hover {\n",
              "      background-color: #E2EBFA;\n",
              "      box-shadow: 0px 1px 2px rgba(60, 64, 67, 0.3), 0px 1px 3px 1px rgba(60, 64, 67, 0.15);\n",
              "      fill: #174EA6;\n",
              "    }\n",
              "\n",
              "    [theme=dark] .colab-df-convert {\n",
              "      background-color: #3B4455;\n",
              "      fill: #D2E3FC;\n",
              "    }\n",
              "\n",
              "    [theme=dark] .colab-df-convert:hover {\n",
              "      background-color: #434B5C;\n",
              "      box-shadow: 0px 1px 3px 1px rgba(0, 0, 0, 0.15);\n",
              "      filter: drop-shadow(0px 1px 2px rgba(0, 0, 0, 0.3));\n",
              "      fill: #FFFFFF;\n",
              "    }\n",
              "  </style>\n",
              "\n",
              "      <script>\n",
              "        const buttonEl =\n",
              "          document.querySelector('#df-195a2697-b99e-4149-b8b6-48f6265f67a7 button.colab-df-convert');\n",
              "        buttonEl.style.display =\n",
              "          google.colab.kernel.accessAllowed ? 'block' : 'none';\n",
              "\n",
              "        async function convertToInteractive(key) {\n",
              "          const element = document.querySelector('#df-195a2697-b99e-4149-b8b6-48f6265f67a7');\n",
              "          const dataTable =\n",
              "            await google.colab.kernel.invokeFunction('convertToInteractive',\n",
              "                                                     [key], {});\n",
              "          if (!dataTable) return;\n",
              "\n",
              "          const docLinkHtml = 'Like what you see? Visit the ' +\n",
              "            '<a target=\"_blank\" href=https://colab.research.google.com/notebooks/data_table.ipynb>data table notebook</a>'\n",
              "            + ' to learn more about interactive tables.';\n",
              "          element.innerHTML = '';\n",
              "          dataTable['output_type'] = 'display_data';\n",
              "          await google.colab.output.renderOutput(dataTable, element);\n",
              "          const docLink = document.createElement('div');\n",
              "          docLink.innerHTML = docLinkHtml;\n",
              "          element.appendChild(docLink);\n",
              "        }\n",
              "      </script>\n",
              "    </div>\n",
              "  </div>\n",
              "  "
            ]
          },
          "metadata": {},
          "execution_count": 11
        }
      ],
      "source": [
        "df=pd.read_csv(\"result1_final_csv.csv\")\n",
        "df"
      ]
    },
    {
      "cell_type": "code",
      "execution_count": null,
      "metadata": {
        "id": "ok0t4pu_bLG_"
      },
      "outputs": [],
      "source": [
        "y=df[\"prediction\"]  #yaha se kya ho raha h?"
      ]
    },
    {
      "cell_type": "code",
      "execution_count": null,
      "metadata": {
        "id": "otO4LkxSbdrO"
      },
      "outputs": [],
      "source": [
        "X=df.drop(\"prediction\",axis=1)"
      ]
    },
    {
      "cell_type": "code",
      "execution_count": null,
      "metadata": {
        "id": "ex-kPtukcofJ"
      },
      "outputs": [],
      "source": [
        "X=X.drop(\"Unnamed: 0\",axis=1)"
      ]
    },
    {
      "cell_type": "code",
      "execution_count": null,
      "metadata": {
        "colab": {
          "base_uri": "https://localhost:8080/",
          "height": 206
        },
        "id": "TC3M5lIJcFTo",
        "outputId": "340722d2-9406-4cc3-d87b-710421e75577",
        "scrolled": false
      },
      "outputs": [
        {
          "output_type": "execute_result",
          "data": {
            "text/plain": [
              "   temp  oxygen  heart beat\n",
              "0   105      99         109\n",
              "1   100      89          95\n",
              "2    99      93         123\n",
              "3   103      89          96\n",
              "4   104      96          67"
            ],
            "text/html": [
              "\n",
              "  <div id=\"df-6d6ed507-0e79-442c-9255-9e7f58099a50\">\n",
              "    <div class=\"colab-df-container\">\n",
              "      <div>\n",
              "<style scoped>\n",
              "    .dataframe tbody tr th:only-of-type {\n",
              "        vertical-align: middle;\n",
              "    }\n",
              "\n",
              "    .dataframe tbody tr th {\n",
              "        vertical-align: top;\n",
              "    }\n",
              "\n",
              "    .dataframe thead th {\n",
              "        text-align: right;\n",
              "    }\n",
              "</style>\n",
              "<table border=\"1\" class=\"dataframe\">\n",
              "  <thead>\n",
              "    <tr style=\"text-align: right;\">\n",
              "      <th></th>\n",
              "      <th>temp</th>\n",
              "      <th>oxygen</th>\n",
              "      <th>heart beat</th>\n",
              "    </tr>\n",
              "  </thead>\n",
              "  <tbody>\n",
              "    <tr>\n",
              "      <th>0</th>\n",
              "      <td>105</td>\n",
              "      <td>99</td>\n",
              "      <td>109</td>\n",
              "    </tr>\n",
              "    <tr>\n",
              "      <th>1</th>\n",
              "      <td>100</td>\n",
              "      <td>89</td>\n",
              "      <td>95</td>\n",
              "    </tr>\n",
              "    <tr>\n",
              "      <th>2</th>\n",
              "      <td>99</td>\n",
              "      <td>93</td>\n",
              "      <td>123</td>\n",
              "    </tr>\n",
              "    <tr>\n",
              "      <th>3</th>\n",
              "      <td>103</td>\n",
              "      <td>89</td>\n",
              "      <td>96</td>\n",
              "    </tr>\n",
              "    <tr>\n",
              "      <th>4</th>\n",
              "      <td>104</td>\n",
              "      <td>96</td>\n",
              "      <td>67</td>\n",
              "    </tr>\n",
              "  </tbody>\n",
              "</table>\n",
              "</div>\n",
              "      <button class=\"colab-df-convert\" onclick=\"convertToInteractive('df-6d6ed507-0e79-442c-9255-9e7f58099a50')\"\n",
              "              title=\"Convert this dataframe to an interactive table.\"\n",
              "              style=\"display:none;\">\n",
              "        \n",
              "  <svg xmlns=\"http://www.w3.org/2000/svg\" height=\"24px\"viewBox=\"0 0 24 24\"\n",
              "       width=\"24px\">\n",
              "    <path d=\"M0 0h24v24H0V0z\" fill=\"none\"/>\n",
              "    <path d=\"M18.56 5.44l.94 2.06.94-2.06 2.06-.94-2.06-.94-.94-2.06-.94 2.06-2.06.94zm-11 1L8.5 8.5l.94-2.06 2.06-.94-2.06-.94L8.5 2.5l-.94 2.06-2.06.94zm10 10l.94 2.06.94-2.06 2.06-.94-2.06-.94-.94-2.06-.94 2.06-2.06.94z\"/><path d=\"M17.41 7.96l-1.37-1.37c-.4-.4-.92-.59-1.43-.59-.52 0-1.04.2-1.43.59L10.3 9.45l-7.72 7.72c-.78.78-.78 2.05 0 2.83L4 21.41c.39.39.9.59 1.41.59.51 0 1.02-.2 1.41-.59l7.78-7.78 2.81-2.81c.8-.78.8-2.07 0-2.86zM5.41 20L4 18.59l7.72-7.72 1.47 1.35L5.41 20z\"/>\n",
              "  </svg>\n",
              "      </button>\n",
              "      \n",
              "  <style>\n",
              "    .colab-df-container {\n",
              "      display:flex;\n",
              "      flex-wrap:wrap;\n",
              "      gap: 12px;\n",
              "    }\n",
              "\n",
              "    .colab-df-convert {\n",
              "      background-color: #E8F0FE;\n",
              "      border: none;\n",
              "      border-radius: 50%;\n",
              "      cursor: pointer;\n",
              "      display: none;\n",
              "      fill: #1967D2;\n",
              "      height: 32px;\n",
              "      padding: 0 0 0 0;\n",
              "      width: 32px;\n",
              "    }\n",
              "\n",
              "    .colab-df-convert:hover {\n",
              "      background-color: #E2EBFA;\n",
              "      box-shadow: 0px 1px 2px rgba(60, 64, 67, 0.3), 0px 1px 3px 1px rgba(60, 64, 67, 0.15);\n",
              "      fill: #174EA6;\n",
              "    }\n",
              "\n",
              "    [theme=dark] .colab-df-convert {\n",
              "      background-color: #3B4455;\n",
              "      fill: #D2E3FC;\n",
              "    }\n",
              "\n",
              "    [theme=dark] .colab-df-convert:hover {\n",
              "      background-color: #434B5C;\n",
              "      box-shadow: 0px 1px 3px 1px rgba(0, 0, 0, 0.15);\n",
              "      filter: drop-shadow(0px 1px 2px rgba(0, 0, 0, 0.3));\n",
              "      fill: #FFFFFF;\n",
              "    }\n",
              "  </style>\n",
              "\n",
              "      <script>\n",
              "        const buttonEl =\n",
              "          document.querySelector('#df-6d6ed507-0e79-442c-9255-9e7f58099a50 button.colab-df-convert');\n",
              "        buttonEl.style.display =\n",
              "          google.colab.kernel.accessAllowed ? 'block' : 'none';\n",
              "\n",
              "        async function convertToInteractive(key) {\n",
              "          const element = document.querySelector('#df-6d6ed507-0e79-442c-9255-9e7f58099a50');\n",
              "          const dataTable =\n",
              "            await google.colab.kernel.invokeFunction('convertToInteractive',\n",
              "                                                     [key], {});\n",
              "          if (!dataTable) return;\n",
              "\n",
              "          const docLinkHtml = 'Like what you see? Visit the ' +\n",
              "            '<a target=\"_blank\" href=https://colab.research.google.com/notebooks/data_table.ipynb>data table notebook</a>'\n",
              "            + ' to learn more about interactive tables.';\n",
              "          element.innerHTML = '';\n",
              "          dataTable['output_type'] = 'display_data';\n",
              "          await google.colab.output.renderOutput(dataTable, element);\n",
              "          const docLink = document.createElement('div');\n",
              "          docLink.innerHTML = docLinkHtml;\n",
              "          element.appendChild(docLink);\n",
              "        }\n",
              "      </script>\n",
              "    </div>\n",
              "  </div>\n",
              "  "
            ]
          },
          "metadata": {},
          "execution_count": 15
        }
      ],
      "source": [
        "X.head()"
      ]
    },
    {
      "cell_type": "code",
      "execution_count": null,
      "metadata": {
        "colab": {
          "base_uri": "https://localhost:8080/",
          "height": 300
        },
        "id": "3YhMah0xhHG9",
        "outputId": "0aed0a98-3e6b-4a56-ba05-7e7a4ebf16ca"
      },
      "outputs": [
        {
          "output_type": "execute_result",
          "data": {
            "text/plain": [
              "              temp       oxygen   heart beat\n",
              "count  1000.000000  1000.000000  1000.000000\n",
              "mean    100.450000    91.651000    94.583000\n",
              "std       2.928494     4.233571    20.675846\n",
              "min      96.000000    85.000000    60.000000\n",
              "25%      98.000000    88.000000    77.000000\n",
              "50%     100.000000    91.000000    93.000000\n",
              "75%     103.000000    95.000000   112.000000\n",
              "max     105.000000    99.000000   130.000000"
            ],
            "text/html": [
              "\n",
              "  <div id=\"df-70c0165f-13fb-4798-b5d6-4ffa092b97cf\">\n",
              "    <div class=\"colab-df-container\">\n",
              "      <div>\n",
              "<style scoped>\n",
              "    .dataframe tbody tr th:only-of-type {\n",
              "        vertical-align: middle;\n",
              "    }\n",
              "\n",
              "    .dataframe tbody tr th {\n",
              "        vertical-align: top;\n",
              "    }\n",
              "\n",
              "    .dataframe thead th {\n",
              "        text-align: right;\n",
              "    }\n",
              "</style>\n",
              "<table border=\"1\" class=\"dataframe\">\n",
              "  <thead>\n",
              "    <tr style=\"text-align: right;\">\n",
              "      <th></th>\n",
              "      <th>temp</th>\n",
              "      <th>oxygen</th>\n",
              "      <th>heart beat</th>\n",
              "    </tr>\n",
              "  </thead>\n",
              "  <tbody>\n",
              "    <tr>\n",
              "      <th>count</th>\n",
              "      <td>1000.000000</td>\n",
              "      <td>1000.000000</td>\n",
              "      <td>1000.000000</td>\n",
              "    </tr>\n",
              "    <tr>\n",
              "      <th>mean</th>\n",
              "      <td>100.450000</td>\n",
              "      <td>91.651000</td>\n",
              "      <td>94.583000</td>\n",
              "    </tr>\n",
              "    <tr>\n",
              "      <th>std</th>\n",
              "      <td>2.928494</td>\n",
              "      <td>4.233571</td>\n",
              "      <td>20.675846</td>\n",
              "    </tr>\n",
              "    <tr>\n",
              "      <th>min</th>\n",
              "      <td>96.000000</td>\n",
              "      <td>85.000000</td>\n",
              "      <td>60.000000</td>\n",
              "    </tr>\n",
              "    <tr>\n",
              "      <th>25%</th>\n",
              "      <td>98.000000</td>\n",
              "      <td>88.000000</td>\n",
              "      <td>77.000000</td>\n",
              "    </tr>\n",
              "    <tr>\n",
              "      <th>50%</th>\n",
              "      <td>100.000000</td>\n",
              "      <td>91.000000</td>\n",
              "      <td>93.000000</td>\n",
              "    </tr>\n",
              "    <tr>\n",
              "      <th>75%</th>\n",
              "      <td>103.000000</td>\n",
              "      <td>95.000000</td>\n",
              "      <td>112.000000</td>\n",
              "    </tr>\n",
              "    <tr>\n",
              "      <th>max</th>\n",
              "      <td>105.000000</td>\n",
              "      <td>99.000000</td>\n",
              "      <td>130.000000</td>\n",
              "    </tr>\n",
              "  </tbody>\n",
              "</table>\n",
              "</div>\n",
              "      <button class=\"colab-df-convert\" onclick=\"convertToInteractive('df-70c0165f-13fb-4798-b5d6-4ffa092b97cf')\"\n",
              "              title=\"Convert this dataframe to an interactive table.\"\n",
              "              style=\"display:none;\">\n",
              "        \n",
              "  <svg xmlns=\"http://www.w3.org/2000/svg\" height=\"24px\"viewBox=\"0 0 24 24\"\n",
              "       width=\"24px\">\n",
              "    <path d=\"M0 0h24v24H0V0z\" fill=\"none\"/>\n",
              "    <path d=\"M18.56 5.44l.94 2.06.94-2.06 2.06-.94-2.06-.94-.94-2.06-.94 2.06-2.06.94zm-11 1L8.5 8.5l.94-2.06 2.06-.94-2.06-.94L8.5 2.5l-.94 2.06-2.06.94zm10 10l.94 2.06.94-2.06 2.06-.94-2.06-.94-.94-2.06-.94 2.06-2.06.94z\"/><path d=\"M17.41 7.96l-1.37-1.37c-.4-.4-.92-.59-1.43-.59-.52 0-1.04.2-1.43.59L10.3 9.45l-7.72 7.72c-.78.78-.78 2.05 0 2.83L4 21.41c.39.39.9.59 1.41.59.51 0 1.02-.2 1.41-.59l7.78-7.78 2.81-2.81c.8-.78.8-2.07 0-2.86zM5.41 20L4 18.59l7.72-7.72 1.47 1.35L5.41 20z\"/>\n",
              "  </svg>\n",
              "      </button>\n",
              "      \n",
              "  <style>\n",
              "    .colab-df-container {\n",
              "      display:flex;\n",
              "      flex-wrap:wrap;\n",
              "      gap: 12px;\n",
              "    }\n",
              "\n",
              "    .colab-df-convert {\n",
              "      background-color: #E8F0FE;\n",
              "      border: none;\n",
              "      border-radius: 50%;\n",
              "      cursor: pointer;\n",
              "      display: none;\n",
              "      fill: #1967D2;\n",
              "      height: 32px;\n",
              "      padding: 0 0 0 0;\n",
              "      width: 32px;\n",
              "    }\n",
              "\n",
              "    .colab-df-convert:hover {\n",
              "      background-color: #E2EBFA;\n",
              "      box-shadow: 0px 1px 2px rgba(60, 64, 67, 0.3), 0px 1px 3px 1px rgba(60, 64, 67, 0.15);\n",
              "      fill: #174EA6;\n",
              "    }\n",
              "\n",
              "    [theme=dark] .colab-df-convert {\n",
              "      background-color: #3B4455;\n",
              "      fill: #D2E3FC;\n",
              "    }\n",
              "\n",
              "    [theme=dark] .colab-df-convert:hover {\n",
              "      background-color: #434B5C;\n",
              "      box-shadow: 0px 1px 3px 1px rgba(0, 0, 0, 0.15);\n",
              "      filter: drop-shadow(0px 1px 2px rgba(0, 0, 0, 0.3));\n",
              "      fill: #FFFFFF;\n",
              "    }\n",
              "  </style>\n",
              "\n",
              "      <script>\n",
              "        const buttonEl =\n",
              "          document.querySelector('#df-70c0165f-13fb-4798-b5d6-4ffa092b97cf button.colab-df-convert');\n",
              "        buttonEl.style.display =\n",
              "          google.colab.kernel.accessAllowed ? 'block' : 'none';\n",
              "\n",
              "        async function convertToInteractive(key) {\n",
              "          const element = document.querySelector('#df-70c0165f-13fb-4798-b5d6-4ffa092b97cf');\n",
              "          const dataTable =\n",
              "            await google.colab.kernel.invokeFunction('convertToInteractive',\n",
              "                                                     [key], {});\n",
              "          if (!dataTable) return;\n",
              "\n",
              "          const docLinkHtml = 'Like what you see? Visit the ' +\n",
              "            '<a target=\"_blank\" href=https://colab.research.google.com/notebooks/data_table.ipynb>data table notebook</a>'\n",
              "            + ' to learn more about interactive tables.';\n",
              "          element.innerHTML = '';\n",
              "          dataTable['output_type'] = 'display_data';\n",
              "          await google.colab.output.renderOutput(dataTable, element);\n",
              "          const docLink = document.createElement('div');\n",
              "          docLink.innerHTML = docLinkHtml;\n",
              "          element.appendChild(docLink);\n",
              "        }\n",
              "      </script>\n",
              "    </div>\n",
              "  </div>\n",
              "  "
            ]
          },
          "metadata": {},
          "execution_count": 16
        }
      ],
      "source": [
        "X.describe()"
      ]
    },
    {
      "cell_type": "code",
      "execution_count": null,
      "metadata": {
        "id": "d2A9u5cfbr6q"
      },
      "outputs": [],
      "source": [
        "from sklearn.model_selection import train_test_split"
      ]
    },
    {
      "cell_type": "code",
      "execution_count": null,
      "metadata": {
        "id": "frrhImwcbvyz"
      },
      "outputs": [],
      "source": [
        "X_train,X_test,y_train,y_test=train_test_split(X,y,test_size=0.3,random_state=42,stratify=y) #splitting"
      ]
    },
    {
      "cell_type": "code",
      "execution_count": null,
      "metadata": {
        "id": "vPVTjvxQdOfO"
      },
      "outputs": [],
      "source": [
        "from sklearn.preprocessing import MinMaxScaler"
      ]
    },
    {
      "cell_type": "code",
      "execution_count": null,
      "metadata": {
        "id": "P_9Ep2eYdPjW"
      },
      "outputs": [],
      "source": [
        "scaler=MinMaxScaler()\n",
        "X_train=scaler.fit_transform(X_train)\n",
        "X_test=scaler.transform(X_test)"
      ]
    },
    {
      "cell_type": "markdown",
      "metadata": {
        "id": "PQ7zFokDderb"
      },
      "source": [
        "#KNN\n"
      ]
    },
    {
      "cell_type": "code",
      "execution_count": null,
      "metadata": {
        "id": "y7ZuIbBQdeMO"
      },
      "outputs": [],
      "source": [
        "from sklearn.neighbors import KNeighborsClassifier  #training"
      ]
    },
    {
      "cell_type": "code",
      "execution_count": null,
      "metadata": {
        "id": "_Lf8AnZbdlzG"
      },
      "outputs": [],
      "source": [
        "model=KNeighborsClassifier(n_neighbors=2)"
      ]
    },
    {
      "cell_type": "code",
      "execution_count": null,
      "metadata": {
        "colab": {
          "base_uri": "https://localhost:8080/"
        },
        "id": "7A7jSdKNdpBl",
        "outputId": "a06a3b34-7c49-4c85-bc4a-f4479127c831"
      },
      "outputs": [
        {
          "output_type": "execute_result",
          "data": {
            "text/plain": [
              "KNeighborsClassifier(n_neighbors=2)"
            ]
          },
          "metadata": {},
          "execution_count": 23
        }
      ],
      "source": [
        "model.fit(X_train,y_train)"
      ]
    },
    {
      "cell_type": "code",
      "execution_count": null,
      "metadata": {
        "colab": {
          "base_uri": "https://localhost:8080/"
        },
        "id": "rEE3tOnLdseN",
        "outputId": "240936b9-0fc6-42de-c727-95486f736d63"
      },
      "outputs": [
        {
          "output_type": "execute_result",
          "data": {
            "text/plain": [
              "0.9633333333333334"
            ]
          },
          "metadata": {},
          "execution_count": 24
        }
      ],
      "source": [
        "model.score(X_test,y_test)"
      ]
    },
    {
      "cell_type": "markdown",
      "metadata": {
        "id": "AXxiShxTeFpa"
      },
      "source": [
        "#KNN prediction"
      ]
    },
    {
      "cell_type": "code",
      "execution_count": null,
      "metadata": {
        "id": "BeD-YY43eEP_"
      },
      "outputs": [],
      "source": [
        "data=pd.DataFrame({0:[96],1:[99],2:[72]})"
      ]
    },
    {
      "cell_type": "code",
      "execution_count": null,
      "metadata": {
        "id": "Qb6yctX_eZjs",
        "colab": {
          "base_uri": "https://localhost:8080/"
        },
        "outputId": "461b06c2-a3d3-4916-f765-0009b1b67bea"
      },
      "outputs": [
        {
          "output_type": "stream",
          "name": "stderr",
          "text": [
            "/usr/local/lib/python3.7/dist-packages/sklearn/base.py:451: UserWarning: X does not have valid feature names, but MinMaxScaler was fitted with feature names\n",
            "  \"X does not have valid feature names, but\"\n"
          ]
        }
      ],
      "source": [
        "data=scaler.transform(data)"
      ]
    },
    {
      "cell_type": "code",
      "execution_count": null,
      "metadata": {
        "colab": {
          "base_uri": "https://localhost:8080/"
        },
        "id": "TLLDRhiwehQL",
        "outputId": "d2bf7a83-974c-4ae9-d332-7ca6342bb574"
      },
      "outputs": [
        {
          "output_type": "execute_result",
          "data": {
            "text/plain": [
              "array(['no possible risk'], dtype=object)"
            ]
          },
          "metadata": {},
          "execution_count": 27
        }
      ],
      "source": [
        "model.predict(data)"
      ]
    },
    {
      "cell_type": "markdown",
      "metadata": {
        "id": "ZweZ860phYPJ"
      },
      "source": [
        "logistic regression "
      ]
    },
    {
      "cell_type": "code",
      "execution_count": null,
      "metadata": {
        "colab": {
          "base_uri": "https://localhost:8080/"
        },
        "id": "WwYi5simhXqy",
        "outputId": "c4bdaa3d-f001-43d2-a5a9-18bc1662bf23"
      },
      "outputs": [
        {
          "output_type": "execute_result",
          "data": {
            "text/plain": [
              "LogisticRegression()"
            ]
          },
          "metadata": {},
          "execution_count": 28
        }
      ],
      "source": [
        "from sklearn.linear_model import LogisticRegression\n",
        "model=LogisticRegression()\n",
        "model.fit(X_train,y_train)"
      ]
    },
    {
      "cell_type": "code",
      "execution_count": null,
      "metadata": {
        "colab": {
          "base_uri": "https://localhost:8080/"
        },
        "id": "UQ2o2KwSjfSi",
        "outputId": "c89ac8d4-87f6-481e-91b2-50764e2e2585",
        "scrolled": true
      },
      "outputs": [
        {
          "output_type": "execute_result",
          "data": {
            "text/plain": [
              "0.9233333333333333"
            ]
          },
          "metadata": {},
          "execution_count": 29
        }
      ],
      "source": [
        "model.score(X_test,y_test)"
      ]
    },
    {
      "cell_type": "code",
      "execution_count": null,
      "metadata": {
        "colab": {
          "base_uri": "https://localhost:8080/"
        },
        "id": "xryZlt7BjlKg",
        "outputId": "9545d4bc-096d-4cf9-d022-a2da5e395c2c"
      },
      "outputs": [
        {
          "output_type": "stream",
          "name": "stderr",
          "text": [
            "/usr/local/lib/python3.7/dist-packages/sklearn/base.py:451: UserWarning: X does not have valid feature names, but MinMaxScaler was fitted with feature names\n",
            "  \"X does not have valid feature names, but\"\n"
          ]
        },
        {
          "output_type": "execute_result",
          "data": {
            "text/plain": [
              "array(['no possible risk'], dtype=object)"
            ]
          },
          "metadata": {},
          "execution_count": 30
        }
      ],
      "source": [
        "data=pd.DataFrame({0:[96],1:[99],2:[72]})  #manual feed\n",
        "data=scaler.transform(data)\n",
        "model.predict(data)"
      ]
    },
    {
      "cell_type": "code",
      "execution_count": null,
      "metadata": {
        "id": "TL3BoucjlUGV"
      },
      "outputs": [],
      "source": [
        ""
      ]
    },
    {
      "cell_type": "code",
      "source": [
        "from google.colab import drive\n",
        "drive.mount('/content/drive')"
      ],
      "metadata": {
        "colab": {
          "base_uri": "https://localhost:8080/"
        },
        "id": "7gG-4KUbm6R1",
        "outputId": "fe7ea597-adb7-490c-a869-983dd9c461a0"
      },
      "execution_count": null,
      "outputs": [
        {
          "output_type": "stream",
          "name": "stdout",
          "text": [
            "Mounted at /content/drive\n"
          ]
        }
      ]
    }
  ],
  "metadata": {
    "colab": {
      "collapsed_sections": [],
      "name": "mini_project_FINAL.ipynb",
      "provenance": [],
      "include_colab_link": true
    },
    "kernelspec": {
      "display_name": "Python 3 (ipykernel)",
      "language": "python",
      "name": "python3"
    },
    "language_info": {
      "codemirror_mode": {
        "name": "ipython",
        "version": 3
      },
      "file_extension": ".py",
      "mimetype": "text/x-python",
      "name": "python",
      "nbconvert_exporter": "python",
      "pygments_lexer": "ipython3",
      "version": "3.9.7"
    }
  },
  "nbformat": 4,
  "nbformat_minor": 0
}