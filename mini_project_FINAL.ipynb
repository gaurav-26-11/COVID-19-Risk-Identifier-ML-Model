{
  "cells": [
    {
      "cell_type": "markdown",
      "metadata": {
        "id": "view-in-github",
        "colab_type": "text"
      },
      "source": [
        "<a href=\"https://colab.research.google.com/github/gaurav-26-11/COVID-19-Risk-Identifier-ML-Model/blob/main/mini_project_FINAL.ipynb\" target=\"_parent\"><img src=\"https://colab.research.google.com/assets/colab-badge.svg\" alt=\"Open In Colab\"/></a>"
      ]
    },
    {
      "cell_type": "code",
      "execution_count": 1,
      "metadata": {
        "colab": {
          "base_uri": "https://localhost:8080/"
        },
        "id": "7vw2FMR6HthI",
        "outputId": "a0815b87-22cb-4e9f-f1fc-168247b60a21",
        "scrolled": true
      },
      "outputs": [
        {
          "output_type": "stream",
          "name": "stdout",
          "text": [
            "[99, 99, 104, 96, 104, 104, 98, 99, 98, 100, 102, 98, 96, 104, 97, 101, 104, 103, 102, 96, 102, 101, 99, 98, 105, 101, 96, 102, 100, 102, 100, 97, 101, 100, 96, 105, 100, 104, 102, 104, 105, 98, 105, 100, 96, 101, 102, 96, 100, 104, 101, 99, 97, 97, 101, 104, 101, 104, 105, 97, 104, 105, 103, 99, 97, 102, 102, 96, 103, 105, 100, 102, 104, 104, 98, 104, 97, 99, 104, 97, 105, 104, 98, 100, 98, 98, 99, 97, 97, 102, 97, 102, 103, 99, 104, 100, 98, 96, 104, 105, 102, 96, 98, 100, 98, 96, 99, 99, 99, 99, 102, 100, 104, 105, 96, 103, 102, 102, 103, 99, 99, 97, 105, 105, 96, 96, 101, 101, 102, 104, 102, 102, 100, 99, 101, 104, 99, 101, 98, 96, 98, 98, 102, 96, 103, 105, 99, 105, 97, 102, 99, 100, 105, 100, 104, 102, 96, 100, 100, 96, 102, 102, 104, 96, 100, 98, 103, 97, 104, 104, 104, 97, 98, 105, 105, 100, 104, 105, 104, 99, 104, 104, 105, 98, 97, 100, 105, 100, 104, 98, 102, 98, 105, 97, 96, 101, 99, 99, 96, 101, 104, 97, 100, 101, 105, 101, 105, 97, 105, 103, 103, 102, 103, 101, 102, 102, 101, 102, 99, 96, 104, 99, 100, 99, 105, 102, 101, 105, 98, 105, 105, 103, 102, 101, 97, 98, 101, 97, 97, 104, 100, 96, 102, 103, 100, 99, 97, 98, 97, 104, 96, 103, 98, 105, 101, 100, 99, 100, 98, 102, 98, 99, 103, 103, 103, 99, 98, 103, 104, 100, 97, 102, 100, 103, 102, 97, 104, 104, 98, 98, 98, 105, 102, 100, 102, 104, 104, 100, 104, 100, 98, 98, 98, 97, 104, 98, 97, 99, 100, 98, 102, 97, 96, 100, 99, 96, 99, 100, 104, 103, 103, 103, 105, 101, 101, 97, 101, 101, 101, 102, 105, 104, 100, 103, 96, 98, 102, 103, 101, 100, 97, 98, 103, 96, 100, 96, 101, 99, 101, 105, 104, 96, 98, 96, 105, 103, 105, 100, 105, 98, 104, 100, 97, 102, 99, 105, 102, 97, 104, 96, 104, 98, 96, 100, 98, 100, 104, 104, 98, 100, 99, 96, 100, 100, 101, 101, 97, 98, 98, 99, 102, 104, 104, 99, 96, 100, 100, 103, 99, 102, 101, 97, 102, 103, 103, 105, 105, 98, 102, 104, 97, 96, 96, 102, 97, 97, 103, 100, 105, 105, 100, 100, 100, 100, 98, 105, 102, 96, 104, 97, 103, 99, 100, 96, 100, 98, 99, 101, 99, 97, 100, 98, 101, 105, 104, 104, 105, 99, 102, 101, 104, 97, 104, 104, 97, 104, 99, 100, 99, 101, 101, 97, 102, 97, 99, 98, 105, 101, 99, 103, 102, 101, 105, 100, 99, 98, 103, 100, 99, 96, 105, 99, 105, 96, 100, 96, 105, 101, 97, 104, 102, 104, 101, 100, 99, 100, 97, 102, 104, 101, 99, 99, 103, 103, 97, 97, 96, 99, 98, 100, 98, 101, 100, 103, 105, 97, 101, 96, 98, 104, 99, 101, 105, 105, 98, 101, 100, 102, 104, 104, 103, 97, 101, 102, 96, 103, 102, 103, 98, 101, 99, 96, 101, 100, 100, 105, 97, 102, 101, 103, 105, 96, 105, 97, 98, 103, 104, 103, 104, 100, 98, 100, 103, 97, 100, 101, 99, 102, 104, 97, 100, 97, 101, 104, 100, 104, 102, 102, 101, 96, 104, 97, 105, 103, 105, 96, 103, 101, 97, 105, 102, 104, 103, 96, 105, 102, 96, 104, 103, 101, 97, 96, 102, 97, 105, 104, 99, 103, 104, 96, 96, 96, 98, 100, 101, 97, 96, 97, 98, 96, 96, 96, 100, 99, 101, 104, 105, 102, 103, 105, 102, 103, 97, 99, 97, 105, 102, 102, 99, 103, 98, 105, 99, 103, 100, 101, 101, 96, 103, 103, 102, 100, 98, 96, 103, 104, 101, 105, 105, 103, 101, 96, 97, 105, 103, 102, 96, 101, 102, 101, 103, 96, 99, 103, 98, 102, 104, 98, 101, 97, 104, 102, 98, 101, 96, 105, 104, 97, 100, 101, 98, 104, 98, 97, 101, 99, 100, 101, 98, 105, 97, 105, 102, 97, 102, 100, 103, 101, 104, 99, 99, 99, 101, 100, 100, 102, 96, 101, 102, 102, 98, 101, 101, 100, 100, 100, 102, 100, 100, 104, 96, 97, 103, 101, 98, 100, 96, 105, 97, 96, 98, 96, 99, 102, 98, 96, 102, 103, 102, 101, 98, 99, 105, 103, 101, 104, 99, 101, 101, 105, 101, 97, 97, 96, 104, 96, 102, 105, 100, 101, 97, 99, 100, 97, 98, 105, 102, 102, 101, 99, 96, 104, 99, 102, 105, 97, 104, 100, 101, 101, 98, 101, 101, 101, 97, 100, 96, 98, 103, 99, 96, 103, 101, 104, 98, 103, 105, 105, 104, 101, 96, 100, 96, 100, 103, 99, 99, 101, 96, 103, 104, 105, 99, 102, 97, 102, 100, 104, 102, 96, 102, 99, 102, 100, 98, 100, 97, 102, 105, 100, 102, 101, 104, 98, 99, 100, 97, 100, 104, 103, 97, 105, 97, 102, 99, 101, 100, 99, 97, 97, 99, 99, 99, 101, 102, 99, 99, 98, 102, 98, 104, 101, 104, 101, 102, 104, 96, 104, 98, 103, 97, 105, 102, 103, 103, 96, 104, 104, 105, 105, 103, 105, 100, 100, 100, 98, 99, 99, 97, 98, 100, 104, 104, 102, 104, 103, 100, 101, 97, 98, 103, 104, 100, 104, 103, 100, 105, 102, 99, 104, 101, 103, 103, 96, 104, 97, 102, 103, 104, 104, 99, 103, 103, 102, 96, 100, 105, 103, 97, 101, 99, 100, 100, 96, 103, 103, 97, 103, 97, 96, 100, 96, 96, 97, 101, 102, 102, 104, 101, 97, 100, 99, 96, 98, 101, 104, 101, 105, 103, 97, 97, 98, 102, 104, 102, 103, 104, 97, 100, 97, 100, 104, 101, 101, 97, 100, 105, 101, 104, 96, 100, 100, 101, 99, 98, 98, 98, 104, 98, 101, 101, 96, 104, 102, 101, 102, 97, 97, 105, 96]\n",
            "[96, 98, 88, 99, 98, 86, 95, 87, 91, 93, 89, 98, 94, 98, 97, 93, 91, 86, 96, 89, 99, 97, 99, 89, 96, 94, 89, 86, 98, 87, 91, 87, 89, 85, 96, 86, 85, 88, 94, 92, 95, 91, 94, 98, 92, 93, 93, 92, 85, 97, 95, 95, 95, 85, 89, 85, 96, 98, 86, 94, 89, 90, 94, 97, 94, 90, 95, 97, 91, 94, 99, 86, 93, 96, 94, 89, 94, 94, 86, 95, 86, 98, 85, 97, 87, 97, 95, 86, 89, 94, 85, 94, 98, 89, 92, 86, 99, 95, 97, 88, 91, 96, 85, 91, 92, 97, 98, 95, 99, 87, 99, 86, 98, 89, 90, 94, 90, 87, 85, 85, 87, 88, 94, 96, 97, 98, 95, 95, 85, 95, 99, 87, 85, 88, 91, 97, 90, 99, 93, 91, 99, 94, 98, 97, 97, 85, 98, 88, 97, 98, 91, 92, 94, 88, 85, 97, 86, 88, 87, 90, 99, 89, 97, 87, 94, 99, 89, 91, 95, 96, 86, 94, 93, 90, 93, 96, 89, 92, 90, 89, 93, 96, 96, 98, 89, 95, 94, 97, 94, 87, 99, 99, 96, 98, 88, 89, 85, 92, 88, 90, 91, 89, 89, 88, 95, 95, 95, 98, 98, 99, 86, 94, 95, 93, 88, 91, 96, 89, 98, 87, 86, 86, 99, 92, 99, 95, 87, 99, 91, 86, 99, 92, 97, 99, 98, 92, 86, 91, 99, 94, 99, 92, 85, 94, 89, 94, 95, 97, 86, 86, 87, 96, 94, 91, 88, 94, 93, 94, 90, 97, 89, 86, 99, 93, 88, 90, 92, 90, 88, 90, 87, 85, 95, 93, 85, 85, 95, 94, 87, 93, 90, 88, 98, 85, 96, 93, 85, 89, 88, 91, 87, 97, 94, 95, 92, 87, 89, 95, 98, 93, 85, 97, 91, 87, 88, 94, 94, 90, 94, 88, 90, 95, 93, 99, 99, 89, 98, 90, 99, 93, 87, 88, 86, 93, 95, 94, 99, 95, 85, 91, 98, 95, 96, 86, 91, 93, 91, 95, 98, 90, 88, 97, 88, 96, 98, 99, 96, 99, 86, 95, 99, 98, 96, 99, 87, 94, 88, 88, 88, 95, 97, 94, 90, 97, 95, 96, 98, 85, 85, 95, 88, 98, 94, 91, 99, 88, 86, 85, 85, 90, 95, 87, 98, 95, 97, 87, 88, 98, 85, 91, 99, 92, 91, 88, 99, 97, 87, 91, 92, 94, 94, 97, 89, 88, 92, 99, 91, 97, 86, 99, 98, 88, 99, 98, 99, 93, 92, 86, 90, 94, 95, 94, 95, 98, 96, 97, 94, 88, 90, 88, 96, 97, 95, 93, 96, 99, 92, 94, 93, 94, 91, 92, 95, 92, 91, 85, 92, 87, 96, 93, 95, 85, 88, 95, 97, 91, 92, 97, 86, 86, 89, 87, 96, 96, 98, 91, 99, 96, 93, 98, 96, 93, 97, 92, 93, 92, 97, 87, 89, 96, 93, 92, 95, 95, 94, 90, 91, 94, 95, 94, 93, 97, 97, 94, 96, 99, 97, 85, 85, 94, 86, 92, 96, 90, 99, 85, 92, 87, 96, 98, 88, 96, 93, 94, 90, 86, 95, 86, 86, 92, 97, 97, 91, 93, 93, 87, 92, 89, 94, 92, 86, 97, 97, 86, 87, 92, 85, 91, 88, 89, 93, 99, 91, 95, 86, 90, 98, 99, 86, 98, 89, 92, 99, 87, 87, 89, 92, 90, 89, 87, 91, 90, 97, 93, 91, 94, 86, 94, 95, 93, 94, 91, 97, 94, 97, 87, 90, 85, 85, 92, 88, 87, 94, 90, 90, 91, 98, 97, 90, 97, 97, 97, 89, 98, 87, 91, 93, 97, 97, 88, 96, 94, 90, 88, 93, 93, 86, 94, 86, 90, 94, 92, 88, 97, 89, 98, 91, 98, 95, 99, 87, 86, 95, 98, 93, 95, 95, 85, 97, 92, 88, 90, 95, 87, 96, 92, 96, 97, 86, 89, 97, 86, 88, 87, 99, 91, 99, 94, 89, 99, 97, 85, 96, 92, 89, 97, 85, 88, 85, 90, 89, 87, 90, 90, 92, 88, 94, 96, 94, 92, 86, 85, 90, 97, 91, 96, 92, 95, 92, 94, 88, 91, 97, 85, 93, 98, 87, 97, 95, 87, 98, 91, 86, 87, 91, 92, 96, 87, 93, 85, 86, 97, 99, 97, 85, 98, 95, 98, 94, 88, 96, 88, 94, 89, 99, 95, 93, 93, 95, 95, 99, 99, 96, 86, 93, 89, 99, 91, 91, 88, 92, 93, 98, 94, 89, 92, 99, 95, 86, 95, 85, 98, 95, 99, 90, 96, 99, 89, 96, 92, 89, 90, 96, 89, 89, 98, 87, 93, 86, 99, 95, 97, 85, 85, 99, 97, 99, 97, 86, 95, 90, 90, 90, 85, 95, 90, 93, 89, 89, 90, 97, 85, 94, 85, 92, 85, 98, 99, 91, 96, 98, 90, 86, 87, 92, 87, 98, 96, 97, 97, 99, 86, 88, 96, 86, 90, 85, 86, 94, 96, 98, 92, 93, 93, 93, 95, 92, 96, 87, 87, 88, 91, 97, 89, 89, 95, 91, 95, 91, 90, 97, 98, 99, 85, 90, 94, 99, 88, 92, 87, 97, 93, 95, 88, 92, 95, 90, 91, 94, 91, 98, 88, 98, 94, 86, 98, 99, 92, 92, 85, 98, 92, 97, 92, 91, 93, 87, 94, 87, 96, 87, 93, 86, 88, 91, 94, 99, 86, 94, 96, 96, 97, 96, 89, 95, 93, 91, 96, 94, 89, 86, 89, 90, 87, 90, 99, 85, 90, 88, 89, 97, 98, 88, 87, 89, 98, 88, 95, 97, 99, 86, 86, 91, 91, 89, 98, 98, 86, 92, 93, 87, 93, 89, 86, 98, 91, 89, 93, 89, 96, 93, 88, 99, 87, 99, 86, 92, 98, 89, 97, 95, 93, 93, 87, 88, 97, 92, 85, 95, 89, 94, 91, 99, 98, 94, 86, 92, 99, 89, 87, 89, 99, 90, 96, 86, 92, 97, 96, 92, 86, 91, 87, 94, 87, 85, 86, 88, 85, 96, 94, 94, 99, 94, 94, 86, 90, 88, 94, 94, 96, 87, 96, 99, 98, 98, 86, 98, 90, 93, 97]\n",
            "[113, 126, 62, 108, 104, 68, 62, 129, 75, 70, 104, 111, 62, 80, 97, 119, 84, 67, 68, 87, 76, 124, 64, 124, 128, 64, 87, 76, 89, 114, 93, 114, 92, 92, 128, 104, 125, 78, 79, 100, 120, 72, 125, 100, 86, 63, 73, 89, 129, 103, 125, 98, 75, 115, 83, 61, 73, 69, 120, 116, 120, 61, 60, 83, 118, 115, 93, 91, 127, 76, 75, 125, 129, 117, 129, 107, 94, 86, 74, 110, 120, 106, 117, 91, 95, 63, 125, 98, 90, 70, 69, 112, 81, 63, 105, 63, 89, 125, 65, 71, 81, 119, 78, 112, 112, 103, 118, 64, 62, 88, 80, 126, 86, 89, 102, 86, 105, 92, 72, 106, 129, 67, 122, 109, 64, 78, 107, 119, 66, 113, 63, 109, 103, 99, 113, 125, 73, 81, 77, 127, 95, 97, 66, 129, 100, 62, 68, 117, 130, 124, 77, 114, 95, 79, 99, 77, 116, 108, 94, 109, 123, 87, 121, 64, 98, 104, 85, 102, 108, 125, 96, 109, 82, 60, 90, 115, 113, 68, 116, 75, 120, 90, 97, 79, 85, 93, 84, 82, 99, 122, 81, 127, 126, 88, 104, 101, 64, 95, 70, 75, 90, 125, 99, 86, 120, 70, 87, 98, 60, 68, 66, 64, 99, 123, 117, 113, 116, 127, 82, 68, 67, 96, 96, 130, 89, 106, 71, 85, 129, 102, 76, 128, 123, 125, 74, 69, 130, 102, 83, 84, 84, 104, 104, 105, 112, 120, 87, 102, 66, 126, 85, 111, 112, 102, 64, 72, 65, 91, 120, 79, 109, 84, 96, 93, 115, 73, 73, 95, 88, 107, 112, 68, 97, 80, 105, 87, 106, 74, 98, 113, 87, 84, 81, 97, 89, 112, 123, 114, 89, 83, 65, 86, 111, 108, 122, 120, 71, 121, 63, 76, 103, 83, 85, 121, 67, 61, 82, 103, 79, 67, 80, 85, 125, 126, 114, 73, 71, 106, 80, 126, 107, 85, 70, 123, 69, 118, 75, 62, 103, 114, 102, 74, 89, 61, 92, 91, 101, 124, 77, 106, 84, 125, 75, 63, 86, 91, 116, 114, 88, 72, 127, 112, 105, 70, 105, 62, 110, 81, 80, 124, 104, 112, 121, 106, 64, 72, 119, 104, 112, 127, 96, 82, 113, 92, 96, 120, 125, 111, 74, 128, 105, 100, 81, 96, 95, 64, 61, 74, 79, 114, 107, 108, 62, 102, 126, 82, 62, 75, 62, 115, 110, 76, 81, 127, 100, 117, 82, 123, 88, 85, 125, 80, 76, 118, 113, 105, 91, 92, 103, 102, 60, 74, 125, 74, 80, 95, 102, 77, 96, 86, 96, 95, 118, 97, 109, 113, 89, 89, 127, 101, 128, 91, 106, 66, 79, 116, 66, 126, 105, 124, 106, 75, 63, 111, 91, 94, 73, 118, 96, 113, 103, 109, 84, 115, 129, 63, 100, 122, 74, 130, 73, 106, 121, 95, 112, 83, 111, 85, 77, 111, 114, 85, 96, 104, 110, 115, 130, 70, 127, 62, 110, 98, 110, 79, 125, 66, 127, 113, 114, 93, 115, 93, 124, 111, 103, 87, 119, 89, 68, 111, 65, 102, 79, 70, 87, 115, 105, 106, 102, 85, 112, 117, 108, 127, 105, 122, 122, 92, 75, 121, 77, 65, 71, 93, 125, 115, 63, 129, 116, 101, 71, 60, 82, 65, 110, 94, 129, 77, 90, 129, 87, 71, 70, 118, 125, 117, 69, 100, 121, 109, 109, 103, 76, 103, 84, 78, 73, 126, 74, 83, 95, 117, 118, 122, 105, 78, 73, 74, 79, 129, 102, 81, 115, 73, 66, 118, 97, 100, 83, 77, 73, 101, 87, 80, 106, 97, 75, 78, 100, 63, 119, 64, 65, 74, 92, 112, 117, 107, 110, 77, 73, 109, 117, 93, 67, 63, 68, 99, 110, 129, 93, 77, 126, 106, 111, 89, 121, 115, 99, 112, 127, 124, 122, 122, 103, 105, 92, 100, 111, 107, 69, 85, 62, 76, 66, 82, 118, 66, 94, 88, 96, 121, 72, 109, 123, 68, 67, 124, 112, 122, 67, 128, 122, 74, 112, 122, 125, 75, 110, 98, 75, 125, 68, 130, 107, 125, 126, 84, 65, 89, 127, 121, 103, 74, 60, 82, 124, 65, 92, 74, 123, 64, 120, 118, 122, 129, 84, 115, 115, 105, 88, 94, 114, 94, 94, 123, 102, 127, 115, 77, 98, 67, 77, 127, 94, 72, 61, 60, 95, 105, 128, 103, 97, 101, 87, 90, 88, 93, 73, 116, 86, 85, 122, 123, 61, 93, 77, 115, 92, 69, 66, 110, 64, 109, 129, 129, 96, 77, 115, 113, 94, 128, 125, 72, 99, 110, 92, 106, 104, 112, 87, 71, 78, 121, 76, 98, 94, 67, 102, 71, 91, 107, 69, 65, 71, 99, 106, 62, 83, 89, 84, 101, 102, 72, 87, 105, 80, 67, 122, 128, 92, 72, 114, 98, 118, 119, 77, 96, 86, 129, 119, 63, 101, 98, 70, 79, 114, 77, 89, 111, 127, 121, 108, 110, 100, 68, 130, 126, 125, 118, 110, 91, 74, 67, 85, 68, 124, 108, 118, 95, 86, 119, 73, 118, 105, 115, 66, 88, 92, 90, 127, 104, 99, 126, 120, 79, 86, 103, 129, 117, 91, 118, 119, 102, 121, 116, 122, 71, 61, 128, 130, 94, 77, 98, 66, 66, 116, 112, 119, 76, 119, 73, 99, 127, 87, 98, 87, 86, 98, 118, 86, 126, 91, 113, 95, 71, 88, 72, 119, 108, 76, 125, 115, 66, 98, 72, 121, 87, 109, 96, 125, 106, 106, 85, 116, 61, 91, 85, 90, 67, 117, 86, 107, 93, 99, 84, 87, 122, 98, 89, 73, 129, 121, 99, 104, 124, 118, 106, 104, 112, 94, 61, 99, 65, 60, 63, 65, 115, 73, 100, 92, 115, 70, 95, 94, 64, 122, 86, 69, 103, 90, 104, 66, 66, 95, 103, 67, 98, 123, 110, 69, 73, 84, 102, 89, 78, 62, 103, 129, 72, 129, 96, 101, 72, 106, 92, 93, 95, 122, 103, 74, 93, 109, 60, 90, 89, 85, 78, 102, 61, 65, 85, 68, 80, 109, 91, 92, 88, 130, 65]\n"
          ]
        }
      ],
      "source": [
        "from pandas import DataFrame\n",
        "from random import randint\n",
        "import random\n",
        "lst_tmp = []\n",
        "lst_oxy = []\n",
        "lst_hrt = []\n",
        "\n",
        "#Generating DATASET for ML model training using random library functions\n",
        "for i in range(0, 1000):\n",
        "    \n",
        "    tmp = randint(96,105)\n",
        "    oxy = randint(85,99)\n",
        "    hrt = randint(60,130)\n",
        "\n",
        "\n",
        "    lst_tmp.append(tmp)\n",
        "    lst_oxy.append(oxy)\n",
        "    lst_hrt.append(hrt)\n",
        "    \n",
        "random.shuffle(lst_tmp)\n",
        "random.shuffle(lst_oxy)\n",
        "random.shuffle(lst_hrt)      \n",
        "print(lst_tmp)\n",
        "print(lst_oxy)\n",
        "print(lst_hrt)\n"
      ]
    },
    {
      "cell_type": "code",
      "execution_count": 2,
      "metadata": {
        "colab": {
          "base_uri": "https://localhost:8080/"
        },
        "id": "5ZjSBvghP2z2",
        "outputId": "74123965-6fa4-45a5-f7a2-62c0f8e77c1f"
      },
      "outputs": [
        {
          "output_type": "execute_result",
          "data": {
            "text/plain": [
              "array([[ 99.,  99., 104., ...,  97., 105.,  96.],\n",
              "       [ 96.,  98.,  88., ...,  90.,  93.,  97.],\n",
              "       [113., 126.,  62., ...,  88., 130.,  65.]])"
            ]
          },
          "metadata": {},
          "execution_count": 2
        }
      ],
      "source": [
        "#Creating Dataframe (basically a table)\n",
        "import numpy\n",
        "\n",
        "x = lst_tmp\n",
        "y = lst_oxy\n",
        "z = lst_hrt\n",
        "A = numpy.array((x, y, z), dtype=float)\n",
        "A"
      ]
    },
    {
      "cell_type": "code",
      "execution_count": 3,
      "metadata": {
        "colab": {
          "base_uri": "https://localhost:8080/"
        },
        "id": "uHeVFFafRK8f",
        "outputId": "a44c53c5-7663-4e46-ed9b-a49d4e5a3754",
        "scrolled": false
      },
      "outputs": [
        {
          "output_type": "stream",
          "name": "stdout",
          "text": [
            "[[ 99.  96. 113.]\n",
            " [ 99.  98. 126.]\n",
            " [104.  88.  62.]\n",
            " ...\n",
            " [ 97.  90.  88.]\n",
            " [105.  93. 130.]\n",
            " [ 96.  97.  65.]]\n"
          ]
        }
      ],
      "source": [
        "AT= A.T   #transposing the matrix presentation using numpy\n",
        "print(AT)"
      ]
    },
    {
      "cell_type": "code",
      "execution_count": 4,
      "metadata": {
        "colab": {
          "base_uri": "https://localhost:8080/",
          "height": 424
        },
        "id": "bZk55I4PSCXI",
        "outputId": "e9da52bc-3ba5-48e5-ca97-47324497028f"
      },
      "outputs": [
        {
          "output_type": "execute_result",
          "data": {
            "text/plain": [
              "      temp  oxygen  heart beat\n",
              "0     99.0    96.0       113.0\n",
              "1     99.0    98.0       126.0\n",
              "2    104.0    88.0        62.0\n",
              "3     96.0    99.0       108.0\n",
              "4    104.0    98.0       104.0\n",
              "..     ...     ...         ...\n",
              "995  102.0    86.0        91.0\n",
              "996   97.0    98.0        92.0\n",
              "997   97.0    90.0        88.0\n",
              "998  105.0    93.0       130.0\n",
              "999   96.0    97.0        65.0\n",
              "\n",
              "[1000 rows x 3 columns]"
            ],
            "text/html": [
              "\n",
              "  <div id=\"df-de8fc3ee-caea-4ae5-8992-b69205042965\">\n",
              "    <div class=\"colab-df-container\">\n",
              "      <div>\n",
              "<style scoped>\n",
              "    .dataframe tbody tr th:only-of-type {\n",
              "        vertical-align: middle;\n",
              "    }\n",
              "\n",
              "    .dataframe tbody tr th {\n",
              "        vertical-align: top;\n",
              "    }\n",
              "\n",
              "    .dataframe thead th {\n",
              "        text-align: right;\n",
              "    }\n",
              "</style>\n",
              "<table border=\"1\" class=\"dataframe\">\n",
              "  <thead>\n",
              "    <tr style=\"text-align: right;\">\n",
              "      <th></th>\n",
              "      <th>temp</th>\n",
              "      <th>oxygen</th>\n",
              "      <th>heart beat</th>\n",
              "    </tr>\n",
              "  </thead>\n",
              "  <tbody>\n",
              "    <tr>\n",
              "      <th>0</th>\n",
              "      <td>99.0</td>\n",
              "      <td>96.0</td>\n",
              "      <td>113.0</td>\n",
              "    </tr>\n",
              "    <tr>\n",
              "      <th>1</th>\n",
              "      <td>99.0</td>\n",
              "      <td>98.0</td>\n",
              "      <td>126.0</td>\n",
              "    </tr>\n",
              "    <tr>\n",
              "      <th>2</th>\n",
              "      <td>104.0</td>\n",
              "      <td>88.0</td>\n",
              "      <td>62.0</td>\n",
              "    </tr>\n",
              "    <tr>\n",
              "      <th>3</th>\n",
              "      <td>96.0</td>\n",
              "      <td>99.0</td>\n",
              "      <td>108.0</td>\n",
              "    </tr>\n",
              "    <tr>\n",
              "      <th>4</th>\n",
              "      <td>104.0</td>\n",
              "      <td>98.0</td>\n",
              "      <td>104.0</td>\n",
              "    </tr>\n",
              "    <tr>\n",
              "      <th>...</th>\n",
              "      <td>...</td>\n",
              "      <td>...</td>\n",
              "      <td>...</td>\n",
              "    </tr>\n",
              "    <tr>\n",
              "      <th>995</th>\n",
              "      <td>102.0</td>\n",
              "      <td>86.0</td>\n",
              "      <td>91.0</td>\n",
              "    </tr>\n",
              "    <tr>\n",
              "      <th>996</th>\n",
              "      <td>97.0</td>\n",
              "      <td>98.0</td>\n",
              "      <td>92.0</td>\n",
              "    </tr>\n",
              "    <tr>\n",
              "      <th>997</th>\n",
              "      <td>97.0</td>\n",
              "      <td>90.0</td>\n",
              "      <td>88.0</td>\n",
              "    </tr>\n",
              "    <tr>\n",
              "      <th>998</th>\n",
              "      <td>105.0</td>\n",
              "      <td>93.0</td>\n",
              "      <td>130.0</td>\n",
              "    </tr>\n",
              "    <tr>\n",
              "      <th>999</th>\n",
              "      <td>96.0</td>\n",
              "      <td>97.0</td>\n",
              "      <td>65.0</td>\n",
              "    </tr>\n",
              "  </tbody>\n",
              "</table>\n",
              "<p>1000 rows × 3 columns</p>\n",
              "</div>\n",
              "      <button class=\"colab-df-convert\" onclick=\"convertToInteractive('df-de8fc3ee-caea-4ae5-8992-b69205042965')\"\n",
              "              title=\"Convert this dataframe to an interactive table.\"\n",
              "              style=\"display:none;\">\n",
              "        \n",
              "  <svg xmlns=\"http://www.w3.org/2000/svg\" height=\"24px\"viewBox=\"0 0 24 24\"\n",
              "       width=\"24px\">\n",
              "    <path d=\"M0 0h24v24H0V0z\" fill=\"none\"/>\n",
              "    <path d=\"M18.56 5.44l.94 2.06.94-2.06 2.06-.94-2.06-.94-.94-2.06-.94 2.06-2.06.94zm-11 1L8.5 8.5l.94-2.06 2.06-.94-2.06-.94L8.5 2.5l-.94 2.06-2.06.94zm10 10l.94 2.06.94-2.06 2.06-.94-2.06-.94-.94-2.06-.94 2.06-2.06.94z\"/><path d=\"M17.41 7.96l-1.37-1.37c-.4-.4-.92-.59-1.43-.59-.52 0-1.04.2-1.43.59L10.3 9.45l-7.72 7.72c-.78.78-.78 2.05 0 2.83L4 21.41c.39.39.9.59 1.41.59.51 0 1.02-.2 1.41-.59l7.78-7.78 2.81-2.81c.8-.78.8-2.07 0-2.86zM5.41 20L4 18.59l7.72-7.72 1.47 1.35L5.41 20z\"/>\n",
              "  </svg>\n",
              "      </button>\n",
              "      \n",
              "  <style>\n",
              "    .colab-df-container {\n",
              "      display:flex;\n",
              "      flex-wrap:wrap;\n",
              "      gap: 12px;\n",
              "    }\n",
              "\n",
              "    .colab-df-convert {\n",
              "      background-color: #E8F0FE;\n",
              "      border: none;\n",
              "      border-radius: 50%;\n",
              "      cursor: pointer;\n",
              "      display: none;\n",
              "      fill: #1967D2;\n",
              "      height: 32px;\n",
              "      padding: 0 0 0 0;\n",
              "      width: 32px;\n",
              "    }\n",
              "\n",
              "    .colab-df-convert:hover {\n",
              "      background-color: #E2EBFA;\n",
              "      box-shadow: 0px 1px 2px rgba(60, 64, 67, 0.3), 0px 1px 3px 1px rgba(60, 64, 67, 0.15);\n",
              "      fill: #174EA6;\n",
              "    }\n",
              "\n",
              "    [theme=dark] .colab-df-convert {\n",
              "      background-color: #3B4455;\n",
              "      fill: #D2E3FC;\n",
              "    }\n",
              "\n",
              "    [theme=dark] .colab-df-convert:hover {\n",
              "      background-color: #434B5C;\n",
              "      box-shadow: 0px 1px 3px 1px rgba(0, 0, 0, 0.15);\n",
              "      filter: drop-shadow(0px 1px 2px rgba(0, 0, 0, 0.3));\n",
              "      fill: #FFFFFF;\n",
              "    }\n",
              "  </style>\n",
              "\n",
              "      <script>\n",
              "        const buttonEl =\n",
              "          document.querySelector('#df-de8fc3ee-caea-4ae5-8992-b69205042965 button.colab-df-convert');\n",
              "        buttonEl.style.display =\n",
              "          google.colab.kernel.accessAllowed ? 'block' : 'none';\n",
              "\n",
              "        async function convertToInteractive(key) {\n",
              "          const element = document.querySelector('#df-de8fc3ee-caea-4ae5-8992-b69205042965');\n",
              "          const dataTable =\n",
              "            await google.colab.kernel.invokeFunction('convertToInteractive',\n",
              "                                                     [key], {});\n",
              "          if (!dataTable) return;\n",
              "\n",
              "          const docLinkHtml = 'Like what you see? Visit the ' +\n",
              "            '<a target=\"_blank\" href=https://colab.research.google.com/notebooks/data_table.ipynb>data table notebook</a>'\n",
              "            + ' to learn more about interactive tables.';\n",
              "          element.innerHTML = '';\n",
              "          dataTable['output_type'] = 'display_data';\n",
              "          await google.colab.output.renderOutput(dataTable, element);\n",
              "          const docLink = document.createElement('div');\n",
              "          docLink.innerHTML = docLinkHtml;\n",
              "          element.appendChild(docLink);\n",
              "        }\n",
              "      </script>\n",
              "    </div>\n",
              "  </div>\n",
              "  "
            ]
          },
          "metadata": {},
          "execution_count": 4
        }
      ],
      "source": [
        "df = DataFrame (AT,columns = ['temp','oxygen','heart beat'])\n",
        "df"
      ]
    },
    {
      "cell_type": "code",
      "execution_count": 5,
      "metadata": {
        "id": "b6OiDCVmGFbA"
      },
      "outputs": [],
      "source": [
        "#Risk Determination code as per the truth table.\n",
        "i=0\n",
        "j=0\n",
        "k=0\n",
        "counter=0 \n",
        "output=[]\n",
        "while counter < 1000:\n",
        "  if lst_tmp[i]>int(99):\n",
        "    if lst_oxy[j]<int(90):\n",
        "      output.append(\"possible risk\")  \n",
        "      #break\n",
        "    else:\n",
        "      if lst_hrt[k]>int(90):\n",
        "        output.append(\"no possible risk\")  \n",
        "        #break\n",
        "      else:\n",
        "        output.append(\"possible risk\")\n",
        "        #break\n",
        "  else:\n",
        "    if lst_oxy[j]<int(90):\n",
        "      if lst_hrt[k]>int(90):\n",
        "        output.append(\"possible risk\")  \n",
        "        #break\n",
        "      else:\n",
        "        output.append(\"need further investigation\") \n",
        "        #break\n",
        "    else:\n",
        "      if lst_hrt[k]>int(90):\n",
        "        output.append(\"no possible risk\")\n",
        "        #break\n",
        "      else:\n",
        "        output.append(\"no possible risk\")\n",
        "        #break\n",
        "  i+=1\n",
        "  j+=1\n",
        "  k+=1\n",
        "  counter+=1"
      ]
    },
    {
      "cell_type": "code",
      "execution_count": 6,
      "metadata": {
        "colab": {
          "base_uri": "https://localhost:8080/"
        },
        "id": "7H5iB7YRyv26",
        "outputId": "75932b31-4879-497a-a501-2faa4cf76ab4"
      },
      "outputs": [
        {
          "output_type": "stream",
          "name": "stdout",
          "text": [
            "['no possible risk', 'no possible risk', 'possible risk', 'no possible risk', 'no possible risk', 'possible risk', 'no possible risk', 'possible risk', 'no possible risk', 'possible risk', 'possible risk', 'no possible risk', 'no possible risk', 'possible risk', 'no possible risk', 'no possible risk', 'possible risk', 'possible risk', 'possible risk', 'need further investigation', 'possible risk', 'no possible risk', 'no possible risk', 'possible risk', 'no possible risk', 'possible risk', 'need further investigation', 'possible risk', 'possible risk', 'possible risk', 'no possible risk', 'possible risk', 'possible risk', 'possible risk', 'no possible risk', 'possible risk', 'possible risk', 'possible risk', 'possible risk', 'no possible risk', 'no possible risk', 'no possible risk', 'no possible risk', 'no possible risk', 'no possible risk', 'possible risk', 'possible risk', 'no possible risk', 'possible risk', 'no possible risk', 'no possible risk', 'no possible risk', 'no possible risk', 'possible risk', 'possible risk', 'possible risk', 'possible risk', 'possible risk', 'possible risk', 'no possible risk', 'possible risk', 'possible risk', 'possible risk', 'no possible risk', 'no possible risk', 'no possible risk', 'no possible risk', 'no possible risk', 'no possible risk', 'possible risk', 'possible risk', 'possible risk', 'no possible risk', 'no possible risk', 'no possible risk', 'possible risk', 'no possible risk', 'no possible risk', 'possible risk', 'no possible risk', 'possible risk', 'no possible risk', 'possible risk', 'no possible risk', 'possible risk', 'no possible risk', 'no possible risk', 'possible risk', 'need further investigation', 'possible risk', 'need further investigation', 'no possible risk', 'possible risk', 'need further investigation', 'no possible risk', 'possible risk', 'no possible risk', 'no possible risk', 'possible risk', 'possible risk', 'possible risk', 'no possible risk', 'need further investigation', 'no possible risk', 'no possible risk', 'no possible risk', 'no possible risk', 'no possible risk', 'no possible risk', 'need further investigation', 'possible risk', 'possible risk', 'possible risk', 'possible risk', 'no possible risk', 'possible risk', 'no possible risk', 'possible risk', 'possible risk', 'possible risk', 'possible risk', 'need further investigation', 'no possible risk', 'no possible risk', 'no possible risk', 'no possible risk', 'no possible risk', 'no possible risk', 'possible risk', 'no possible risk', 'possible risk', 'possible risk', 'possible risk', 'possible risk', 'no possible risk', 'no possible risk', 'no possible risk', 'possible risk', 'no possible risk', 'no possible risk', 'no possible risk', 'no possible risk', 'possible risk', 'no possible risk', 'no possible risk', 'possible risk', 'no possible risk', 'possible risk', 'no possible risk', 'no possible risk', 'no possible risk', 'no possible risk', 'no possible risk', 'possible risk', 'possible risk', 'possible risk', 'possible risk', 'possible risk', 'possible risk', 'no possible risk', 'no possible risk', 'possible risk', 'no possible risk', 'need further investigation', 'no possible risk', 'no possible risk', 'possible risk', 'no possible risk', 'no possible risk', 'no possible risk', 'possible risk', 'no possible risk', 'no possible risk', 'possible risk', 'possible risk', 'no possible risk', 'possible risk', 'possible risk', 'no possible risk', 'need further investigation', 'no possible risk', 'possible risk', 'no possible risk', 'no possible risk', 'need further investigation', 'no possible risk', 'possible risk', 'possible risk', 'no possible risk', 'possible risk', 'possible risk', 'no possible risk', 'no possible risk', 'no possible risk', 'possible risk', 'possible risk', 'need further investigation', 'no possible risk', 'need further investigation', 'possible risk', 'possible risk', 'possible risk', 'possible risk', 'possible risk', 'no possible risk', 'possible risk', 'possible risk', 'no possible risk', 'possible risk', 'possible risk', 'possible risk', 'possible risk', 'no possible risk', 'no possible risk', 'possible risk', 'no possible risk', 'no possible risk', 'possible risk', 'no possible risk', 'need further investigation', 'possible risk', 'possible risk', 'no possible risk', 'no possible risk', 'possible risk', 'no possible risk', 'possible risk', 'possible risk', 'no possible risk', 'possible risk', 'possible risk', 'no possible risk', 'no possible risk', 'no possible risk', 'no possible risk', 'no possible risk', 'possible risk', 'no possible risk', 'no possible risk', 'possible risk', 'possible risk', 'no possible risk', 'possible risk', 'no possible risk', 'possible risk', 'no possible risk', 'no possible risk', 'no possible risk', 'need further investigation', 'possible risk', 'need further investigation', 'no possible risk', 'no possible risk', 'no possible risk', 'possible risk', 'possible risk', 'no possible risk', 'no possible risk', 'no possible risk', 'possible risk', 'possible risk', 'need further investigation', 'no possible risk', 'no possible risk', 'possible risk', 'no possible risk', 'no possible risk', 'no possible risk', 'possible risk', 'no possible risk', 'possible risk', 'possible risk', 'no possible risk', 'possible risk', 'possible risk', 'need further investigation', 'no possible risk', 'possible risk', 'possible risk', 'no possible risk', 'no possible risk', 'possible risk', 'possible risk', 'possible risk', 'possible risk', 'no possible risk', 'possible risk', 'possible risk', 'possible risk', 'possible risk', 'need further investigation', 'no possible risk', 'no possible risk', 'no possible risk', 'no possible risk', 'possible risk', 'need further investigation', 'no possible risk', 'possible risk', 'no possible risk', 'possible risk', 'no possible risk', 'no possible risk', 'possible risk', 'need further investigation', 'no possible risk', 'no possible risk', 'no possible risk', 'possible risk', 'possible risk', 'possible risk', 'possible risk', 'no possible risk', 'no possible risk', 'no possible risk', 'need further investigation', 'possible risk', 'no possible risk', 'possible risk', 'no possible risk', 'possible risk', 'possible risk', 'possible risk', 'no possible risk', 'no possible risk', 'no possible risk', 'possible risk', 'possible risk', 'possible risk', 'no possible risk', 'no possible risk', 'no possible risk', 'possible risk', 'need further investigation', 'no possible risk', 'no possible risk', 'no possible risk', 'no possible risk', 'possible risk', 'no possible risk', 'possible risk', 'no possible risk', 'need further investigation', 'no possible risk', 'possible risk', 'no possible risk', 'no possible risk', 'no possible risk', 'possible risk', 'no possible risk', 'no possible risk', 'no possible risk', 'no possible risk', 'possible risk', 'possible risk', 'possible risk', 'possible risk', 'need further investigation', 'possible risk', 'no possible risk', 'no possible risk', 'no possible risk', 'no possible risk', 'no possible risk', 'no possible risk', 'possible risk', 'no possible risk', 'possible risk', 'possible risk', 'no possible risk', 'possible risk', 'no possible risk', 'no possible risk', 'no possible risk', 'no possible risk', 'possible risk', 'possible risk', 'possible risk', 'need further investigation', 'no possible risk', 'no possible risk', 'possible risk', 'possible risk', 'no possible risk', 'no possible risk', 'possible risk', 'possible risk', 'possible risk', 'need further investigation', 'no possible risk', 'no possible risk', 'no possible risk', 'possible risk', 'possible risk', 'no possible risk', 'possible risk', 'possible risk', 'no possible risk', 'possible risk', 'no possible risk', 'no possible risk', 'no possible risk', 'need further investigation', 'possible risk', 'no possible risk', 'no possible risk', 'possible risk', 'no possible risk', 'possible risk', 'possible risk', 'no possible risk', 'possible risk', 'possible risk', 'no possible risk', 'no possible risk', 'no possible risk', 'no possible risk', 'possible risk', 'no possible risk', 'no possible risk', 'possible risk', 'no possible risk', 'no possible risk', 'no possible risk', 'possible risk', 'no possible risk', 'no possible risk', 'possible risk', 'no possible risk', 'need further investigation', 'no possible risk', 'no possible risk', 'no possible risk', 'no possible risk', 'no possible risk', 'no possible risk', 'possible risk', 'no possible risk', 'no possible risk', 'no possible risk', 'no possible risk', 'no possible risk', 'no possible risk', 'possible risk', 'no possible risk', 'possible risk', 'no possible risk', 'possible risk', 'no possible risk', 'no possible risk', 'no possible risk', 'need further investigation', 'possible risk', 'no possible risk', 'no possible risk', 'no possible risk', 'possible risk', 'no possible risk', 'possible risk', 'possible risk', 'possible risk', 'possible risk', 'possible risk', 'no possible risk', 'no possible risk', 'no possible risk', 'no possible risk', 'no possible risk', 'no possible risk', 'no possible risk', 'possible risk', 'no possible risk', 'no possible risk', 'no possible risk', 'no possible risk', 'no possible risk', 'no possible risk', 'possible risk', 'need further investigation', 'no possible risk', 'no possible risk', 'possible risk', 'no possible risk', 'no possible risk', 'no possible risk', 'no possible risk', 'no possible risk', 'possible risk', 'no possible risk', 'possible risk', 'no possible risk', 'no possible risk', 'no possible risk', 'possible risk', 'no possible risk', 'no possible risk', 'no possible risk', 'possible risk', 'possible risk', 'no possible risk', 'possible risk', 'no possible risk', 'no possible risk', 'no possible risk', 'no possible risk', 'need further investigation', 'no possible risk', 'need further investigation', 'no possible risk', 'no possible risk', 'need further investigation', 'no possible risk', 'possible risk', 'possible risk', 'no possible risk', 'possible risk', 'no possible risk', 'possible risk', 'possible risk', 'possible risk', 'no possible risk', 'no possible risk', 'no possible risk', 'no possible risk', 'no possible risk', 'possible risk', 'no possible risk', 'possible risk', 'no possible risk', 'no possible risk', 'need further investigation', 'no possible risk', 'possible risk', 'possible risk', 'possible risk', 'no possible risk', 'need further investigation', 'no possible risk', 'possible risk', 'possible risk', 'possible risk', 'no possible risk', 'possible risk', 'no possible risk', 'possible risk', 'no possible risk', 'no possible risk', 'possible risk', 'possible risk', 'no possible risk', 'need further investigation', 'possible risk', 'possible risk', 'possible risk', 'possible risk', 'possible risk', 'no possible risk', 'no possible risk', 'possible risk', 'possible risk', 'no possible risk', 'no possible risk', 'possible risk', 'no possible risk', 'possible risk', 'possible risk', 'possible risk', 'no possible risk', 'possible risk', 'no possible risk', 'no possible risk', 'no possible risk', 'no possible risk', 'no possible risk', 'no possible risk', 'need further investigation', 'possible risk', 'possible risk', 'need further investigation', 'no possible risk', 'possible risk', 'possible risk', 'no possible risk', 'no possible risk', 'possible risk', 'no possible risk', 'no possible risk', 'no possible risk', 'possible risk', 'possible risk', 'no possible risk', 'no possible risk', 'possible risk', 'no possible risk', 'possible risk', 'no possible risk', 'no possible risk', 'possible risk', 'no possible risk', 'need further investigation', 'no possible risk', 'no possible risk', 'no possible risk', 'possible risk', 'no possible risk', 'no possible risk', 'possible risk', 'no possible risk', 'possible risk', 'no possible risk', 'no possible risk', 'no possible risk', 'possible risk', 'no possible risk', 'possible risk', 'possible risk', 'possible risk', 'no possible risk', 'no possible risk', 'no possible risk', 'possible risk', 'possible risk', 'no possible risk', 'no possible risk', 'no possible risk', 'possible risk', 'no possible risk', 'possible risk', 'no possible risk', 'no possible risk', 'possible risk', 'no possible risk', 'no possible risk', 'possible risk', 'no possible risk', 'no possible risk', 'no possible risk', 'no possible risk', 'possible risk', 'possible risk', 'possible risk', 'possible risk', 'need further investigation', 'need further investigation', 'possible risk', 'possible risk', 'no possible risk', 'possible risk', 'possible risk', 'possible risk', 'no possible risk', 'possible risk', 'no possible risk', 'no possible risk', 'possible risk', 'possible risk', 'need further investigation', 'possible risk', 'possible risk', 'no possible risk', 'possible risk', 'possible risk', 'no possible risk', 'possible risk', 'no possible risk', 'possible risk', 'no possible risk', 'no possible risk', 'no possible risk', 'no possible risk', 'possible risk', 'possible risk', 'no possible risk', 'no possible risk', 'no possible risk', 'no possible risk', 'no possible risk', 'no possible risk', 'possible risk', 'possible risk', 'possible risk', 'no possible risk', 'no possible risk', 'need further investigation', 'possible risk', 'no possible risk', 'possible risk', 'possible risk', 'no possible risk', 'possible risk', 'no possible risk', 'possible risk', 'possible risk', 'possible risk', 'no possible risk', 'no possible risk', 'possible risk', 'possible risk', 'no possible risk', 'possible risk', 'need further investigation', 'no possible risk', 'no possible risk', 'no possible risk', 'possible risk', 'no possible risk', 'no possible risk', 'no possible risk', 'no possible risk', 'possible risk', 'no possible risk', 'possible risk', 'possible risk', 'possible risk', 'no possible risk', 'possible risk', 'possible risk', 'possible risk', 'no possible risk', 'no possible risk', 'no possible risk', 'no possible risk', 'no possible risk', 'possible risk', 'no possible risk', 'possible risk', 'no possible risk', 'no possible risk', 'no possible risk', 'possible risk', 'no possible risk', 'no possible risk', 'no possible risk', 'no possible risk', 'need further investigation', 'no possible risk', 'possible risk', 'no possible risk', 'possible risk', 'possible risk', 'need further investigation', 'no possible risk', 'possible risk', 'no possible risk', 'no possible risk', 'no possible risk', 'no possible risk', 'possible risk', 'no possible risk', 'no possible risk', 'possible risk', 'no possible risk', 'no possible risk', 'need further investigation', 'possible risk', 'no possible risk', 'possible risk', 'no possible risk', 'possible risk', 'no possible risk', 'no possible risk', 'no possible risk', 'possible risk', 'possible risk', 'no possible risk', 'no possible risk', 'no possible risk', 'possible risk', 'possible risk', 'no possible risk', 'no possible risk', 'no possible risk', 'no possible risk', 'possible risk', 'possible risk', 'no possible risk', 'no possible risk', 'possible risk', 'possible risk', 'possible risk', 'no possible risk', 'possible risk', 'no possible risk', 'possible risk', 'no possible risk', 'possible risk', 'no possible risk', 'no possible risk', 'no possible risk', 'no possible risk', 'no possible risk', 'possible risk', 'possible risk', 'possible risk', 'no possible risk', 'possible risk', 'possible risk', 'no possible risk', 'possible risk', 'no possible risk', 'no possible risk', 'possible risk', 'possible risk', 'no possible risk', 'possible risk', 'no possible risk', 'possible risk', 'possible risk', 'no possible risk', 'no possible risk', 'no possible risk', 'no possible risk', 'no possible risk', 'no possible risk', 'no possible risk', 'possible risk', 'no possible risk', 'no possible risk', 'possible risk', 'possible risk', 'possible risk', 'no possible risk', 'possible risk', 'possible risk', 'need further investigation', 'possible risk', 'no possible risk', 'no possible risk', 'no possible risk', 'no possible risk', 'possible risk', 'no possible risk', 'possible risk', 'possible risk', 'no possible risk', 'no possible risk', 'no possible risk', 'possible risk', 'no possible risk', 'possible risk', 'no possible risk', 'no possible risk', 'no possible risk', 'possible risk', 'no possible risk', 'possible risk', 'possible risk', 'no possible risk', 'no possible risk', 'no possible risk', 'no possible risk', 'possible risk', 'no possible risk', 'no possible risk', 'possible risk', 'no possible risk', 'no possible risk', 'no possible risk', 'possible risk', 'possible risk', 'no possible risk', 'no possible risk', 'possible risk', 'no possible risk', 'possible risk', 'possible risk', 'possible risk', 'no possible risk', 'possible risk', 'possible risk', 'possible risk', 'possible risk', 'possible risk', 'possible risk', 'possible risk', 'no possible risk', 'possible risk', 'possible risk', 'no possible risk', 'no possible risk', 'possible risk', 'no possible risk', 'no possible risk', 'possible risk', 'no possible risk', 'no possible risk', 'no possible risk', 'no possible risk', 'no possible risk', 'possible risk', 'possible risk', 'possible risk', 'no possible risk', 'possible risk', 'no possible risk', 'possible risk', 'possible risk', 'possible risk', 'possible risk', 'possible risk', 'no possible risk', 'no possible risk', 'possible risk', 'possible risk', 'possible risk', 'possible risk', 'possible risk', 'possible risk', 'no possible risk', 'possible risk', 'possible risk', 'possible risk', 'no possible risk', 'no possible risk', 'possible risk', 'no possible risk', 'possible risk', 'possible risk', 'no possible risk', 'possible risk', 'need further investigation', 'no possible risk', 'possible risk', 'possible risk', 'no possible risk', 'no possible risk', 'possible risk', 'no possible risk', 'possible risk', 'no possible risk', 'no possible risk', 'possible risk', 'no possible risk', 'need further investigation', 'possible risk', 'possible risk', 'no possible risk', 'no possible risk', 'need further investigation', 'no possible risk', 'no possible risk', 'no possible risk', 'no possible risk', 'possible risk', 'possible risk', 'possible risk', 'no possible risk', 'possible risk', 'possible risk', 'possible risk', 'possible risk', 'no possible risk', 'no possible risk', 'no possible risk', 'no possible risk', 'possible risk', 'possible risk', 'no possible risk', 'possible risk', 'possible risk', 'need further investigation', 'no possible risk', 'possible risk', 'no possible risk', 'possible risk', 'possible risk', 'possible risk', 'no possible risk', 'no possible risk', 'need further investigation', 'no possible risk', 'possible risk', 'no possible risk', 'possible risk', 'possible risk', 'possible risk', 'possible risk', 'possible risk', 'no possible risk', 'no possible risk', 'possible risk', 'no possible risk', 'no possible risk', 'no possible risk', 'need further investigation', 'no possible risk', 'need further investigation', 'possible risk', 'no possible risk', 'possible risk', 'possible risk', 'no possible risk', 'possible risk', 'possible risk', 'no possible risk', 'possible risk', 'no possible risk', 'no possible risk', 'no possible risk', 'no possible risk']\n"
          ]
        }
      ],
      "source": [
        "print(output)"
      ]
    },
    {
      "cell_type": "code",
      "execution_count": 7,
      "metadata": {
        "colab": {
          "base_uri": "https://localhost:8080/",
          "height": 424
        },
        "id": "eNIem8IhMqzL",
        "outputId": "cd65ccf8-3fa2-462e-dc34-d49939bd254f",
        "scrolled": true
      },
      "outputs": [
        {
          "output_type": "execute_result",
          "data": {
            "text/plain": [
              "           prediction\n",
              "0    no possible risk\n",
              "1    no possible risk\n",
              "2       possible risk\n",
              "3    no possible risk\n",
              "4    no possible risk\n",
              "..                ...\n",
              "995     possible risk\n",
              "996  no possible risk\n",
              "997  no possible risk\n",
              "998  no possible risk\n",
              "999  no possible risk\n",
              "\n",
              "[1000 rows x 1 columns]"
            ],
            "text/html": [
              "\n",
              "  <div id=\"df-1aefa3ca-61df-4c34-8718-ffe106a6c6e3\">\n",
              "    <div class=\"colab-df-container\">\n",
              "      <div>\n",
              "<style scoped>\n",
              "    .dataframe tbody tr th:only-of-type {\n",
              "        vertical-align: middle;\n",
              "    }\n",
              "\n",
              "    .dataframe tbody tr th {\n",
              "        vertical-align: top;\n",
              "    }\n",
              "\n",
              "    .dataframe thead th {\n",
              "        text-align: right;\n",
              "    }\n",
              "</style>\n",
              "<table border=\"1\" class=\"dataframe\">\n",
              "  <thead>\n",
              "    <tr style=\"text-align: right;\">\n",
              "      <th></th>\n",
              "      <th>prediction</th>\n",
              "    </tr>\n",
              "  </thead>\n",
              "  <tbody>\n",
              "    <tr>\n",
              "      <th>0</th>\n",
              "      <td>no possible risk</td>\n",
              "    </tr>\n",
              "    <tr>\n",
              "      <th>1</th>\n",
              "      <td>no possible risk</td>\n",
              "    </tr>\n",
              "    <tr>\n",
              "      <th>2</th>\n",
              "      <td>possible risk</td>\n",
              "    </tr>\n",
              "    <tr>\n",
              "      <th>3</th>\n",
              "      <td>no possible risk</td>\n",
              "    </tr>\n",
              "    <tr>\n",
              "      <th>4</th>\n",
              "      <td>no possible risk</td>\n",
              "    </tr>\n",
              "    <tr>\n",
              "      <th>...</th>\n",
              "      <td>...</td>\n",
              "    </tr>\n",
              "    <tr>\n",
              "      <th>995</th>\n",
              "      <td>possible risk</td>\n",
              "    </tr>\n",
              "    <tr>\n",
              "      <th>996</th>\n",
              "      <td>no possible risk</td>\n",
              "    </tr>\n",
              "    <tr>\n",
              "      <th>997</th>\n",
              "      <td>no possible risk</td>\n",
              "    </tr>\n",
              "    <tr>\n",
              "      <th>998</th>\n",
              "      <td>no possible risk</td>\n",
              "    </tr>\n",
              "    <tr>\n",
              "      <th>999</th>\n",
              "      <td>no possible risk</td>\n",
              "    </tr>\n",
              "  </tbody>\n",
              "</table>\n",
              "<p>1000 rows × 1 columns</p>\n",
              "</div>\n",
              "      <button class=\"colab-df-convert\" onclick=\"convertToInteractive('df-1aefa3ca-61df-4c34-8718-ffe106a6c6e3')\"\n",
              "              title=\"Convert this dataframe to an interactive table.\"\n",
              "              style=\"display:none;\">\n",
              "        \n",
              "  <svg xmlns=\"http://www.w3.org/2000/svg\" height=\"24px\"viewBox=\"0 0 24 24\"\n",
              "       width=\"24px\">\n",
              "    <path d=\"M0 0h24v24H0V0z\" fill=\"none\"/>\n",
              "    <path d=\"M18.56 5.44l.94 2.06.94-2.06 2.06-.94-2.06-.94-.94-2.06-.94 2.06-2.06.94zm-11 1L8.5 8.5l.94-2.06 2.06-.94-2.06-.94L8.5 2.5l-.94 2.06-2.06.94zm10 10l.94 2.06.94-2.06 2.06-.94-2.06-.94-.94-2.06-.94 2.06-2.06.94z\"/><path d=\"M17.41 7.96l-1.37-1.37c-.4-.4-.92-.59-1.43-.59-.52 0-1.04.2-1.43.59L10.3 9.45l-7.72 7.72c-.78.78-.78 2.05 0 2.83L4 21.41c.39.39.9.59 1.41.59.51 0 1.02-.2 1.41-.59l7.78-7.78 2.81-2.81c.8-.78.8-2.07 0-2.86zM5.41 20L4 18.59l7.72-7.72 1.47 1.35L5.41 20z\"/>\n",
              "  </svg>\n",
              "      </button>\n",
              "      \n",
              "  <style>\n",
              "    .colab-df-container {\n",
              "      display:flex;\n",
              "      flex-wrap:wrap;\n",
              "      gap: 12px;\n",
              "    }\n",
              "\n",
              "    .colab-df-convert {\n",
              "      background-color: #E8F0FE;\n",
              "      border: none;\n",
              "      border-radius: 50%;\n",
              "      cursor: pointer;\n",
              "      display: none;\n",
              "      fill: #1967D2;\n",
              "      height: 32px;\n",
              "      padding: 0 0 0 0;\n",
              "      width: 32px;\n",
              "    }\n",
              "\n",
              "    .colab-df-convert:hover {\n",
              "      background-color: #E2EBFA;\n",
              "      box-shadow: 0px 1px 2px rgba(60, 64, 67, 0.3), 0px 1px 3px 1px rgba(60, 64, 67, 0.15);\n",
              "      fill: #174EA6;\n",
              "    }\n",
              "\n",
              "    [theme=dark] .colab-df-convert {\n",
              "      background-color: #3B4455;\n",
              "      fill: #D2E3FC;\n",
              "    }\n",
              "\n",
              "    [theme=dark] .colab-df-convert:hover {\n",
              "      background-color: #434B5C;\n",
              "      box-shadow: 0px 1px 3px 1px rgba(0, 0, 0, 0.15);\n",
              "      filter: drop-shadow(0px 1px 2px rgba(0, 0, 0, 0.3));\n",
              "      fill: #FFFFFF;\n",
              "    }\n",
              "  </style>\n",
              "\n",
              "      <script>\n",
              "        const buttonEl =\n",
              "          document.querySelector('#df-1aefa3ca-61df-4c34-8718-ffe106a6c6e3 button.colab-df-convert');\n",
              "        buttonEl.style.display =\n",
              "          google.colab.kernel.accessAllowed ? 'block' : 'none';\n",
              "\n",
              "        async function convertToInteractive(key) {\n",
              "          const element = document.querySelector('#df-1aefa3ca-61df-4c34-8718-ffe106a6c6e3');\n",
              "          const dataTable =\n",
              "            await google.colab.kernel.invokeFunction('convertToInteractive',\n",
              "                                                     [key], {});\n",
              "          if (!dataTable) return;\n",
              "\n",
              "          const docLinkHtml = 'Like what you see? Visit the ' +\n",
              "            '<a target=\"_blank\" href=https://colab.research.google.com/notebooks/data_table.ipynb>data table notebook</a>'\n",
              "            + ' to learn more about interactive tables.';\n",
              "          element.innerHTML = '';\n",
              "          dataTable['output_type'] = 'display_data';\n",
              "          await google.colab.output.renderOutput(dataTable, element);\n",
              "          const docLink = document.createElement('div');\n",
              "          docLink.innerHTML = docLinkHtml;\n",
              "          element.appendChild(docLink);\n",
              "        }\n",
              "      </script>\n",
              "    </div>\n",
              "  </div>\n",
              "  "
            ]
          },
          "metadata": {},
          "execution_count": 7
        }
      ],
      "source": [
        "df1 = DataFrame (output,columns = ['prediction'])\n",
        "df1"
      ]
    },
    {
      "cell_type": "code",
      "execution_count": 9,
      "metadata": {
        "colab": {
          "base_uri": "https://localhost:8080/",
          "height": 424
        },
        "id": "mKC-Xu33Nygq",
        "outputId": "6c7d8f6e-3baf-4338-90c6-3dfc6c2ff55e",
        "scrolled": true
      },
      "outputs": [
        {
          "output_type": "execute_result",
          "data": {
            "text/plain": [
              "      temp  oxygen  heart beat        prediction\n",
              "0     99.0    96.0       113.0  no possible risk\n",
              "1     99.0    98.0       126.0  no possible risk\n",
              "2    104.0    88.0        62.0     possible risk\n",
              "3     96.0    99.0       108.0  no possible risk\n",
              "4    104.0    98.0       104.0  no possible risk\n",
              "..     ...     ...         ...               ...\n",
              "995  102.0    86.0        91.0     possible risk\n",
              "996   97.0    98.0        92.0  no possible risk\n",
              "997   97.0    90.0        88.0  no possible risk\n",
              "998  105.0    93.0       130.0  no possible risk\n",
              "999   96.0    97.0        65.0  no possible risk\n",
              "\n",
              "[1000 rows x 4 columns]"
            ],
            "text/html": [
              "\n",
              "  <div id=\"df-6dc0a515-dc4f-442a-a4e6-edc817ac246e\">\n",
              "    <div class=\"colab-df-container\">\n",
              "      <div>\n",
              "<style scoped>\n",
              "    .dataframe tbody tr th:only-of-type {\n",
              "        vertical-align: middle;\n",
              "    }\n",
              "\n",
              "    .dataframe tbody tr th {\n",
              "        vertical-align: top;\n",
              "    }\n",
              "\n",
              "    .dataframe thead th {\n",
              "        text-align: right;\n",
              "    }\n",
              "</style>\n",
              "<table border=\"1\" class=\"dataframe\">\n",
              "  <thead>\n",
              "    <tr style=\"text-align: right;\">\n",
              "      <th></th>\n",
              "      <th>temp</th>\n",
              "      <th>oxygen</th>\n",
              "      <th>heart beat</th>\n",
              "      <th>prediction</th>\n",
              "    </tr>\n",
              "  </thead>\n",
              "  <tbody>\n",
              "    <tr>\n",
              "      <th>0</th>\n",
              "      <td>99.0</td>\n",
              "      <td>96.0</td>\n",
              "      <td>113.0</td>\n",
              "      <td>no possible risk</td>\n",
              "    </tr>\n",
              "    <tr>\n",
              "      <th>1</th>\n",
              "      <td>99.0</td>\n",
              "      <td>98.0</td>\n",
              "      <td>126.0</td>\n",
              "      <td>no possible risk</td>\n",
              "    </tr>\n",
              "    <tr>\n",
              "      <th>2</th>\n",
              "      <td>104.0</td>\n",
              "      <td>88.0</td>\n",
              "      <td>62.0</td>\n",
              "      <td>possible risk</td>\n",
              "    </tr>\n",
              "    <tr>\n",
              "      <th>3</th>\n",
              "      <td>96.0</td>\n",
              "      <td>99.0</td>\n",
              "      <td>108.0</td>\n",
              "      <td>no possible risk</td>\n",
              "    </tr>\n",
              "    <tr>\n",
              "      <th>4</th>\n",
              "      <td>104.0</td>\n",
              "      <td>98.0</td>\n",
              "      <td>104.0</td>\n",
              "      <td>no possible risk</td>\n",
              "    </tr>\n",
              "    <tr>\n",
              "      <th>...</th>\n",
              "      <td>...</td>\n",
              "      <td>...</td>\n",
              "      <td>...</td>\n",
              "      <td>...</td>\n",
              "    </tr>\n",
              "    <tr>\n",
              "      <th>995</th>\n",
              "      <td>102.0</td>\n",
              "      <td>86.0</td>\n",
              "      <td>91.0</td>\n",
              "      <td>possible risk</td>\n",
              "    </tr>\n",
              "    <tr>\n",
              "      <th>996</th>\n",
              "      <td>97.0</td>\n",
              "      <td>98.0</td>\n",
              "      <td>92.0</td>\n",
              "      <td>no possible risk</td>\n",
              "    </tr>\n",
              "    <tr>\n",
              "      <th>997</th>\n",
              "      <td>97.0</td>\n",
              "      <td>90.0</td>\n",
              "      <td>88.0</td>\n",
              "      <td>no possible risk</td>\n",
              "    </tr>\n",
              "    <tr>\n",
              "      <th>998</th>\n",
              "      <td>105.0</td>\n",
              "      <td>93.0</td>\n",
              "      <td>130.0</td>\n",
              "      <td>no possible risk</td>\n",
              "    </tr>\n",
              "    <tr>\n",
              "      <th>999</th>\n",
              "      <td>96.0</td>\n",
              "      <td>97.0</td>\n",
              "      <td>65.0</td>\n",
              "      <td>no possible risk</td>\n",
              "    </tr>\n",
              "  </tbody>\n",
              "</table>\n",
              "<p>1000 rows × 4 columns</p>\n",
              "</div>\n",
              "      <button class=\"colab-df-convert\" onclick=\"convertToInteractive('df-6dc0a515-dc4f-442a-a4e6-edc817ac246e')\"\n",
              "              title=\"Convert this dataframe to an interactive table.\"\n",
              "              style=\"display:none;\">\n",
              "        \n",
              "  <svg xmlns=\"http://www.w3.org/2000/svg\" height=\"24px\"viewBox=\"0 0 24 24\"\n",
              "       width=\"24px\">\n",
              "    <path d=\"M0 0h24v24H0V0z\" fill=\"none\"/>\n",
              "    <path d=\"M18.56 5.44l.94 2.06.94-2.06 2.06-.94-2.06-.94-.94-2.06-.94 2.06-2.06.94zm-11 1L8.5 8.5l.94-2.06 2.06-.94-2.06-.94L8.5 2.5l-.94 2.06-2.06.94zm10 10l.94 2.06.94-2.06 2.06-.94-2.06-.94-.94-2.06-.94 2.06-2.06.94z\"/><path d=\"M17.41 7.96l-1.37-1.37c-.4-.4-.92-.59-1.43-.59-.52 0-1.04.2-1.43.59L10.3 9.45l-7.72 7.72c-.78.78-.78 2.05 0 2.83L4 21.41c.39.39.9.59 1.41.59.51 0 1.02-.2 1.41-.59l7.78-7.78 2.81-2.81c.8-.78.8-2.07 0-2.86zM5.41 20L4 18.59l7.72-7.72 1.47 1.35L5.41 20z\"/>\n",
              "  </svg>\n",
              "      </button>\n",
              "      \n",
              "  <style>\n",
              "    .colab-df-container {\n",
              "      display:flex;\n",
              "      flex-wrap:wrap;\n",
              "      gap: 12px;\n",
              "    }\n",
              "\n",
              "    .colab-df-convert {\n",
              "      background-color: #E8F0FE;\n",
              "      border: none;\n",
              "      border-radius: 50%;\n",
              "      cursor: pointer;\n",
              "      display: none;\n",
              "      fill: #1967D2;\n",
              "      height: 32px;\n",
              "      padding: 0 0 0 0;\n",
              "      width: 32px;\n",
              "    }\n",
              "\n",
              "    .colab-df-convert:hover {\n",
              "      background-color: #E2EBFA;\n",
              "      box-shadow: 0px 1px 2px rgba(60, 64, 67, 0.3), 0px 1px 3px 1px rgba(60, 64, 67, 0.15);\n",
              "      fill: #174EA6;\n",
              "    }\n",
              "\n",
              "    [theme=dark] .colab-df-convert {\n",
              "      background-color: #3B4455;\n",
              "      fill: #D2E3FC;\n",
              "    }\n",
              "\n",
              "    [theme=dark] .colab-df-convert:hover {\n",
              "      background-color: #434B5C;\n",
              "      box-shadow: 0px 1px 3px 1px rgba(0, 0, 0, 0.15);\n",
              "      filter: drop-shadow(0px 1px 2px rgba(0, 0, 0, 0.3));\n",
              "      fill: #FFFFFF;\n",
              "    }\n",
              "  </style>\n",
              "\n",
              "      <script>\n",
              "        const buttonEl =\n",
              "          document.querySelector('#df-6dc0a515-dc4f-442a-a4e6-edc817ac246e button.colab-df-convert');\n",
              "        buttonEl.style.display =\n",
              "          google.colab.kernel.accessAllowed ? 'block' : 'none';\n",
              "\n",
              "        async function convertToInteractive(key) {\n",
              "          const element = document.querySelector('#df-6dc0a515-dc4f-442a-a4e6-edc817ac246e');\n",
              "          const dataTable =\n",
              "            await google.colab.kernel.invokeFunction('convertToInteractive',\n",
              "                                                     [key], {});\n",
              "          if (!dataTable) return;\n",
              "\n",
              "          const docLinkHtml = 'Like what you see? Visit the ' +\n",
              "            '<a target=\"_blank\" href=https://colab.research.google.com/notebooks/data_table.ipynb>data table notebook</a>'\n",
              "            + ' to learn more about interactive tables.';\n",
              "          element.innerHTML = '';\n",
              "          dataTable['output_type'] = 'display_data';\n",
              "          await google.colab.output.renderOutput(dataTable, element);\n",
              "          const docLink = document.createElement('div');\n",
              "          docLink.innerHTML = docLinkHtml;\n",
              "          element.appendChild(docLink);\n",
              "        }\n",
              "      </script>\n",
              "    </div>\n",
              "  </div>\n",
              "  "
            ]
          },
          "metadata": {},
          "execution_count": 9
        }
      ],
      "source": [
        "#concatinating the two tables.\n",
        "import pandas as pd\n",
        "result = pd.concat([df, df1], axis=1)\n",
        "result"
      ]
    },
    {
      "cell_type": "code",
      "execution_count": 10,
      "metadata": {
        "id": "wAaJf9OkRzUZ"
      },
      "outputs": [],
      "source": [
        "#Exporting the table into a .csv file\n",
        "result.to_csv(\"result1.csv\")"
      ]
    },
    {
      "cell_type": "markdown",
      "metadata": {
        "id": "2-j1ErWMtGW3"
      },
      "source": [
        "#MACHINE LEARNING MODEL "
      ]
    },
    {
      "cell_type": "code",
      "execution_count": 11,
      "metadata": {
        "id": "cfokxAjGtFje"
      },
      "outputs": [],
      "source": [
        "#Importing required libraries for the KNN and Logistic Regression.\n",
        "import pandas as pd\n",
        "from sklearn.tree import DecisionTreeClassifier # Import Decision Tree Classifier\n",
        "from sklearn.model_selection import train_test_split # Import train_test_split function\n",
        "from sklearn import metrics #Import scikit-learn metrics module for accuracy calculation"
      ]
    },
    {
      "cell_type": "code",
      "execution_count": 13,
      "metadata": {
        "colab": {
          "base_uri": "https://localhost:8080/",
          "height": 424
        },
        "id": "tco5KiQSZutE",
        "outputId": "9f33f807-7aab-4609-aa56-0efa8e86a1d9"
      },
      "outputs": [
        {
          "output_type": "execute_result",
          "data": {
            "text/plain": [
              "     Unnamed: 0  temp  oxygen  heart beat                  prediction\n",
              "0             0   105      99         109            no possible risk\n",
              "1             1   100      89          95               possible risk\n",
              "2             2    99      93         123            no possible risk\n",
              "3             3   103      89          96               possible risk\n",
              "4             4   104      96          67            no possible risk\n",
              "..          ...   ...     ...         ...                         ...\n",
              "995         995    99      87          77  need further investigation\n",
              "996         996   104      87          90               possible risk\n",
              "997         997   100      93          62            no possible risk\n",
              "998         998    96      89         106               possible risk\n",
              "999         999   100      85         125               possible risk\n",
              "\n",
              "[1000 rows x 5 columns]"
            ],
            "text/html": [
              "\n",
              "  <div id=\"df-e682b4f9-ddb3-4ded-b044-8aeb355f7c94\">\n",
              "    <div class=\"colab-df-container\">\n",
              "      <div>\n",
              "<style scoped>\n",
              "    .dataframe tbody tr th:only-of-type {\n",
              "        vertical-align: middle;\n",
              "    }\n",
              "\n",
              "    .dataframe tbody tr th {\n",
              "        vertical-align: top;\n",
              "    }\n",
              "\n",
              "    .dataframe thead th {\n",
              "        text-align: right;\n",
              "    }\n",
              "</style>\n",
              "<table border=\"1\" class=\"dataframe\">\n",
              "  <thead>\n",
              "    <tr style=\"text-align: right;\">\n",
              "      <th></th>\n",
              "      <th>Unnamed: 0</th>\n",
              "      <th>temp</th>\n",
              "      <th>oxygen</th>\n",
              "      <th>heart beat</th>\n",
              "      <th>prediction</th>\n",
              "    </tr>\n",
              "  </thead>\n",
              "  <tbody>\n",
              "    <tr>\n",
              "      <th>0</th>\n",
              "      <td>0</td>\n",
              "      <td>105</td>\n",
              "      <td>99</td>\n",
              "      <td>109</td>\n",
              "      <td>no possible risk</td>\n",
              "    </tr>\n",
              "    <tr>\n",
              "      <th>1</th>\n",
              "      <td>1</td>\n",
              "      <td>100</td>\n",
              "      <td>89</td>\n",
              "      <td>95</td>\n",
              "      <td>possible risk</td>\n",
              "    </tr>\n",
              "    <tr>\n",
              "      <th>2</th>\n",
              "      <td>2</td>\n",
              "      <td>99</td>\n",
              "      <td>93</td>\n",
              "      <td>123</td>\n",
              "      <td>no possible risk</td>\n",
              "    </tr>\n",
              "    <tr>\n",
              "      <th>3</th>\n",
              "      <td>3</td>\n",
              "      <td>103</td>\n",
              "      <td>89</td>\n",
              "      <td>96</td>\n",
              "      <td>possible risk</td>\n",
              "    </tr>\n",
              "    <tr>\n",
              "      <th>4</th>\n",
              "      <td>4</td>\n",
              "      <td>104</td>\n",
              "      <td>96</td>\n",
              "      <td>67</td>\n",
              "      <td>no possible risk</td>\n",
              "    </tr>\n",
              "    <tr>\n",
              "      <th>...</th>\n",
              "      <td>...</td>\n",
              "      <td>...</td>\n",
              "      <td>...</td>\n",
              "      <td>...</td>\n",
              "      <td>...</td>\n",
              "    </tr>\n",
              "    <tr>\n",
              "      <th>995</th>\n",
              "      <td>995</td>\n",
              "      <td>99</td>\n",
              "      <td>87</td>\n",
              "      <td>77</td>\n",
              "      <td>need further investigation</td>\n",
              "    </tr>\n",
              "    <tr>\n",
              "      <th>996</th>\n",
              "      <td>996</td>\n",
              "      <td>104</td>\n",
              "      <td>87</td>\n",
              "      <td>90</td>\n",
              "      <td>possible risk</td>\n",
              "    </tr>\n",
              "    <tr>\n",
              "      <th>997</th>\n",
              "      <td>997</td>\n",
              "      <td>100</td>\n",
              "      <td>93</td>\n",
              "      <td>62</td>\n",
              "      <td>no possible risk</td>\n",
              "    </tr>\n",
              "    <tr>\n",
              "      <th>998</th>\n",
              "      <td>998</td>\n",
              "      <td>96</td>\n",
              "      <td>89</td>\n",
              "      <td>106</td>\n",
              "      <td>possible risk</td>\n",
              "    </tr>\n",
              "    <tr>\n",
              "      <th>999</th>\n",
              "      <td>999</td>\n",
              "      <td>100</td>\n",
              "      <td>85</td>\n",
              "      <td>125</td>\n",
              "      <td>possible risk</td>\n",
              "    </tr>\n",
              "  </tbody>\n",
              "</table>\n",
              "<p>1000 rows × 5 columns</p>\n",
              "</div>\n",
              "      <button class=\"colab-df-convert\" onclick=\"convertToInteractive('df-e682b4f9-ddb3-4ded-b044-8aeb355f7c94')\"\n",
              "              title=\"Convert this dataframe to an interactive table.\"\n",
              "              style=\"display:none;\">\n",
              "        \n",
              "  <svg xmlns=\"http://www.w3.org/2000/svg\" height=\"24px\"viewBox=\"0 0 24 24\"\n",
              "       width=\"24px\">\n",
              "    <path d=\"M0 0h24v24H0V0z\" fill=\"none\"/>\n",
              "    <path d=\"M18.56 5.44l.94 2.06.94-2.06 2.06-.94-2.06-.94-.94-2.06-.94 2.06-2.06.94zm-11 1L8.5 8.5l.94-2.06 2.06-.94-2.06-.94L8.5 2.5l-.94 2.06-2.06.94zm10 10l.94 2.06.94-2.06 2.06-.94-2.06-.94-.94-2.06-.94 2.06-2.06.94z\"/><path d=\"M17.41 7.96l-1.37-1.37c-.4-.4-.92-.59-1.43-.59-.52 0-1.04.2-1.43.59L10.3 9.45l-7.72 7.72c-.78.78-.78 2.05 0 2.83L4 21.41c.39.39.9.59 1.41.59.51 0 1.02-.2 1.41-.59l7.78-7.78 2.81-2.81c.8-.78.8-2.07 0-2.86zM5.41 20L4 18.59l7.72-7.72 1.47 1.35L5.41 20z\"/>\n",
              "  </svg>\n",
              "      </button>\n",
              "      \n",
              "  <style>\n",
              "    .colab-df-container {\n",
              "      display:flex;\n",
              "      flex-wrap:wrap;\n",
              "      gap: 12px;\n",
              "    }\n",
              "\n",
              "    .colab-df-convert {\n",
              "      background-color: #E8F0FE;\n",
              "      border: none;\n",
              "      border-radius: 50%;\n",
              "      cursor: pointer;\n",
              "      display: none;\n",
              "      fill: #1967D2;\n",
              "      height: 32px;\n",
              "      padding: 0 0 0 0;\n",
              "      width: 32px;\n",
              "    }\n",
              "\n",
              "    .colab-df-convert:hover {\n",
              "      background-color: #E2EBFA;\n",
              "      box-shadow: 0px 1px 2px rgba(60, 64, 67, 0.3), 0px 1px 3px 1px rgba(60, 64, 67, 0.15);\n",
              "      fill: #174EA6;\n",
              "    }\n",
              "\n",
              "    [theme=dark] .colab-df-convert {\n",
              "      background-color: #3B4455;\n",
              "      fill: #D2E3FC;\n",
              "    }\n",
              "\n",
              "    [theme=dark] .colab-df-convert:hover {\n",
              "      background-color: #434B5C;\n",
              "      box-shadow: 0px 1px 3px 1px rgba(0, 0, 0, 0.15);\n",
              "      filter: drop-shadow(0px 1px 2px rgba(0, 0, 0, 0.3));\n",
              "      fill: #FFFFFF;\n",
              "    }\n",
              "  </style>\n",
              "\n",
              "      <script>\n",
              "        const buttonEl =\n",
              "          document.querySelector('#df-e682b4f9-ddb3-4ded-b044-8aeb355f7c94 button.colab-df-convert');\n",
              "        buttonEl.style.display =\n",
              "          google.colab.kernel.accessAllowed ? 'block' : 'none';\n",
              "\n",
              "        async function convertToInteractive(key) {\n",
              "          const element = document.querySelector('#df-e682b4f9-ddb3-4ded-b044-8aeb355f7c94');\n",
              "          const dataTable =\n",
              "            await google.colab.kernel.invokeFunction('convertToInteractive',\n",
              "                                                     [key], {});\n",
              "          if (!dataTable) return;\n",
              "\n",
              "          const docLinkHtml = 'Like what you see? Visit the ' +\n",
              "            '<a target=\"_blank\" href=https://colab.research.google.com/notebooks/data_table.ipynb>data table notebook</a>'\n",
              "            + ' to learn more about interactive tables.';\n",
              "          element.innerHTML = '';\n",
              "          dataTable['output_type'] = 'display_data';\n",
              "          await google.colab.output.renderOutput(dataTable, element);\n",
              "          const docLink = document.createElement('div');\n",
              "          docLink.innerHTML = docLinkHtml;\n",
              "          element.appendChild(docLink);\n",
              "        }\n",
              "      </script>\n",
              "    </div>\n",
              "  </div>\n",
              "  "
            ]
          },
          "metadata": {},
          "execution_count": 13
        }
      ],
      "source": [
        "df=pd.read_csv(\"result1_final_csv.csv\")\n",
        "df"
      ]
    },
    {
      "cell_type": "code",
      "execution_count": 15,
      "metadata": {
        "id": "ok0t4pu_bLG_"
      },
      "outputs": [],
      "source": [
        "y=df[\"prediction\"]"
      ]
    },
    {
      "cell_type": "code",
      "execution_count": 17,
      "metadata": {
        "id": "otO4LkxSbdrO"
      },
      "outputs": [],
      "source": [
        "X=df.drop(\"prediction\",axis=1) #dropping last column"
      ]
    },
    {
      "cell_type": "code",
      "execution_count": 18,
      "metadata": {
        "id": "ex-kPtukcofJ"
      },
      "outputs": [],
      "source": [
        "X=X.drop(\"Unnamed: 0\",axis=1) #dropping missing value entries"
      ]
    },
    {
      "cell_type": "code",
      "execution_count": 19,
      "metadata": {
        "colab": {
          "base_uri": "https://localhost:8080/",
          "height": 206
        },
        "id": "TC3M5lIJcFTo",
        "outputId": "bebee870-586f-4e82-d600-0e87239ac45d",
        "scrolled": false
      },
      "outputs": [
        {
          "output_type": "execute_result",
          "data": {
            "text/plain": [
              "   temp  oxygen  heart beat\n",
              "0   105      99         109\n",
              "1   100      89          95\n",
              "2    99      93         123\n",
              "3   103      89          96\n",
              "4   104      96          67"
            ],
            "text/html": [
              "\n",
              "  <div id=\"df-a83591a6-554f-458c-ad28-9b801a12cacf\">\n",
              "    <div class=\"colab-df-container\">\n",
              "      <div>\n",
              "<style scoped>\n",
              "    .dataframe tbody tr th:only-of-type {\n",
              "        vertical-align: middle;\n",
              "    }\n",
              "\n",
              "    .dataframe tbody tr th {\n",
              "        vertical-align: top;\n",
              "    }\n",
              "\n",
              "    .dataframe thead th {\n",
              "        text-align: right;\n",
              "    }\n",
              "</style>\n",
              "<table border=\"1\" class=\"dataframe\">\n",
              "  <thead>\n",
              "    <tr style=\"text-align: right;\">\n",
              "      <th></th>\n",
              "      <th>temp</th>\n",
              "      <th>oxygen</th>\n",
              "      <th>heart beat</th>\n",
              "    </tr>\n",
              "  </thead>\n",
              "  <tbody>\n",
              "    <tr>\n",
              "      <th>0</th>\n",
              "      <td>105</td>\n",
              "      <td>99</td>\n",
              "      <td>109</td>\n",
              "    </tr>\n",
              "    <tr>\n",
              "      <th>1</th>\n",
              "      <td>100</td>\n",
              "      <td>89</td>\n",
              "      <td>95</td>\n",
              "    </tr>\n",
              "    <tr>\n",
              "      <th>2</th>\n",
              "      <td>99</td>\n",
              "      <td>93</td>\n",
              "      <td>123</td>\n",
              "    </tr>\n",
              "    <tr>\n",
              "      <th>3</th>\n",
              "      <td>103</td>\n",
              "      <td>89</td>\n",
              "      <td>96</td>\n",
              "    </tr>\n",
              "    <tr>\n",
              "      <th>4</th>\n",
              "      <td>104</td>\n",
              "      <td>96</td>\n",
              "      <td>67</td>\n",
              "    </tr>\n",
              "  </tbody>\n",
              "</table>\n",
              "</div>\n",
              "      <button class=\"colab-df-convert\" onclick=\"convertToInteractive('df-a83591a6-554f-458c-ad28-9b801a12cacf')\"\n",
              "              title=\"Convert this dataframe to an interactive table.\"\n",
              "              style=\"display:none;\">\n",
              "        \n",
              "  <svg xmlns=\"http://www.w3.org/2000/svg\" height=\"24px\"viewBox=\"0 0 24 24\"\n",
              "       width=\"24px\">\n",
              "    <path d=\"M0 0h24v24H0V0z\" fill=\"none\"/>\n",
              "    <path d=\"M18.56 5.44l.94 2.06.94-2.06 2.06-.94-2.06-.94-.94-2.06-.94 2.06-2.06.94zm-11 1L8.5 8.5l.94-2.06 2.06-.94-2.06-.94L8.5 2.5l-.94 2.06-2.06.94zm10 10l.94 2.06.94-2.06 2.06-.94-2.06-.94-.94-2.06-.94 2.06-2.06.94z\"/><path d=\"M17.41 7.96l-1.37-1.37c-.4-.4-.92-.59-1.43-.59-.52 0-1.04.2-1.43.59L10.3 9.45l-7.72 7.72c-.78.78-.78 2.05 0 2.83L4 21.41c.39.39.9.59 1.41.59.51 0 1.02-.2 1.41-.59l7.78-7.78 2.81-2.81c.8-.78.8-2.07 0-2.86zM5.41 20L4 18.59l7.72-7.72 1.47 1.35L5.41 20z\"/>\n",
              "  </svg>\n",
              "      </button>\n",
              "      \n",
              "  <style>\n",
              "    .colab-df-container {\n",
              "      display:flex;\n",
              "      flex-wrap:wrap;\n",
              "      gap: 12px;\n",
              "    }\n",
              "\n",
              "    .colab-df-convert {\n",
              "      background-color: #E8F0FE;\n",
              "      border: none;\n",
              "      border-radius: 50%;\n",
              "      cursor: pointer;\n",
              "      display: none;\n",
              "      fill: #1967D2;\n",
              "      height: 32px;\n",
              "      padding: 0 0 0 0;\n",
              "      width: 32px;\n",
              "    }\n",
              "\n",
              "    .colab-df-convert:hover {\n",
              "      background-color: #E2EBFA;\n",
              "      box-shadow: 0px 1px 2px rgba(60, 64, 67, 0.3), 0px 1px 3px 1px rgba(60, 64, 67, 0.15);\n",
              "      fill: #174EA6;\n",
              "    }\n",
              "\n",
              "    [theme=dark] .colab-df-convert {\n",
              "      background-color: #3B4455;\n",
              "      fill: #D2E3FC;\n",
              "    }\n",
              "\n",
              "    [theme=dark] .colab-df-convert:hover {\n",
              "      background-color: #434B5C;\n",
              "      box-shadow: 0px 1px 3px 1px rgba(0, 0, 0, 0.15);\n",
              "      filter: drop-shadow(0px 1px 2px rgba(0, 0, 0, 0.3));\n",
              "      fill: #FFFFFF;\n",
              "    }\n",
              "  </style>\n",
              "\n",
              "      <script>\n",
              "        const buttonEl =\n",
              "          document.querySelector('#df-a83591a6-554f-458c-ad28-9b801a12cacf button.colab-df-convert');\n",
              "        buttonEl.style.display =\n",
              "          google.colab.kernel.accessAllowed ? 'block' : 'none';\n",
              "\n",
              "        async function convertToInteractive(key) {\n",
              "          const element = document.querySelector('#df-a83591a6-554f-458c-ad28-9b801a12cacf');\n",
              "          const dataTable =\n",
              "            await google.colab.kernel.invokeFunction('convertToInteractive',\n",
              "                                                     [key], {});\n",
              "          if (!dataTable) return;\n",
              "\n",
              "          const docLinkHtml = 'Like what you see? Visit the ' +\n",
              "            '<a target=\"_blank\" href=https://colab.research.google.com/notebooks/data_table.ipynb>data table notebook</a>'\n",
              "            + ' to learn more about interactive tables.';\n",
              "          element.innerHTML = '';\n",
              "          dataTable['output_type'] = 'display_data';\n",
              "          await google.colab.output.renderOutput(dataTable, element);\n",
              "          const docLink = document.createElement('div');\n",
              "          docLink.innerHTML = docLinkHtml;\n",
              "          element.appendChild(docLink);\n",
              "        }\n",
              "      </script>\n",
              "    </div>\n",
              "  </div>\n",
              "  "
            ]
          },
          "metadata": {},
          "execution_count": 19
        }
      ],
      "source": [
        "X.head()"
      ]
    },
    {
      "cell_type": "code",
      "execution_count": 20,
      "metadata": {
        "colab": {
          "base_uri": "https://localhost:8080/",
          "height": 300
        },
        "id": "3YhMah0xhHG9",
        "outputId": "5ffacec6-0265-4ab3-8d2a-4aa9c70bd5a6"
      },
      "outputs": [
        {
          "output_type": "execute_result",
          "data": {
            "text/plain": [
              "              temp       oxygen   heart beat\n",
              "count  1000.000000  1000.000000  1000.000000\n",
              "mean    100.450000    91.651000    94.583000\n",
              "std       2.928494     4.233571    20.675846\n",
              "min      96.000000    85.000000    60.000000\n",
              "25%      98.000000    88.000000    77.000000\n",
              "50%     100.000000    91.000000    93.000000\n",
              "75%     103.000000    95.000000   112.000000\n",
              "max     105.000000    99.000000   130.000000"
            ],
            "text/html": [
              "\n",
              "  <div id=\"df-29695ff9-4a15-4083-b310-e19887ba9579\">\n",
              "    <div class=\"colab-df-container\">\n",
              "      <div>\n",
              "<style scoped>\n",
              "    .dataframe tbody tr th:only-of-type {\n",
              "        vertical-align: middle;\n",
              "    }\n",
              "\n",
              "    .dataframe tbody tr th {\n",
              "        vertical-align: top;\n",
              "    }\n",
              "\n",
              "    .dataframe thead th {\n",
              "        text-align: right;\n",
              "    }\n",
              "</style>\n",
              "<table border=\"1\" class=\"dataframe\">\n",
              "  <thead>\n",
              "    <tr style=\"text-align: right;\">\n",
              "      <th></th>\n",
              "      <th>temp</th>\n",
              "      <th>oxygen</th>\n",
              "      <th>heart beat</th>\n",
              "    </tr>\n",
              "  </thead>\n",
              "  <tbody>\n",
              "    <tr>\n",
              "      <th>count</th>\n",
              "      <td>1000.000000</td>\n",
              "      <td>1000.000000</td>\n",
              "      <td>1000.000000</td>\n",
              "    </tr>\n",
              "    <tr>\n",
              "      <th>mean</th>\n",
              "      <td>100.450000</td>\n",
              "      <td>91.651000</td>\n",
              "      <td>94.583000</td>\n",
              "    </tr>\n",
              "    <tr>\n",
              "      <th>std</th>\n",
              "      <td>2.928494</td>\n",
              "      <td>4.233571</td>\n",
              "      <td>20.675846</td>\n",
              "    </tr>\n",
              "    <tr>\n",
              "      <th>min</th>\n",
              "      <td>96.000000</td>\n",
              "      <td>85.000000</td>\n",
              "      <td>60.000000</td>\n",
              "    </tr>\n",
              "    <tr>\n",
              "      <th>25%</th>\n",
              "      <td>98.000000</td>\n",
              "      <td>88.000000</td>\n",
              "      <td>77.000000</td>\n",
              "    </tr>\n",
              "    <tr>\n",
              "      <th>50%</th>\n",
              "      <td>100.000000</td>\n",
              "      <td>91.000000</td>\n",
              "      <td>93.000000</td>\n",
              "    </tr>\n",
              "    <tr>\n",
              "      <th>75%</th>\n",
              "      <td>103.000000</td>\n",
              "      <td>95.000000</td>\n",
              "      <td>112.000000</td>\n",
              "    </tr>\n",
              "    <tr>\n",
              "      <th>max</th>\n",
              "      <td>105.000000</td>\n",
              "      <td>99.000000</td>\n",
              "      <td>130.000000</td>\n",
              "    </tr>\n",
              "  </tbody>\n",
              "</table>\n",
              "</div>\n",
              "      <button class=\"colab-df-convert\" onclick=\"convertToInteractive('df-29695ff9-4a15-4083-b310-e19887ba9579')\"\n",
              "              title=\"Convert this dataframe to an interactive table.\"\n",
              "              style=\"display:none;\">\n",
              "        \n",
              "  <svg xmlns=\"http://www.w3.org/2000/svg\" height=\"24px\"viewBox=\"0 0 24 24\"\n",
              "       width=\"24px\">\n",
              "    <path d=\"M0 0h24v24H0V0z\" fill=\"none\"/>\n",
              "    <path d=\"M18.56 5.44l.94 2.06.94-2.06 2.06-.94-2.06-.94-.94-2.06-.94 2.06-2.06.94zm-11 1L8.5 8.5l.94-2.06 2.06-.94-2.06-.94L8.5 2.5l-.94 2.06-2.06.94zm10 10l.94 2.06.94-2.06 2.06-.94-2.06-.94-.94-2.06-.94 2.06-2.06.94z\"/><path d=\"M17.41 7.96l-1.37-1.37c-.4-.4-.92-.59-1.43-.59-.52 0-1.04.2-1.43.59L10.3 9.45l-7.72 7.72c-.78.78-.78 2.05 0 2.83L4 21.41c.39.39.9.59 1.41.59.51 0 1.02-.2 1.41-.59l7.78-7.78 2.81-2.81c.8-.78.8-2.07 0-2.86zM5.41 20L4 18.59l7.72-7.72 1.47 1.35L5.41 20z\"/>\n",
              "  </svg>\n",
              "      </button>\n",
              "      \n",
              "  <style>\n",
              "    .colab-df-container {\n",
              "      display:flex;\n",
              "      flex-wrap:wrap;\n",
              "      gap: 12px;\n",
              "    }\n",
              "\n",
              "    .colab-df-convert {\n",
              "      background-color: #E8F0FE;\n",
              "      border: none;\n",
              "      border-radius: 50%;\n",
              "      cursor: pointer;\n",
              "      display: none;\n",
              "      fill: #1967D2;\n",
              "      height: 32px;\n",
              "      padding: 0 0 0 0;\n",
              "      width: 32px;\n",
              "    }\n",
              "\n",
              "    .colab-df-convert:hover {\n",
              "      background-color: #E2EBFA;\n",
              "      box-shadow: 0px 1px 2px rgba(60, 64, 67, 0.3), 0px 1px 3px 1px rgba(60, 64, 67, 0.15);\n",
              "      fill: #174EA6;\n",
              "    }\n",
              "\n",
              "    [theme=dark] .colab-df-convert {\n",
              "      background-color: #3B4455;\n",
              "      fill: #D2E3FC;\n",
              "    }\n",
              "\n",
              "    [theme=dark] .colab-df-convert:hover {\n",
              "      background-color: #434B5C;\n",
              "      box-shadow: 0px 1px 3px 1px rgba(0, 0, 0, 0.15);\n",
              "      filter: drop-shadow(0px 1px 2px rgba(0, 0, 0, 0.3));\n",
              "      fill: #FFFFFF;\n",
              "    }\n",
              "  </style>\n",
              "\n",
              "      <script>\n",
              "        const buttonEl =\n",
              "          document.querySelector('#df-29695ff9-4a15-4083-b310-e19887ba9579 button.colab-df-convert');\n",
              "        buttonEl.style.display =\n",
              "          google.colab.kernel.accessAllowed ? 'block' : 'none';\n",
              "\n",
              "        async function convertToInteractive(key) {\n",
              "          const element = document.querySelector('#df-29695ff9-4a15-4083-b310-e19887ba9579');\n",
              "          const dataTable =\n",
              "            await google.colab.kernel.invokeFunction('convertToInteractive',\n",
              "                                                     [key], {});\n",
              "          if (!dataTable) return;\n",
              "\n",
              "          const docLinkHtml = 'Like what you see? Visit the ' +\n",
              "            '<a target=\"_blank\" href=https://colab.research.google.com/notebooks/data_table.ipynb>data table notebook</a>'\n",
              "            + ' to learn more about interactive tables.';\n",
              "          element.innerHTML = '';\n",
              "          dataTable['output_type'] = 'display_data';\n",
              "          await google.colab.output.renderOutput(dataTable, element);\n",
              "          const docLink = document.createElement('div');\n",
              "          docLink.innerHTML = docLinkHtml;\n",
              "          element.appendChild(docLink);\n",
              "        }\n",
              "      </script>\n",
              "    </div>\n",
              "  </div>\n",
              "  "
            ]
          },
          "metadata": {},
          "execution_count": 20
        }
      ],
      "source": [
        "X.describe()"
      ]
    },
    {
      "cell_type": "code",
      "execution_count": 21,
      "metadata": {
        "id": "d2A9u5cfbr6q"
      },
      "outputs": [],
      "source": [
        "from sklearn.model_selection import train_test_split"
      ]
    },
    {
      "cell_type": "code",
      "execution_count": 23,
      "metadata": {
        "id": "frrhImwcbvyz"
      },
      "outputs": [],
      "source": [
        "#splitting on size 0.3 for test 0.7 for train.\n",
        "X_train,X_test,y_train,y_test=train_test_split(X,y,test_size=0.3,random_state=42,stratify=y) "
      ]
    },
    {
      "cell_type": "code",
      "execution_count": 24,
      "metadata": {
        "id": "vPVTjvxQdOfO"
      },
      "outputs": [],
      "source": [
        "from sklearn.preprocessing import MinMaxScaler"
      ]
    },
    {
      "cell_type": "code",
      "execution_count": 25,
      "metadata": {
        "id": "P_9Ep2eYdPjW"
      },
      "outputs": [],
      "source": [
        "scaler=MinMaxScaler()\n",
        "X_train=scaler.fit_transform(X_train)\n",
        "X_test=scaler.transform(X_test)"
      ]
    },
    {
      "cell_type": "markdown",
      "metadata": {
        "id": "PQ7zFokDderb"
      },
      "source": [
        "#KNN\n"
      ]
    },
    {
      "cell_type": "code",
      "execution_count": 26,
      "metadata": {
        "id": "y7ZuIbBQdeMO"
      },
      "outputs": [],
      "source": [
        "from sklearn.neighbors import KNeighborsClassifier  #training"
      ]
    },
    {
      "cell_type": "code",
      "execution_count": 27,
      "metadata": {
        "id": "_Lf8AnZbdlzG"
      },
      "outputs": [],
      "source": [
        "model=KNeighborsClassifier(n_neighbors=2)"
      ]
    },
    {
      "cell_type": "code",
      "execution_count": 28,
      "metadata": {
        "colab": {
          "base_uri": "https://localhost:8080/"
        },
        "id": "7A7jSdKNdpBl",
        "outputId": "2049f1fb-0cef-4847-bdcb-ffc41fde4f92"
      },
      "outputs": [
        {
          "output_type": "execute_result",
          "data": {
            "text/plain": [
              "KNeighborsClassifier(n_neighbors=2)"
            ]
          },
          "metadata": {},
          "execution_count": 28
        }
      ],
      "source": [
        "model.fit(X_train,y_train)"
      ]
    },
    {
      "cell_type": "code",
      "execution_count": 29,
      "metadata": {
        "colab": {
          "base_uri": "https://localhost:8080/"
        },
        "id": "rEE3tOnLdseN",
        "outputId": "56a90f05-1727-4142-c236-77ba03ddfd8e"
      },
      "outputs": [
        {
          "output_type": "execute_result",
          "data": {
            "text/plain": [
              "0.9633333333333334"
            ]
          },
          "metadata": {},
          "execution_count": 29
        }
      ],
      "source": [
        "model.score(X_test,y_test)"
      ]
    },
    {
      "cell_type": "markdown",
      "metadata": {
        "id": "AXxiShxTeFpa"
      },
      "source": [
        "#KNN prediction"
      ]
    },
    {
      "cell_type": "code",
      "execution_count": 30,
      "metadata": {
        "id": "BeD-YY43eEP_"
      },
      "outputs": [],
      "source": [
        "data=pd.DataFrame({0:[96],1:[99],2:[72]})"
      ]
    },
    {
      "cell_type": "code",
      "execution_count": 31,
      "metadata": {
        "id": "Qb6yctX_eZjs",
        "colab": {
          "base_uri": "https://localhost:8080/"
        },
        "outputId": "c043f336-c25d-465b-8f74-48db49701ac9"
      },
      "outputs": [
        {
          "output_type": "stream",
          "name": "stderr",
          "text": [
            "/usr/local/lib/python3.7/dist-packages/sklearn/base.py:451: UserWarning: X does not have valid feature names, but MinMaxScaler was fitted with feature names\n",
            "  \"X does not have valid feature names, but\"\n"
          ]
        }
      ],
      "source": [
        "data=scaler.transform(data)"
      ]
    },
    {
      "cell_type": "code",
      "execution_count": 32,
      "metadata": {
        "colab": {
          "base_uri": "https://localhost:8080/"
        },
        "id": "TLLDRhiwehQL",
        "outputId": "fabe6597-2023-4ae3-d260-a91a27947435"
      },
      "outputs": [
        {
          "output_type": "execute_result",
          "data": {
            "text/plain": [
              "array(['no possible risk'], dtype=object)"
            ]
          },
          "metadata": {},
          "execution_count": 32
        }
      ],
      "source": [
        "model.predict(data)"
      ]
    },
    {
      "cell_type": "markdown",
      "metadata": {
        "id": "ZweZ860phYPJ"
      },
      "source": [
        "logistic regression "
      ]
    },
    {
      "cell_type": "code",
      "execution_count": 33,
      "metadata": {
        "colab": {
          "base_uri": "https://localhost:8080/"
        },
        "id": "WwYi5simhXqy",
        "outputId": "3817f25b-7a1a-41b5-c658-d0e42029d6fc"
      },
      "outputs": [
        {
          "output_type": "execute_result",
          "data": {
            "text/plain": [
              "LogisticRegression()"
            ]
          },
          "metadata": {},
          "execution_count": 33
        }
      ],
      "source": [
        "from sklearn.linear_model import LogisticRegression\n",
        "model=LogisticRegression()\n",
        "model.fit(X_train,y_train)"
      ]
    },
    {
      "cell_type": "code",
      "execution_count": 34,
      "metadata": {
        "colab": {
          "base_uri": "https://localhost:8080/"
        },
        "id": "UQ2o2KwSjfSi",
        "outputId": "4e2e674c-17be-45bd-ce97-f2baaa045e1e",
        "scrolled": true
      },
      "outputs": [
        {
          "output_type": "execute_result",
          "data": {
            "text/plain": [
              "0.9233333333333333"
            ]
          },
          "metadata": {},
          "execution_count": 34
        }
      ],
      "source": [
        "model.score(X_test,y_test)"
      ]
    },
    {
      "cell_type": "code",
      "execution_count": 35,
      "metadata": {
        "colab": {
          "base_uri": "https://localhost:8080/"
        },
        "id": "xryZlt7BjlKg",
        "outputId": "b150e44d-ff14-4ebd-d81e-8924dbb98dbc"
      },
      "outputs": [
        {
          "output_type": "stream",
          "name": "stderr",
          "text": [
            "/usr/local/lib/python3.7/dist-packages/sklearn/base.py:451: UserWarning: X does not have valid feature names, but MinMaxScaler was fitted with feature names\n",
            "  \"X does not have valid feature names, but\"\n"
          ]
        },
        {
          "output_type": "execute_result",
          "data": {
            "text/plain": [
              "array(['no possible risk'], dtype=object)"
            ]
          },
          "metadata": {},
          "execution_count": 35
        }
      ],
      "source": [
        "data=pd.DataFrame({0:[96],1:[99],2:[72]})  #manual feed\n",
        "data=scaler.transform(data)\n",
        "model.predict(data)"
      ]
    }
  ],
  "metadata": {
    "colab": {
      "collapsed_sections": [],
      "name": "mini_project_FINAL.ipynb",
      "provenance": [],
      "include_colab_link": true
    },
    "kernelspec": {
      "display_name": "Python 3 (ipykernel)",
      "language": "python",
      "name": "python3"
    },
    "language_info": {
      "codemirror_mode": {
        "name": "ipython",
        "version": 3
      },
      "file_extension": ".py",
      "mimetype": "text/x-python",
      "name": "python",
      "nbconvert_exporter": "python",
      "pygments_lexer": "ipython3",
      "version": "3.9.7"
    }
  },
  "nbformat": 4,
  "nbformat_minor": 0
}